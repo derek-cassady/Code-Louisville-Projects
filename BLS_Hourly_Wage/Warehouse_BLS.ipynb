{
 "cells": [
  {
   "cell_type": "code",
   "execution_count": 1,
   "metadata": {},
   "outputs": [],
   "source": [
    "import requests\n",
    "import json\n",
    "import pandas as pd\n",
    "import openpyxl\n",
    "import matplotlib as mpl\n",
    "import matplotlib.pyplot as plt\n",
    "import plotly.express as px"
   ]
  },
  {
   "cell_type": "code",
   "execution_count": 2,
   "metadata": {},
   "outputs": [],
   "source": [
    "headers = {'Content-type': 'application/json'}"
   ]
  },
  {
   "cell_type": "code",
   "execution_count": 3,
   "metadata": {},
   "outputs": [],
   "source": [
    "rkey = (\"331efe7967c44039b40c36334f2014de\")"
   ]
  },
  {
   "cell_type": "code",
   "execution_count": 4,
   "metadata": {},
   "outputs": [
    {
     "name": "stdout",
     "output_type": "stream",
     "text": [
      "[2011, 2012, 2013, 2014, 2015, 2016, 2017, 2018, 2019, 2020, 2021]\n",
      "10\n"
     ]
    }
   ],
   "source": [
    "syear = 2011\n",
    "eyear = 2021\n",
    "ryear = eyear - syear\n",
    "y_list = list(range(syear,eyear))\n",
    "y_list.append(eyear)\n",
    "print(y_list)\n",
    "print(ryear)"
   ]
  },
  {
   "cell_type": "code",
   "execution_count": 5,
   "metadata": {},
   "outputs": [],
   "source": [
    "payload = json.dumps({\"seriesid\":[\"FWU00X00000081N00\", \n",
    "                                    \"FWU50X00000081N00\", \n",
    "                                    \"FWU50X49311X81N00\",\n",
    "                                    \"FWUAAX49311X81N00\",\n",
    "                                    \"FWUABX49311X81N00\", \n",
    "                                    \"FWUACX49311X81N00\", \n",
    "                                    \"FWUADX49311X81N00\", \n",
    "                                    \"FWUAEX49311X81N00\", \n",
    "                                    \"FWUAFX49311X81N00\", \n",
    "                                    \"FWUAGX49311X81N00\", \n",
    "                                    \"FWUAHX49311X81N00\", \n",
    "                                    \"FWUAIX49311X81N00\"], \n",
    "                                    \"startyear\":syear, \"endyear\":eyear,\n",
    "                                    \"catalog\":False, \n",
    "                                    \"calculations\":False, \n",
    "                                    \"annualaverage\":False,\n",
    "                                    \"aspects\":False,\n",
    "\"registrationkey\":rkey})\n",
    "\n",
    "f = requests.post('https://api.bls.gov/publicAPI/v2/timeseries/data/', data=payload, headers=headers)"
   ]
  },
  {
   "cell_type": "code",
   "execution_count": 6,
   "metadata": {},
   "outputs": [
    {
     "name": "stdout",
     "output_type": "stream",
     "text": [
      "{'status': 'REQUEST_SUCCEEDED', 'responseTime': 1859, 'message': ['No Data Available for Series FWUACX49311X81N00 Year: 2011', 'No Data Available for Series FWUACX49311X81N00 Year: 2012', 'No Data Available for Series FWUACX49311X81N00 Year: 2013', 'No Data Available for Series FWUACX49311X81N00 Year: 2014', 'No Data Available for Series FWUACX49311X81N00 Year: 2016', 'No Data Available for Series FWUACX49311X81N00 Year: 2017', 'No Data Available for Series FWUACX49311X81N00 Year: 2018', 'No Data Available for Series FWUACX49311X81N00 Year: 2019', 'No Data Available for Series FWUACX49311X81N00 Year: 2020', 'No Data Available for Series FWUACX49311X81N00 Year: 2021', 'No Data Available for Series FWUADX49311X81N00 Year: 2011', 'No Data Available for Series FWUADX49311X81N00 Year: 2012', 'No Data Available for Series FWUADX49311X81N00 Year: 2013', 'No Data Available for Series FWUADX49311X81N00 Year: 2014', 'No Data Available for Series FWUADX49311X81N00 Year: 2015', 'No Data Available for Series FWUADX49311X81N00 Year: 2017', 'No Data Available for Series FWUADX49311X81N00 Year: 2018', 'No Data Available for Series FWUADX49311X81N00 Year: 2019', 'No Data Available for Series FWUADX49311X81N00 Year: 2021', 'No Data Available for Series FWUAEX49311X81N00 Year: 2011', 'No Data Available for Series FWUAEX49311X81N00 Year: 2012', 'No Data Available for Series FWUAEX49311X81N00 Year: 2015', 'No Data Available for Series FWUAEX49311X81N00 Year: 2016', 'No Data Available for Series FWUAEX49311X81N00 Year: 2019', 'No Data Available for Series FWUAEX49311X81N00 Year: 2020', 'No Data Available for Series FWUAFX49311X81N00 Year: 2012', 'No Data Available for Series FWUAFX49311X81N00 Year: 2013', 'No Data Available for Series FWUAFX49311X81N00 Year: 2015', 'No Data Available for Series FWUAFX49311X81N00 Year: 2016', 'No Data Available for Series FWUAFX49311X81N00 Year: 2017', 'No Data Available for Series FWUAFX49311X81N00 Year: 2018', 'No Data Available for Series FWUAFX49311X81N00 Year: 2019', 'No Data Available for Series FWUAFX49311X81N00 Year: 2020', 'No Data Available for Series FWUAGX49311X81N00 Year: 2011', 'No Data Available for Series FWUAGX49311X81N00 Year: 2012', 'No Data Available for Series FWUAGX49311X81N00 Year: 2014', 'No Data Available for Series FWUAGX49311X81N00 Year: 2018', 'No Data Available for Series FWUAGX49311X81N00 Year: 2020', 'No Data Available for Series FWUAHX49311X81N00 Year: 2012', 'No Data Available for Series FWUAHX49311X81N00 Year: 2014', 'No Data Available for Series FWUAHX49311X81N00 Year: 2015', 'No Data Available for Series FWUAHX49311X81N00 Year: 2017', 'No Data Available for Series FWUAIX49311X81N00 Year: 2011', 'No Data Available for Series FWUAIX49311X81N00 Year: 2012', 'No Data Available for Series FWUAIX49311X81N00 Year: 2013', 'No Data Available for Series FWUAIX49311X81N00 Year: 2015', 'No Data Available for Series FWUAIX49311X81N00 Year: 2016', 'No Data Available for Series FWUAIX49311X81N00 Year: 2019', 'No Data Available for Series FWUAIX49311X81N00 Year: 2020', 'No Data Available for Series FWUAIX49311X81N00 Year: 2021', 'Series does not exist for Series FWUAAX49311X81N00', 'Series does not exist for Series FWUABX49311X81N00'], 'Results': {'series': [{'seriesID': 'FWU00X00000081N00', 'data': [{'year': '2021', 'period': 'A01', 'periodName': 'Annual', 'latest': 'true', 'value': '4728', 'footnotes': [{}]}, {'year': '2020', 'period': 'A01', 'periodName': 'Annual', 'value': '4349', 'footnotes': [{}]}, {'year': '2019', 'period': 'A01', 'periodName': 'Annual', 'value': '4907', 'footnotes': [{}]}, {'year': '2018', 'period': 'A01', 'periodName': 'Annual', 'value': '4779', 'footnotes': [{}]}, {'year': '2017', 'period': 'A01', 'periodName': 'Annual', 'value': '4674', 'footnotes': [{}]}, {'year': '2016', 'period': 'A01', 'periodName': 'Annual', 'value': '4693', 'footnotes': [{}]}, {'year': '2015', 'period': 'A01', 'periodName': 'Annual', 'value': '4379', 'footnotes': [{}]}, {'year': '2014', 'period': 'A01', 'periodName': 'Annual', 'value': '4386', 'footnotes': [{}]}, {'year': '2013', 'period': 'A01', 'periodName': 'Annual', 'value': '4101', 'footnotes': [{}]}, {'year': '2012', 'period': 'A01', 'periodName': 'Annual', 'value': '4175', 'footnotes': [{}]}, {'year': '2011', 'period': 'A01', 'periodName': 'Annual', 'value': '4188', 'footnotes': [{}]}]}, {'seriesID': 'FWU50X00000081N00', 'data': [{'year': '2021', 'period': 'A01', 'periodName': 'Annual', 'latest': 'true', 'value': '4728', 'footnotes': [{}]}, {'year': '2020', 'period': 'A01', 'periodName': 'Annual', 'value': '4349', 'footnotes': [{}]}, {'year': '2019', 'period': 'A01', 'periodName': 'Annual', 'value': '4907', 'footnotes': [{}]}, {'year': '2018', 'period': 'A01', 'periodName': 'Annual', 'value': '4779', 'footnotes': [{}]}, {'year': '2017', 'period': 'A01', 'periodName': 'Annual', 'value': '4674', 'footnotes': [{}]}, {'year': '2016', 'period': 'A01', 'periodName': 'Annual', 'value': '4693', 'footnotes': [{}]}, {'year': '2015', 'period': 'A01', 'periodName': 'Annual', 'value': '4379', 'footnotes': [{}]}, {'year': '2014', 'period': 'A01', 'periodName': 'Annual', 'value': '4386', 'footnotes': [{}]}, {'year': '2013', 'period': 'A01', 'periodName': 'Annual', 'value': '4101', 'footnotes': [{}]}, {'year': '2012', 'period': 'A01', 'periodName': 'Annual', 'value': '4175', 'footnotes': [{}]}, {'year': '2011', 'period': 'A01', 'periodName': 'Annual', 'value': '4188', 'footnotes': [{}]}]}, {'seriesID': 'FWU50X49311X81N00', 'data': [{'year': '2021', 'period': 'A01', 'periodName': 'Annual', 'latest': 'true', 'value': '36', 'footnotes': [{}]}, {'year': '2020', 'period': 'A01', 'periodName': 'Annual', 'value': '11', 'footnotes': [{}]}, {'year': '2019', 'period': 'A01', 'periodName': 'Annual', 'value': '17', 'footnotes': [{}]}, {'year': '2018', 'period': 'A01', 'periodName': 'Annual', 'value': '13', 'footnotes': [{}]}, {'year': '2017', 'period': 'A01', 'periodName': 'Annual', 'value': '15', 'footnotes': [{}]}, {'year': '2016', 'period': 'A01', 'periodName': 'Annual', 'value': '12', 'footnotes': [{}]}, {'year': '2015', 'period': 'A01', 'periodName': 'Annual', 'value': '6', 'footnotes': [{}]}, {'year': '2014', 'period': 'A01', 'periodName': 'Annual', 'value': '13', 'footnotes': [{}]}, {'year': '2013', 'period': 'A01', 'periodName': 'Annual', 'value': '13', 'footnotes': [{}]}, {'year': '2012', 'period': 'A01', 'periodName': 'Annual', 'value': '4', 'footnotes': [{}]}, {'year': '2011', 'period': 'A01', 'periodName': 'Annual', 'value': '7', 'footnotes': [{}]}]}, {'seriesID': 'FWUAAX49311X81N00', 'data': []}, {'seriesID': 'FWUABX49311X81N00', 'data': []}, {'seriesID': 'FWUACX49311X81N00', 'data': [{'year': '2015', 'period': 'A01', 'periodName': 'Annual', 'latest': 'true', 'value': '1', 'footnotes': [{}]}]}, {'seriesID': 'FWUADX49311X81N00', 'data': [{'year': '2020', 'period': 'A01', 'periodName': 'Annual', 'latest': 'true', 'value': '1', 'footnotes': [{}]}, {'year': '2016', 'period': 'A01', 'periodName': 'Annual', 'value': '1', 'footnotes': [{}]}]}, {'seriesID': 'FWUAEX49311X81N00', 'data': [{'year': '2021', 'period': 'A01', 'periodName': 'Annual', 'latest': 'true', 'value': '10', 'footnotes': [{}]}, {'year': '2018', 'period': 'A01', 'periodName': 'Annual', 'value': '4', 'footnotes': [{}]}, {'year': '2017', 'period': 'A01', 'periodName': 'Annual', 'value': '4', 'footnotes': [{}]}, {'year': '2014', 'period': 'A01', 'periodName': 'Annual', 'value': '3', 'footnotes': [{}]}, {'year': '2013', 'period': 'A01', 'periodName': 'Annual', 'value': '5', 'footnotes': [{}]}]}, {'seriesID': 'FWUAFX49311X81N00', 'data': [{'year': '2021', 'period': 'A01', 'periodName': 'Annual', 'latest': 'true', 'value': '6', 'footnotes': [{}]}, {'year': '2014', 'period': 'A01', 'periodName': 'Annual', 'value': '1', 'footnotes': [{}]}, {'year': '2011', 'period': 'A01', 'periodName': 'Annual', 'value': '1', 'footnotes': [{}]}]}, {'seriesID': 'FWUAGX49311X81N00', 'data': [{'year': '2021', 'period': 'A01', 'periodName': 'Annual', 'latest': 'true', 'value': '9', 'footnotes': [{}]}, {'year': '2019', 'period': 'A01', 'periodName': 'Annual', 'value': '4', 'footnotes': [{}]}, {'year': '2017', 'period': 'A01', 'periodName': 'Annual', 'value': '4', 'footnotes': [{}]}, {'year': '2016', 'period': 'A01', 'periodName': 'Annual', 'value': '6', 'footnotes': [{}]}, {'year': '2015', 'period': 'A01', 'periodName': 'Annual', 'value': '1', 'footnotes': [{}]}, {'year': '2013', 'period': 'A01', 'periodName': 'Annual', 'value': '3', 'footnotes': [{}]}]}, {'seriesID': 'FWUAHX49311X81N00', 'data': [{'year': '2021', 'period': 'A01', 'periodName': 'Annual', 'latest': 'true', 'value': '7', 'footnotes': [{}]}, {'year': '2020', 'period': 'A01', 'periodName': 'Annual', 'value': '3', 'footnotes': [{}]}, {'year': '2019', 'period': 'A01', 'periodName': 'Annual', 'value': '5', 'footnotes': [{}]}, {'year': '2018', 'period': 'A01', 'periodName': 'Annual', 'value': '3', 'footnotes': [{}]}, {'year': '2016', 'period': 'A01', 'periodName': 'Annual', 'value': '4', 'footnotes': [{}]}, {'year': '2013', 'period': 'A01', 'periodName': 'Annual', 'value': '3', 'footnotes': [{}]}, {'year': '2011', 'period': 'A01', 'periodName': 'Annual', 'value': '2', 'footnotes': [{}]}]}, {'seriesID': 'FWUAIX49311X81N00', 'data': [{'year': '2018', 'period': 'A01', 'periodName': 'Annual', 'latest': 'true', 'value': '1', 'footnotes': [{}]}, {'year': '2017', 'period': 'A01', 'periodName': 'Annual', 'value': '3', 'footnotes': [{}]}, {'year': '2014', 'period': 'A01', 'periodName': 'Annual', 'value': '4', 'footnotes': [{}]}]}]}}\n"
     ]
    }
   ],
   "source": [
    "json_data = json.loads(f.text)\n",
    "print(json_data)"
   ]
  },
  {
   "cell_type": "code",
   "execution_count": 8,
   "metadata": {},
   "outputs": [],
   "source": [
    "Series_0 = json_data['Results']['series'][0] #FWU00X00000081N00 df_0 Total fatalities\n",
    "Series_1 = json_data['Results']['series'][1] #FWU50X00000081N00 df_1 Private industrys\n",
    "Series_2 = json_data['Results']['series'][2] #FWU50X49311X81N00 df_2 General warehousing and storage\n",
    "Series_3 = json_data['Results']['series'][3] #FWUAAX49311X81N00 df_3 Under 16 years\n",
    "Series_4 = json_data['Results']['series'][4] #FWUABX49311X81N00 df_4 16 to 17 years\n",
    "Series_5 = json_data['Results']['series'][5] #FWUACX49311X81N00 df_5 18 to 19 years\n",
    "Series_6 = json_data['Results']['series'][6] #FWUADX49311X81N00 df_6 20 to 24 years\n",
    "Series_7 = json_data['Results']['series'][7] #FWUAEX49311X81N00 df_7 25 to 34 years\n",
    "Series_8 = json_data['Results']['series'][8] #FWUAFX49311X81N00 df_8 35 to 44 years\n",
    "Series_9 = json_data['Results']['series'][9] #FWUAGX49311X81N00 df_9 45 to 54 years\n",
    "Series_10 = json_data['Results']['series'][10] #FWUAHX49311X81N00 df_10 55 to 64 years\n",
    "Series_11 = json_data['Results']['series'][11] #FWUAIX49311X81N00 df_11 65 years and over"
   ]
  },
  {
   "cell_type": "code",
   "execution_count": 9,
   "metadata": {},
   "outputs": [
    {
     "name": "stdout",
     "output_type": "stream",
     "text": [
      "{'seriesID': 'FWU00X00000081N00', 'data': [{'year': '2021', 'period': 'A01', 'periodName': 'Annual', 'latest': 'true', 'value': '4728', 'footnotes': [{}]}, {'year': '2020', 'period': 'A01', 'periodName': 'Annual', 'value': '4349', 'footnotes': [{}]}, {'year': '2019', 'period': 'A01', 'periodName': 'Annual', 'value': '4907', 'footnotes': [{}]}, {'year': '2018', 'period': 'A01', 'periodName': 'Annual', 'value': '4779', 'footnotes': [{}]}, {'year': '2017', 'period': 'A01', 'periodName': 'Annual', 'value': '4674', 'footnotes': [{}]}, {'year': '2016', 'period': 'A01', 'periodName': 'Annual', 'value': '4693', 'footnotes': [{}]}, {'year': '2015', 'period': 'A01', 'periodName': 'Annual', 'value': '4379', 'footnotes': [{}]}, {'year': '2014', 'period': 'A01', 'periodName': 'Annual', 'value': '4386', 'footnotes': [{}]}, {'year': '2013', 'period': 'A01', 'periodName': 'Annual', 'value': '4101', 'footnotes': [{}]}, {'year': '2012', 'period': 'A01', 'periodName': 'Annual', 'value': '4175', 'footnotes': [{}]}, {'year': '2011', 'period': 'A01', 'periodName': 'Annual', 'value': '4188', 'footnotes': [{}]}]}\n"
     ]
    }
   ],
   "source": [
    "print(Series_0)"
   ]
  },
  {
   "cell_type": "code",
   "execution_count": 28,
   "metadata": {},
   "outputs": [
    {
     "name": "stdout",
     "output_type": "stream",
     "text": [
      "    year  Total fatalities\n",
      "0   2021            4728.0\n",
      "1   2020            4349.0\n",
      "2   2019            4907.0\n",
      "3   2018            4779.0\n",
      "4   2017            4674.0\n",
      "5   2016            4693.0\n",
      "6   2015            4379.0\n",
      "7   2014            4386.0\n",
      "8   2013            4101.0\n",
      "9   2012            4175.0\n",
      "10  2011            4188.0\n"
     ]
    }
   ],
   "source": [
    "df_0 = pd.DataFrame(Series_0['data'])\n",
    "var_0 = 'Total fatalities'\n",
    "if df_0.empty == True:\n",
    "    df_0 = pd.DataFrame(y_list, columns=['year'])\n",
    "    df_0 = df_0.assign(blank ='0')\n",
    "    df_0['blank'] = df_0['blank'].astype(float)\n",
    "    df_0 = df_0.rename(columns={'blank':var_0})\n",
    "    #df_0 = df_0.set_index(['year'])\n",
    "    print(df_0)\n",
    "else:\n",
    "    df_0 = df_0.drop(['period','periodName','latest', 'footnotes'], axis = 1)\n",
    "    #df_0 = df_0.set_index(['year'])\n",
    "    df_0['value'] = df_0['value'].astype(float)\n",
    "    df_0 = df_0.rename(columns={'value':var_0})\n",
    "    print(df_0)"
   ]
  },
  {
   "cell_type": "code",
   "execution_count": 11,
   "metadata": {},
   "outputs": [
    {
     "name": "stdout",
     "output_type": "stream",
     "text": [
      "      Private industrys\n",
      "year                   \n",
      "2021             4728.0\n",
      "2020             4349.0\n",
      "2019             4907.0\n",
      "2018             4779.0\n",
      "2017             4674.0\n",
      "2016             4693.0\n",
      "2015             4379.0\n",
      "2014             4386.0\n",
      "2013             4101.0\n",
      "2012             4175.0\n",
      "2011             4188.0\n"
     ]
    }
   ],
   "source": [
    "df_1 = pd.DataFrame(Series_1['data'])\n",
    "var_1 = 'Private industrys'\n",
    "if df_1.empty == True:\n",
    "    df_1 = pd.DataFrame(y_list, columns=['year'])\n",
    "    df_1 = df_1.assign(blank ='0')\n",
    "    df_1['blank'] = df_1['blank'].astype(float)\n",
    "    df_1 = df_1.rename(columns={'blank':var_1})\n",
    "    df_1 = df_1.set_index(['year'])\n",
    "    print(df_1)\n",
    "else:\n",
    "    df_1 = df_1.drop(['period','periodName','latest', 'footnotes'], axis = 1)\n",
    "    df_1 = df_1.set_index(['year'])\n",
    "    df_1['value'] = df_1['value'].astype(float)\n",
    "    df_1 = df_1.rename(columns={'value':var_1})\n",
    "    print(df_1)"
   ]
  },
  {
   "cell_type": "code",
   "execution_count": 12,
   "metadata": {},
   "outputs": [
    {
     "name": "stdout",
     "output_type": "stream",
     "text": [
      "      General warehousing and storage\n",
      "year                                 \n",
      "2021                             36.0\n",
      "2020                             11.0\n",
      "2019                             17.0\n",
      "2018                             13.0\n",
      "2017                             15.0\n",
      "2016                             12.0\n",
      "2015                              6.0\n",
      "2014                             13.0\n",
      "2013                             13.0\n",
      "2012                              4.0\n",
      "2011                              7.0\n"
     ]
    }
   ],
   "source": [
    "df_2 = pd.DataFrame(Series_2['data'])\n",
    "var_2 = 'General warehousing and storage'\n",
    "if df_2.empty == True:\n",
    "    df_2 = pd.DataFrame(y_list, columns=['year'])\n",
    "    df_2 = df_2.assign(blank ='0')\n",
    "    df_2['blank'] = df_2['blank'].astype(float)\n",
    "    df_2 = df_2.rename(columns={'blank':var_2})\n",
    "    df_2 = df_2.set_index(['year'])\n",
    "    print(df_2)\n",
    "else:\n",
    "    df_2 = df_2.drop(['period','periodName','latest', 'footnotes'], axis = 1)\n",
    "    df_2 = df_2.set_index(['year'])\n",
    "    df_2['value'] = df_2['value'].astype(float)\n",
    "    df_2 = df_2.rename(columns={'value':var_2})\n",
    "    print(df_2)"
   ]
  },
  {
   "cell_type": "code",
   "execution_count": 13,
   "metadata": {},
   "outputs": [
    {
     "name": "stdout",
     "output_type": "stream",
     "text": [
      "      General warehousing and storage - Under 16 years\n",
      "year                                                  \n",
      "2011                                               0.0\n",
      "2012                                               0.0\n",
      "2013                                               0.0\n",
      "2014                                               0.0\n",
      "2015                                               0.0\n",
      "2016                                               0.0\n",
      "2017                                               0.0\n",
      "2018                                               0.0\n",
      "2019                                               0.0\n",
      "2020                                               0.0\n",
      "2021                                               0.0\n"
     ]
    }
   ],
   "source": [
    "df_3 = pd.DataFrame(Series_3['data'])\n",
    "var_3 = 'General warehousing and storage - Under 16 years'\n",
    "if df_3.empty == True:\n",
    "    df_3 = pd.DataFrame(y_list, columns=['year'])\n",
    "    df_3 = df_3.assign(blank ='0')\n",
    "    df_3['blank'] = df_3['blank'].astype(float)\n",
    "    df_3 = df_3.rename(columns={'blank':var_3})\n",
    "    df_3 = df_3.set_index(['year'])\n",
    "    print(df_3)\n",
    "else:\n",
    "    df_3 = df_3.drop(['period','periodName','latest', 'footnotes'], axis = 1)\n",
    "    df_3 = df_3.set_index(['year'])\n",
    "    df_3['value'] = df_3['value'].astype(float)\n",
    "    df_3 = df_3.rename(columns={'value':var_3})\n",
    "    print(df_3)"
   ]
  },
  {
   "cell_type": "code",
   "execution_count": 14,
   "metadata": {},
   "outputs": [
    {
     "name": "stdout",
     "output_type": "stream",
     "text": [
      "      General warehousing and storage - 16 to 17 years\n",
      "year                                                  \n",
      "2011                                               0.0\n",
      "2012                                               0.0\n",
      "2013                                               0.0\n",
      "2014                                               0.0\n",
      "2015                                               0.0\n",
      "2016                                               0.0\n",
      "2017                                               0.0\n",
      "2018                                               0.0\n",
      "2019                                               0.0\n",
      "2020                                               0.0\n",
      "2021                                               0.0\n"
     ]
    }
   ],
   "source": [
    "df_4 = pd.DataFrame(Series_4['data'])\n",
    "var_4 = 'General warehousing and storage - 16 to 17 years'\n",
    "if df_4.empty == True:\n",
    "    df_4 = pd.DataFrame(y_list, columns=['year'])\n",
    "    df_4 = df_4.assign(blank ='0')\n",
    "    df_4['blank'] = df_4['blank'].astype(float)\n",
    "    df_4 = df_4.rename(columns={'blank':var_4})\n",
    "    df_4 = df_4.set_index(['year'])\n",
    "    print(df_4)\n",
    "else:\n",
    "    df_4 = df_4.drop(['period','periodName','latest', 'footnotes'], axis = 1)\n",
    "    df_4 = df_4.set_index(['year'])\n",
    "    df_4['value'] = df_4['value'].astype(float)\n",
    "    df_4 = df_4.rename(columns={'value':var_4})\n",
    "    print(df_4)"
   ]
  },
  {
   "cell_type": "code",
   "execution_count": 15,
   "metadata": {},
   "outputs": [
    {
     "name": "stdout",
     "output_type": "stream",
     "text": [
      "      General warehousing and storage - 18 to 19 years\n",
      "year                                                  \n",
      "2015                                               1.0\n"
     ]
    }
   ],
   "source": [
    "df_5 = pd.DataFrame(Series_5['data'])\n",
    "var_5 = 'General warehousing and storage - 18 to 19 years'\n",
    "if df_5.empty == True:\n",
    "    df_5 = pd.DataFrame(y_list, columns=['year'])\n",
    "    df_5 = df_5.assign(blank ='0')\n",
    "    df_5['blank'] = df_5['blank'].astype(float)\n",
    "    df_5 = df_5.rename(columns={'blank':var_5})\n",
    "    df_5 = df_5.set_index(['year'])\n",
    "    print(df_5)\n",
    "else:\n",
    "    df_5 = df_5.drop(['period','periodName','latest', 'footnotes'], axis = 1)\n",
    "    df_5 = df_5.set_index(['year'])\n",
    "    df_5['value'] = df_5['value'].astype(float)\n",
    "    df_5 = df_5.rename(columns={'value':var_5})\n",
    "    print(df_5)"
   ]
  },
  {
   "cell_type": "code",
   "execution_count": 16,
   "metadata": {},
   "outputs": [
    {
     "name": "stdout",
     "output_type": "stream",
     "text": [
      "      General warehousing and storage - 20 to 24 years\n",
      "year                                                  \n",
      "2020                                               1.0\n",
      "2016                                               1.0\n"
     ]
    }
   ],
   "source": [
    "df_6 = pd.DataFrame(Series_6['data'])\n",
    "var_6 = 'General warehousing and storage - 20 to 24 years'\n",
    "if df_6.empty == True:\n",
    "    df_6 = pd.DataFrame(y_list, columns=['year'])\n",
    "    df_6 = df_6.assign(blank ='0')\n",
    "    df_6 = df_6.set_index(['year'])\n",
    "    df_6 = df_6.rename(columns={'blank':var_6})\n",
    "    df_6['year'] = df_6['year'].astype(int)\n",
    "    print(df_6)\n",
    "else:\n",
    "    df_6 = df_6.drop(['period','periodName','latest', 'footnotes'], axis = 1)\n",
    "    df_6 = df_6.set_index(['year'])\n",
    "    df_6['value'] = df_6['value'].astype(float)\n",
    "    df_6 = df_6.rename(columns={'value':var_6})\n",
    "    print(df_6)"
   ]
  },
  {
   "cell_type": "code",
   "execution_count": 17,
   "metadata": {},
   "outputs": [
    {
     "name": "stdout",
     "output_type": "stream",
     "text": [
      "      General warehousing and storage - 25 to 34 years\n",
      "year                                                  \n",
      "2021                                              10.0\n",
      "2018                                               4.0\n",
      "2017                                               4.0\n",
      "2014                                               3.0\n",
      "2013                                               5.0\n"
     ]
    }
   ],
   "source": [
    "df_7 = pd.DataFrame(Series_7['data'])\n",
    "var_7 = 'General warehousing and storage - 25 to 34 years'\n",
    "if df_7.empty == True:\n",
    "    df_7 = pd.DataFrame(y_list, columns=['year'])\n",
    "    df_7 = df_7.assign(blank ='0')\n",
    "    df_7['blank'] = df_7['blank'].astype(float)\n",
    "    df_7 = df_7.rename(columns={'blank':var_7})\n",
    "    df_7 = df_7.set_index(['year'])\n",
    "    print(df_7)\n",
    "else:\n",
    "    df_7 = df_7.drop(['period','periodName','latest', 'footnotes'], axis = 1)\n",
    "    df_7 = df_7.set_index(['year'])\n",
    "    df_7['value'] = df_7['value'].astype(float)\n",
    "    df_7 = df_7.rename(columns={'value':var_7})\n",
    "    print(df_7)"
   ]
  },
  {
   "cell_type": "code",
   "execution_count": 18,
   "metadata": {},
   "outputs": [
    {
     "name": "stdout",
     "output_type": "stream",
     "text": [
      "      General warehousing and storage - 35 to 44 years\n",
      "year                                                  \n",
      "2021                                               6.0\n",
      "2014                                               1.0\n",
      "2011                                               1.0\n"
     ]
    }
   ],
   "source": [
    "df_8 = pd.DataFrame(Series_8['data'])\n",
    "var_8 = 'General warehousing and storage - 35 to 44 years'\n",
    "if df_8.empty == True:\n",
    "    df_8 = pd.DataFrame(y_list, columns=['year'])\n",
    "    df_8 = df_8.assign(blank ='0')\n",
    "    df_8 = df_8.set_index(['year'])\n",
    "    df_8 = df_8.rename(columns={'blank':var_8})\n",
    "    df_8['year'] = df_8['year'].astype(int)\n",
    "    print(df_8)\n",
    "else:\n",
    "    df_8 = df_8.drop(['period','periodName','latest', 'footnotes'], axis = 1)\n",
    "    df_8 = df_8.set_index(['year'])\n",
    "    df_8['value'] = df_8['value'].astype(float)\n",
    "    df_8 = df_8.rename(columns={'value':var_8})\n",
    "    print(df_8)"
   ]
  },
  {
   "cell_type": "code",
   "execution_count": 19,
   "metadata": {},
   "outputs": [
    {
     "name": "stdout",
     "output_type": "stream",
     "text": [
      "      General warehousing and storage - 45 to 54 years\n",
      "year                                                  \n",
      "2021                                               9.0\n",
      "2019                                               4.0\n",
      "2017                                               4.0\n",
      "2016                                               6.0\n",
      "2015                                               1.0\n",
      "2013                                               3.0\n"
     ]
    }
   ],
   "source": [
    "df_9 = pd.DataFrame(Series_9['data'])\n",
    "var_9 = 'General warehousing and storage - 45 to 54 years'\n",
    "if df_9.empty == True:\n",
    "    df_9 = pd.DataFrame(y_list, columns=['year'])\n",
    "    df_9 = df_9.assign(blank ='0')\n",
    "    df_9['blank'] = df_9['blank'].astype(float)\n",
    "    df_9 = df_9.rename(columns={'blank':var_9})\n",
    "    df_9 = df_9.set_index(['year'])\n",
    "    print(df_9)\n",
    "else:\n",
    "    df_9 = df_9.drop(['period','periodName','latest', 'footnotes'], axis = 1)\n",
    "    df_9 = df_9.set_index(['year'])\n",
    "    df_9['value'] = df_9['value'].astype(float)\n",
    "    df_9 = df_9.rename(columns={'value':var_9})\n",
    "    print(df_9)"
   ]
  },
  {
   "cell_type": "code",
   "execution_count": 20,
   "metadata": {},
   "outputs": [
    {
     "name": "stdout",
     "output_type": "stream",
     "text": [
      "      General warehousing and storage - 55 to 64 years\n",
      "year                                                  \n",
      "2021                                               7.0\n",
      "2020                                               3.0\n",
      "2019                                               5.0\n",
      "2018                                               3.0\n",
      "2016                                               4.0\n",
      "2013                                               3.0\n",
      "2011                                               2.0\n"
     ]
    }
   ],
   "source": [
    "df_10 = pd.DataFrame(Series_10['data'])\n",
    "var_10 = 'General warehousing and storage - 55 to 64 years'\n",
    "if df_10.empty == True:\n",
    "    df_10 = pd.DataFrame(y_list, columns=['year'])\n",
    "    df_10 = df_10.assign(blank ='0')\n",
    "    df_10 = df_10.set_index(['year'])\n",
    "    df_10 = df_10.rename(columns={'blank':var_10})\n",
    "    df_10['year'] = df_10['year'].astype(int)\n",
    "    print(df_10)\n",
    "else:\n",
    "    df_10 = df_10.drop(['period','periodName','latest', 'footnotes'], axis = 1)\n",
    "    df_10 = df_10.set_index(['year'])\n",
    "    df_10['value'] = df_10['value'].astype(float)\n",
    "    df_10 = df_10.rename(columns={'value':var_10})\n",
    "    print(df_10)"
   ]
  },
  {
   "cell_type": "code",
   "execution_count": 21,
   "metadata": {},
   "outputs": [
    {
     "name": "stdout",
     "output_type": "stream",
     "text": [
      "      General warehousing and storage - 65 years and over\n",
      "year                                                     \n",
      "2018                                                1.0  \n",
      "2017                                                3.0  \n",
      "2014                                                4.0  \n"
     ]
    }
   ],
   "source": [
    "df_11 = pd.DataFrame(Series_11['data'])\n",
    "var_11 = 'General warehousing and storage - 65 years and over'\n",
    "if df_11.empty == True:\n",
    "    df_11 = pd.DataFrame(y_list, columns=['year'])\n",
    "    df_11 = df_11.assign(blank ='0')\n",
    "    df_11['blank'] = df_11['blank'].astype(float)\n",
    "    df_11 = df_11.rename(columns={'blank':var_11})\n",
    "    df_11 = df_11.set_index(['year'])\n",
    "    print(df_11)\n",
    "else:\n",
    "    df_11 = df_11.drop(['period','periodName','latest', 'footnotes'], axis = 1)\n",
    "    df_11 = df_11.set_index(['year'])\n",
    "    df_11['value'] = df_11['value'].astype(float)\n",
    "    df_11 = df_11.rename(columns={'value':var_11})\n",
    "    print(df_11)"
   ]
  },
  {
   "cell_type": "code",
   "execution_count": 22,
   "metadata": {},
   "outputs": [],
   "source": [
    "df_all = df_0.join([df_1,df_2,df_3,df_4,df_5,df_6,df_7,df_8,df_9,df_10,df_11])"
   ]
  },
  {
   "cell_type": "code",
   "execution_count": 23,
   "metadata": {},
   "outputs": [],
   "source": [
    "with pd.ExcelWriter(\"Warehouse_BLS.xlsx\") as writer:\n",
    "    df_all.to_excel(writer, sheet_name=\"df_all\", index=True)\n",
    "    df_0.to_excel(writer, sheet_name=\"Total fatalities\", index=True)\n",
    "    df_1.to_excel(writer, sheet_name=\"Private industrys\", index=True)\n",
    "    df_2.to_excel(writer, sheet_name=\"General warehousing and storage\", index=True)\n",
    "    df_3.to_excel(writer, sheet_name=\"Under 16 years\", index=True)\n",
    "    df_4.to_excel(writer, sheet_name=\"16 to 17 years\", index=True)\n",
    "    df_5.to_excel(writer, sheet_name=\"18 to 19 years\", index=True)\n",
    "    df_6.to_excel(writer, sheet_name=\"20 to 24 years\", index=True)\n",
    "    df_7.to_excel(writer, sheet_name=\"25 to 34 years\", index=True)\n",
    "    df_8.to_excel(writer, sheet_name=\"35 to 44 years\", index=True)\n",
    "    df_9.to_excel(writer, sheet_name=\"45 to 54 years\", index=True)\n",
    "    df_10.to_excel(writer, sheet_name=\"55 to 64 years\", index=True)\n",
    "    df_11.to_excel(writer, sheet_name=\"65 years and over\", index=True)\n"
   ]
  },
  {
   "cell_type": "code",
   "execution_count": 80,
   "metadata": {},
   "outputs": [
    {
     "data": {
      "application/vnd.plotly.v1+json": {
       "config": {
        "plotlyServerURL": "https://plot.ly"
       },
       "data": [
        {
         "alignmentgroup": "True",
         "hovertemplate": "year=%{x}<br>Total fatalities=%{y}<extra></extra>",
         "legendgroup": "",
         "marker": {
          "color": "#111173",
          "pattern": {
           "shape": ""
          }
         },
         "name": "",
         "offsetgroup": "",
         "orientation": "v",
         "showlegend": false,
         "textposition": "auto",
         "texttemplate": "%{y}",
         "type": "bar",
         "x": [
          "2021",
          "2020",
          "2019",
          "2018",
          "2017",
          "2016",
          "2015",
          "2014",
          "2013",
          "2012",
          "2011"
         ],
         "xaxis": "x",
         "y": [
          4728,
          4349,
          4907,
          4779,
          4674,
          4693,
          4379,
          4386,
          4101,
          4175,
          4188
         ],
         "yaxis": "y"
        }
       ],
       "layout": {
        "barmode": "relative",
        "font": {
         "color": "black",
         "family": "Arial"
        },
        "legend": {
         "tracegroupgap": 0
        },
        "template": {
         "data": {
          "bar": [
           {
            "error_x": {
             "color": "#2a3f5f"
            },
            "error_y": {
             "color": "#2a3f5f"
            },
            "marker": {
             "line": {
              "color": "#E5ECF6",
              "width": 0.5
             },
             "pattern": {
              "fillmode": "overlay",
              "size": 10,
              "solidity": 0.2
             }
            },
            "type": "bar"
           }
          ],
          "barpolar": [
           {
            "marker": {
             "line": {
              "color": "#E5ECF6",
              "width": 0.5
             },
             "pattern": {
              "fillmode": "overlay",
              "size": 10,
              "solidity": 0.2
             }
            },
            "type": "barpolar"
           }
          ],
          "carpet": [
           {
            "aaxis": {
             "endlinecolor": "#2a3f5f",
             "gridcolor": "white",
             "linecolor": "white",
             "minorgridcolor": "white",
             "startlinecolor": "#2a3f5f"
            },
            "baxis": {
             "endlinecolor": "#2a3f5f",
             "gridcolor": "white",
             "linecolor": "white",
             "minorgridcolor": "white",
             "startlinecolor": "#2a3f5f"
            },
            "type": "carpet"
           }
          ],
          "choropleth": [
           {
            "colorbar": {
             "outlinewidth": 0,
             "ticks": ""
            },
            "type": "choropleth"
           }
          ],
          "contour": [
           {
            "colorbar": {
             "outlinewidth": 0,
             "ticks": ""
            },
            "colorscale": [
             [
              0,
              "#0d0887"
             ],
             [
              0.1111111111111111,
              "#46039f"
             ],
             [
              0.2222222222222222,
              "#7201a8"
             ],
             [
              0.3333333333333333,
              "#9c179e"
             ],
             [
              0.4444444444444444,
              "#bd3786"
             ],
             [
              0.5555555555555556,
              "#d8576b"
             ],
             [
              0.6666666666666666,
              "#ed7953"
             ],
             [
              0.7777777777777778,
              "#fb9f3a"
             ],
             [
              0.8888888888888888,
              "#fdca26"
             ],
             [
              1,
              "#f0f921"
             ]
            ],
            "type": "contour"
           }
          ],
          "contourcarpet": [
           {
            "colorbar": {
             "outlinewidth": 0,
             "ticks": ""
            },
            "type": "contourcarpet"
           }
          ],
          "heatmap": [
           {
            "colorbar": {
             "outlinewidth": 0,
             "ticks": ""
            },
            "colorscale": [
             [
              0,
              "#0d0887"
             ],
             [
              0.1111111111111111,
              "#46039f"
             ],
             [
              0.2222222222222222,
              "#7201a8"
             ],
             [
              0.3333333333333333,
              "#9c179e"
             ],
             [
              0.4444444444444444,
              "#bd3786"
             ],
             [
              0.5555555555555556,
              "#d8576b"
             ],
             [
              0.6666666666666666,
              "#ed7953"
             ],
             [
              0.7777777777777778,
              "#fb9f3a"
             ],
             [
              0.8888888888888888,
              "#fdca26"
             ],
             [
              1,
              "#f0f921"
             ]
            ],
            "type": "heatmap"
           }
          ],
          "heatmapgl": [
           {
            "colorbar": {
             "outlinewidth": 0,
             "ticks": ""
            },
            "colorscale": [
             [
              0,
              "#0d0887"
             ],
             [
              0.1111111111111111,
              "#46039f"
             ],
             [
              0.2222222222222222,
              "#7201a8"
             ],
             [
              0.3333333333333333,
              "#9c179e"
             ],
             [
              0.4444444444444444,
              "#bd3786"
             ],
             [
              0.5555555555555556,
              "#d8576b"
             ],
             [
              0.6666666666666666,
              "#ed7953"
             ],
             [
              0.7777777777777778,
              "#fb9f3a"
             ],
             [
              0.8888888888888888,
              "#fdca26"
             ],
             [
              1,
              "#f0f921"
             ]
            ],
            "type": "heatmapgl"
           }
          ],
          "histogram": [
           {
            "marker": {
             "pattern": {
              "fillmode": "overlay",
              "size": 10,
              "solidity": 0.2
             }
            },
            "type": "histogram"
           }
          ],
          "histogram2d": [
           {
            "colorbar": {
             "outlinewidth": 0,
             "ticks": ""
            },
            "colorscale": [
             [
              0,
              "#0d0887"
             ],
             [
              0.1111111111111111,
              "#46039f"
             ],
             [
              0.2222222222222222,
              "#7201a8"
             ],
             [
              0.3333333333333333,
              "#9c179e"
             ],
             [
              0.4444444444444444,
              "#bd3786"
             ],
             [
              0.5555555555555556,
              "#d8576b"
             ],
             [
              0.6666666666666666,
              "#ed7953"
             ],
             [
              0.7777777777777778,
              "#fb9f3a"
             ],
             [
              0.8888888888888888,
              "#fdca26"
             ],
             [
              1,
              "#f0f921"
             ]
            ],
            "type": "histogram2d"
           }
          ],
          "histogram2dcontour": [
           {
            "colorbar": {
             "outlinewidth": 0,
             "ticks": ""
            },
            "colorscale": [
             [
              0,
              "#0d0887"
             ],
             [
              0.1111111111111111,
              "#46039f"
             ],
             [
              0.2222222222222222,
              "#7201a8"
             ],
             [
              0.3333333333333333,
              "#9c179e"
             ],
             [
              0.4444444444444444,
              "#bd3786"
             ],
             [
              0.5555555555555556,
              "#d8576b"
             ],
             [
              0.6666666666666666,
              "#ed7953"
             ],
             [
              0.7777777777777778,
              "#fb9f3a"
             ],
             [
              0.8888888888888888,
              "#fdca26"
             ],
             [
              1,
              "#f0f921"
             ]
            ],
            "type": "histogram2dcontour"
           }
          ],
          "mesh3d": [
           {
            "colorbar": {
             "outlinewidth": 0,
             "ticks": ""
            },
            "type": "mesh3d"
           }
          ],
          "parcoords": [
           {
            "line": {
             "colorbar": {
              "outlinewidth": 0,
              "ticks": ""
             }
            },
            "type": "parcoords"
           }
          ],
          "pie": [
           {
            "automargin": true,
            "type": "pie"
           }
          ],
          "scatter": [
           {
            "fillpattern": {
             "fillmode": "overlay",
             "size": 10,
             "solidity": 0.2
            },
            "type": "scatter"
           }
          ],
          "scatter3d": [
           {
            "line": {
             "colorbar": {
              "outlinewidth": 0,
              "ticks": ""
             }
            },
            "marker": {
             "colorbar": {
              "outlinewidth": 0,
              "ticks": ""
             }
            },
            "type": "scatter3d"
           }
          ],
          "scattercarpet": [
           {
            "marker": {
             "colorbar": {
              "outlinewidth": 0,
              "ticks": ""
             }
            },
            "type": "scattercarpet"
           }
          ],
          "scattergeo": [
           {
            "marker": {
             "colorbar": {
              "outlinewidth": 0,
              "ticks": ""
             }
            },
            "type": "scattergeo"
           }
          ],
          "scattergl": [
           {
            "marker": {
             "colorbar": {
              "outlinewidth": 0,
              "ticks": ""
             }
            },
            "type": "scattergl"
           }
          ],
          "scattermapbox": [
           {
            "marker": {
             "colorbar": {
              "outlinewidth": 0,
              "ticks": ""
             }
            },
            "type": "scattermapbox"
           }
          ],
          "scatterpolar": [
           {
            "marker": {
             "colorbar": {
              "outlinewidth": 0,
              "ticks": ""
             }
            },
            "type": "scatterpolar"
           }
          ],
          "scatterpolargl": [
           {
            "marker": {
             "colorbar": {
              "outlinewidth": 0,
              "ticks": ""
             }
            },
            "type": "scatterpolargl"
           }
          ],
          "scatterternary": [
           {
            "marker": {
             "colorbar": {
              "outlinewidth": 0,
              "ticks": ""
             }
            },
            "type": "scatterternary"
           }
          ],
          "surface": [
           {
            "colorbar": {
             "outlinewidth": 0,
             "ticks": ""
            },
            "colorscale": [
             [
              0,
              "#0d0887"
             ],
             [
              0.1111111111111111,
              "#46039f"
             ],
             [
              0.2222222222222222,
              "#7201a8"
             ],
             [
              0.3333333333333333,
              "#9c179e"
             ],
             [
              0.4444444444444444,
              "#bd3786"
             ],
             [
              0.5555555555555556,
              "#d8576b"
             ],
             [
              0.6666666666666666,
              "#ed7953"
             ],
             [
              0.7777777777777778,
              "#fb9f3a"
             ],
             [
              0.8888888888888888,
              "#fdca26"
             ],
             [
              1,
              "#f0f921"
             ]
            ],
            "type": "surface"
           }
          ],
          "table": [
           {
            "cells": {
             "fill": {
              "color": "#EBF0F8"
             },
             "line": {
              "color": "white"
             }
            },
            "header": {
             "fill": {
              "color": "#C8D4E3"
             },
             "line": {
              "color": "white"
             }
            },
            "type": "table"
           }
          ]
         },
         "layout": {
          "annotationdefaults": {
           "arrowcolor": "#2a3f5f",
           "arrowhead": 0,
           "arrowwidth": 1
          },
          "autotypenumbers": "strict",
          "coloraxis": {
           "colorbar": {
            "outlinewidth": 0,
            "ticks": ""
           }
          },
          "colorscale": {
           "diverging": [
            [
             0,
             "#8e0152"
            ],
            [
             0.1,
             "#c51b7d"
            ],
            [
             0.2,
             "#de77ae"
            ],
            [
             0.3,
             "#f1b6da"
            ],
            [
             0.4,
             "#fde0ef"
            ],
            [
             0.5,
             "#f7f7f7"
            ],
            [
             0.6,
             "#e6f5d0"
            ],
            [
             0.7,
             "#b8e186"
            ],
            [
             0.8,
             "#7fbc41"
            ],
            [
             0.9,
             "#4d9221"
            ],
            [
             1,
             "#276419"
            ]
           ],
           "sequential": [
            [
             0,
             "#0d0887"
            ],
            [
             0.1111111111111111,
             "#46039f"
            ],
            [
             0.2222222222222222,
             "#7201a8"
            ],
            [
             0.3333333333333333,
             "#9c179e"
            ],
            [
             0.4444444444444444,
             "#bd3786"
            ],
            [
             0.5555555555555556,
             "#d8576b"
            ],
            [
             0.6666666666666666,
             "#ed7953"
            ],
            [
             0.7777777777777778,
             "#fb9f3a"
            ],
            [
             0.8888888888888888,
             "#fdca26"
            ],
            [
             1,
             "#f0f921"
            ]
           ],
           "sequentialminus": [
            [
             0,
             "#0d0887"
            ],
            [
             0.1111111111111111,
             "#46039f"
            ],
            [
             0.2222222222222222,
             "#7201a8"
            ],
            [
             0.3333333333333333,
             "#9c179e"
            ],
            [
             0.4444444444444444,
             "#bd3786"
            ],
            [
             0.5555555555555556,
             "#d8576b"
            ],
            [
             0.6666666666666666,
             "#ed7953"
            ],
            [
             0.7777777777777778,
             "#fb9f3a"
            ],
            [
             0.8888888888888888,
             "#fdca26"
            ],
            [
             1,
             "#f0f921"
            ]
           ]
          },
          "colorway": [
           "#636efa",
           "#EF553B",
           "#00cc96",
           "#ab63fa",
           "#FFA15A",
           "#19d3f3",
           "#FF6692",
           "#B6E880",
           "#FF97FF",
           "#FECB52"
          ],
          "font": {
           "color": "#2a3f5f"
          },
          "geo": {
           "bgcolor": "white",
           "lakecolor": "white",
           "landcolor": "#E5ECF6",
           "showlakes": true,
           "showland": true,
           "subunitcolor": "white"
          },
          "hoverlabel": {
           "align": "left"
          },
          "hovermode": "closest",
          "mapbox": {
           "style": "light"
          },
          "paper_bgcolor": "white",
          "plot_bgcolor": "#E5ECF6",
          "polar": {
           "angularaxis": {
            "gridcolor": "white",
            "linecolor": "white",
            "ticks": ""
           },
           "bgcolor": "#E5ECF6",
           "radialaxis": {
            "gridcolor": "white",
            "linecolor": "white",
            "ticks": ""
           }
          },
          "scene": {
           "xaxis": {
            "backgroundcolor": "#E5ECF6",
            "gridcolor": "white",
            "gridwidth": 2,
            "linecolor": "white",
            "showbackground": true,
            "ticks": "",
            "zerolinecolor": "white"
           },
           "yaxis": {
            "backgroundcolor": "#E5ECF6",
            "gridcolor": "white",
            "gridwidth": 2,
            "linecolor": "white",
            "showbackground": true,
            "ticks": "",
            "zerolinecolor": "white"
           },
           "zaxis": {
            "backgroundcolor": "#E5ECF6",
            "gridcolor": "white",
            "gridwidth": 2,
            "linecolor": "white",
            "showbackground": true,
            "ticks": "",
            "zerolinecolor": "white"
           }
          },
          "shapedefaults": {
           "line": {
            "color": "#2a3f5f"
           }
          },
          "ternary": {
           "aaxis": {
            "gridcolor": "white",
            "linecolor": "white",
            "ticks": ""
           },
           "baxis": {
            "gridcolor": "white",
            "linecolor": "white",
            "ticks": ""
           },
           "bgcolor": "#E5ECF6",
           "caxis": {
            "gridcolor": "white",
            "linecolor": "white",
            "ticks": ""
           }
          },
          "title": {
           "x": 0.05
          },
          "xaxis": {
           "automargin": true,
           "gridcolor": "white",
           "linecolor": "white",
           "ticks": "",
           "title": {
            "standoff": 15
           },
           "zerolinecolor": "white",
           "zerolinewidth": 2
          },
          "yaxis": {
           "automargin": true,
           "gridcolor": "white",
           "linecolor": "white",
           "ticks": "",
           "title": {
            "standoff": 15
           },
           "zerolinecolor": "white",
           "zerolinewidth": 2
          }
         }
        },
        "title": {
         "font": {
          "color": "black",
          "family": "Arial",
          "size": 24
         },
         "text": "US Total WorkPlace Fatalities<br>2011 - 2021",
         "x": 0.5,
         "xanchor": "center"
        },
        "xaxis": {
         "anchor": "y",
         "domain": [
          0,
          1
         ],
         "title": {
          "text": "year"
         }
        },
        "yaxis": {
         "anchor": "x",
         "autorange": false,
         "domain": [
          0,
          1
         ],
         "fixedrange": false,
         "range": [
          "4000",
          "5000"
         ],
         "title": {
          "text": "Total fatalities"
         }
        }
       }
      }
     },
     "metadata": {},
     "output_type": "display_data"
    }
   ],
   "source": [
    "fig = px.bar(df_0, x=df_0['year'], y=df_0['Total fatalities'], \n",
    "                text_auto=True, \n",
    "                title= 'US Total WorkPlace Fatalities<br>2011 - 2021')\n",
    "fig.update_yaxes(autorange=False,fixedrange=False,range=['4000','5000'])                \n",
    "fig.update_traces(marker_color='#111173')\n",
    "fig.update_layout(\n",
    "    font_family=\"Arial\",\n",
    "    font_color=\"black\",\n",
    "    title_x=0.5,\n",
    "    title_xanchor=\"center\",\n",
    "    title_font_family=\"Arial\",\n",
    "    title_font_color=\"black\",\n",
    "    title_font_size=24\n",
    "    )               \n",
    "fig.show()"
   ]
  }
 ],
 "metadata": {
  "kernelspec": {
   "display_name": "venv",
   "language": "python",
   "name": "python3"
  },
  "language_info": {
   "codemirror_mode": {
    "name": "ipython",
    "version": 3
   },
   "file_extension": ".py",
   "mimetype": "text/x-python",
   "name": "python",
   "nbconvert_exporter": "python",
   "pygments_lexer": "ipython3",
   "version": "3.10.9"
  },
  "orig_nbformat": 4,
  "vscode": {
   "interpreter": {
    "hash": "1b407932afa721f5fee101918bf361d199cf35fe9af70f1e8088fb21ae71f354"
   }
  }
 },
 "nbformat": 4,
 "nbformat_minor": 2
}
