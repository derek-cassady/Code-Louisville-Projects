{
 "cells": [
  {
   "cell_type": "code",
   "execution_count": 1,
   "metadata": {},
   "outputs": [],
   "source": [
    "import requests\n",
    "import json\n",
    "import pandas as pd\n",
    "import openpyxl\n",
    "import matplotlib as mpl\n",
    "import matplotlib.pyplot as plt"
   ]
  },
  {
   "cell_type": "code",
   "execution_count": 2,
   "metadata": {},
   "outputs": [],
   "source": [
    "headers = {'Content-type': 'application/json'}"
   ]
  },
  {
   "cell_type": "code",
   "execution_count": 3,
   "metadata": {},
   "outputs": [],
   "source": [
    "rkey = (\"331efe7967c44039b40c36334f2014de\")"
   ]
  },
  {
   "cell_type": "code",
   "execution_count": 381,
   "metadata": {},
   "outputs": [
    {
     "name": "stdout",
     "output_type": "stream",
     "text": [
      "[2011, 2012, 2013, 2014, 2015, 2016, 2017, 2018, 2019, 2020, 2021]\n",
      "10\n"
     ]
    }
   ],
   "source": [
    "syear = 2011\n",
    "eyear = 2021\n",
    "ryear = eyear - syear\n",
    "y_list = list(range(syear,eyear))\n",
    "y_list.append(eyear)\n",
    "print(y_list)\n",
    "print(ryear)"
   ]
  },
  {
   "cell_type": "code",
   "execution_count": 256,
   "metadata": {},
   "outputs": [],
   "source": [
    "payload = json.dumps({\"seriesid\":[\"FWU00X00000081N00\", \n",
    "                                    \"FWU50X00000081N00\", \n",
    "                                    \"FWU50X49311X81N00\",\n",
    "                                    \"FWUAAX49311X81N00\",\n",
    "                                    \"FWUABX49311X81N00\", \n",
    "                                    \"FWUACX49311X81N00\", \n",
    "                                    \"FWUADX49311X81N00\", \n",
    "                                    \"FWUAEX49311X81N00\", \n",
    "                                    \"FWUAFX49311X81N00\", \n",
    "                                    \"FWUAGX49311X81N00\", \n",
    "                                    \"FWUAHX49311X81N00\", \n",
    "                                    \"FWUAIX49311X81N00\"], \n",
    "                                    \"startyear\":syear, \"endyear\":eyear,\n",
    "                                    \"catalog\":False, \n",
    "                                    \"calculations\":False, \n",
    "                                    \"annualaverage\":False,\n",
    "                                    \"aspects\":False,\n",
    "\"registrationkey\":rkey})\n",
    "\n",
    "f = requests.post('https://api.bls.gov/publicAPI/v2/timeseries/data/', data=payload, headers=headers)"
   ]
  },
  {
   "cell_type": "code",
   "execution_count": 257,
   "metadata": {},
   "outputs": [
    {
     "name": "stdout",
     "output_type": "stream",
     "text": [
      "{'status': 'REQUEST_SUCCEEDED', 'responseTime': 1074, 'message': ['No Data Available for Series FWUACX49311X81N00 Year: 2011', 'No Data Available for Series FWUACX49311X81N00 Year: 2012', 'No Data Available for Series FWUACX49311X81N00 Year: 2013', 'No Data Available for Series FWUACX49311X81N00 Year: 2014', 'No Data Available for Series FWUACX49311X81N00 Year: 2016', 'No Data Available for Series FWUACX49311X81N00 Year: 2017', 'No Data Available for Series FWUACX49311X81N00 Year: 2018', 'No Data Available for Series FWUACX49311X81N00 Year: 2019', 'No Data Available for Series FWUACX49311X81N00 Year: 2020', 'No Data Available for Series FWUACX49311X81N00 Year: 2021', 'No Data Available for Series FWUADX49311X81N00 Year: 2011', 'No Data Available for Series FWUADX49311X81N00 Year: 2012', 'No Data Available for Series FWUADX49311X81N00 Year: 2013', 'No Data Available for Series FWUADX49311X81N00 Year: 2014', 'No Data Available for Series FWUADX49311X81N00 Year: 2015', 'No Data Available for Series FWUADX49311X81N00 Year: 2017', 'No Data Available for Series FWUADX49311X81N00 Year: 2018', 'No Data Available for Series FWUADX49311X81N00 Year: 2019', 'No Data Available for Series FWUADX49311X81N00 Year: 2021', 'No Data Available for Series FWUAEX49311X81N00 Year: 2011', 'No Data Available for Series FWUAEX49311X81N00 Year: 2012', 'No Data Available for Series FWUAEX49311X81N00 Year: 2015', 'No Data Available for Series FWUAEX49311X81N00 Year: 2016', 'No Data Available for Series FWUAEX49311X81N00 Year: 2019', 'No Data Available for Series FWUAEX49311X81N00 Year: 2020', 'No Data Available for Series FWUAFX49311X81N00 Year: 2012', 'No Data Available for Series FWUAFX49311X81N00 Year: 2013', 'No Data Available for Series FWUAFX49311X81N00 Year: 2015', 'No Data Available for Series FWUAFX49311X81N00 Year: 2016', 'No Data Available for Series FWUAFX49311X81N00 Year: 2017', 'No Data Available for Series FWUAFX49311X81N00 Year: 2018', 'No Data Available for Series FWUAFX49311X81N00 Year: 2019', 'No Data Available for Series FWUAFX49311X81N00 Year: 2020', 'No Data Available for Series FWUAGX49311X81N00 Year: 2011', 'No Data Available for Series FWUAGX49311X81N00 Year: 2012', 'No Data Available for Series FWUAGX49311X81N00 Year: 2014', 'No Data Available for Series FWUAGX49311X81N00 Year: 2018', 'No Data Available for Series FWUAGX49311X81N00 Year: 2020', 'No Data Available for Series FWUAHX49311X81N00 Year: 2012', 'No Data Available for Series FWUAHX49311X81N00 Year: 2014', 'No Data Available for Series FWUAHX49311X81N00 Year: 2015', 'No Data Available for Series FWUAHX49311X81N00 Year: 2017', 'No Data Available for Series FWUAIX49311X81N00 Year: 2011', 'No Data Available for Series FWUAIX49311X81N00 Year: 2012', 'No Data Available for Series FWUAIX49311X81N00 Year: 2013', 'No Data Available for Series FWUAIX49311X81N00 Year: 2015', 'No Data Available for Series FWUAIX49311X81N00 Year: 2016', 'No Data Available for Series FWUAIX49311X81N00 Year: 2019', 'No Data Available for Series FWUAIX49311X81N00 Year: 2020', 'No Data Available for Series FWUAIX49311X81N00 Year: 2021', 'Series does not exist for Series FWUAAX49311X81N00', 'Series does not exist for Series FWUABX49311X81N00'], 'Results': {'series': [{'seriesID': 'FWU00X00000081N00', 'data': [{'year': '2021', 'period': 'A01', 'periodName': 'Annual', 'latest': 'true', 'value': '4728', 'footnotes': [{}]}, {'year': '2020', 'period': 'A01', 'periodName': 'Annual', 'value': '4349', 'footnotes': [{}]}, {'year': '2019', 'period': 'A01', 'periodName': 'Annual', 'value': '4907', 'footnotes': [{}]}, {'year': '2018', 'period': 'A01', 'periodName': 'Annual', 'value': '4779', 'footnotes': [{}]}, {'year': '2017', 'period': 'A01', 'periodName': 'Annual', 'value': '4674', 'footnotes': [{}]}, {'year': '2016', 'period': 'A01', 'periodName': 'Annual', 'value': '4693', 'footnotes': [{}]}, {'year': '2015', 'period': 'A01', 'periodName': 'Annual', 'value': '4379', 'footnotes': [{}]}, {'year': '2014', 'period': 'A01', 'periodName': 'Annual', 'value': '4386', 'footnotes': [{}]}, {'year': '2013', 'period': 'A01', 'periodName': 'Annual', 'value': '4101', 'footnotes': [{}]}, {'year': '2012', 'period': 'A01', 'periodName': 'Annual', 'value': '4175', 'footnotes': [{}]}, {'year': '2011', 'period': 'A01', 'periodName': 'Annual', 'value': '4188', 'footnotes': [{}]}]}, {'seriesID': 'FWU50X00000081N00', 'data': [{'year': '2021', 'period': 'A01', 'periodName': 'Annual', 'latest': 'true', 'value': '4728', 'footnotes': [{}]}, {'year': '2020', 'period': 'A01', 'periodName': 'Annual', 'value': '4349', 'footnotes': [{}]}, {'year': '2019', 'period': 'A01', 'periodName': 'Annual', 'value': '4907', 'footnotes': [{}]}, {'year': '2018', 'period': 'A01', 'periodName': 'Annual', 'value': '4779', 'footnotes': [{}]}, {'year': '2017', 'period': 'A01', 'periodName': 'Annual', 'value': '4674', 'footnotes': [{}]}, {'year': '2016', 'period': 'A01', 'periodName': 'Annual', 'value': '4693', 'footnotes': [{}]}, {'year': '2015', 'period': 'A01', 'periodName': 'Annual', 'value': '4379', 'footnotes': [{}]}, {'year': '2014', 'period': 'A01', 'periodName': 'Annual', 'value': '4386', 'footnotes': [{}]}, {'year': '2013', 'period': 'A01', 'periodName': 'Annual', 'value': '4101', 'footnotes': [{}]}, {'year': '2012', 'period': 'A01', 'periodName': 'Annual', 'value': '4175', 'footnotes': [{}]}, {'year': '2011', 'period': 'A01', 'periodName': 'Annual', 'value': '4188', 'footnotes': [{}]}]}, {'seriesID': 'FWU50X49311X81N00', 'data': [{'year': '2021', 'period': 'A01', 'periodName': 'Annual', 'latest': 'true', 'value': '36', 'footnotes': [{}]}, {'year': '2020', 'period': 'A01', 'periodName': 'Annual', 'value': '11', 'footnotes': [{}]}, {'year': '2019', 'period': 'A01', 'periodName': 'Annual', 'value': '17', 'footnotes': [{}]}, {'year': '2018', 'period': 'A01', 'periodName': 'Annual', 'value': '13', 'footnotes': [{}]}, {'year': '2017', 'period': 'A01', 'periodName': 'Annual', 'value': '15', 'footnotes': [{}]}, {'year': '2016', 'period': 'A01', 'periodName': 'Annual', 'value': '12', 'footnotes': [{}]}, {'year': '2015', 'period': 'A01', 'periodName': 'Annual', 'value': '6', 'footnotes': [{}]}, {'year': '2014', 'period': 'A01', 'periodName': 'Annual', 'value': '13', 'footnotes': [{}]}, {'year': '2013', 'period': 'A01', 'periodName': 'Annual', 'value': '13', 'footnotes': [{}]}, {'year': '2012', 'period': 'A01', 'periodName': 'Annual', 'value': '4', 'footnotes': [{}]}, {'year': '2011', 'period': 'A01', 'periodName': 'Annual', 'value': '7', 'footnotes': [{}]}]}, {'seriesID': 'FWUAAX49311X81N00', 'data': []}, {'seriesID': 'FWUABX49311X81N00', 'data': []}, {'seriesID': 'FWUACX49311X81N00', 'data': [{'year': '2015', 'period': 'A01', 'periodName': 'Annual', 'latest': 'true', 'value': '1', 'footnotes': [{}]}]}, {'seriesID': 'FWUADX49311X81N00', 'data': [{'year': '2020', 'period': 'A01', 'periodName': 'Annual', 'latest': 'true', 'value': '1', 'footnotes': [{}]}, {'year': '2016', 'period': 'A01', 'periodName': 'Annual', 'value': '1', 'footnotes': [{}]}]}, {'seriesID': 'FWUAEX49311X81N00', 'data': [{'year': '2021', 'period': 'A01', 'periodName': 'Annual', 'latest': 'true', 'value': '10', 'footnotes': [{}]}, {'year': '2018', 'period': 'A01', 'periodName': 'Annual', 'value': '4', 'footnotes': [{}]}, {'year': '2017', 'period': 'A01', 'periodName': 'Annual', 'value': '4', 'footnotes': [{}]}, {'year': '2014', 'period': 'A01', 'periodName': 'Annual', 'value': '3', 'footnotes': [{}]}, {'year': '2013', 'period': 'A01', 'periodName': 'Annual', 'value': '5', 'footnotes': [{}]}]}, {'seriesID': 'FWUAFX49311X81N00', 'data': [{'year': '2021', 'period': 'A01', 'periodName': 'Annual', 'latest': 'true', 'value': '6', 'footnotes': [{}]}, {'year': '2014', 'period': 'A01', 'periodName': 'Annual', 'value': '1', 'footnotes': [{}]}, {'year': '2011', 'period': 'A01', 'periodName': 'Annual', 'value': '1', 'footnotes': [{}]}]}, {'seriesID': 'FWUAGX49311X81N00', 'data': [{'year': '2021', 'period': 'A01', 'periodName': 'Annual', 'latest': 'true', 'value': '9', 'footnotes': [{}]}, {'year': '2019', 'period': 'A01', 'periodName': 'Annual', 'value': '4', 'footnotes': [{}]}, {'year': '2017', 'period': 'A01', 'periodName': 'Annual', 'value': '4', 'footnotes': [{}]}, {'year': '2016', 'period': 'A01', 'periodName': 'Annual', 'value': '6', 'footnotes': [{}]}, {'year': '2015', 'period': 'A01', 'periodName': 'Annual', 'value': '1', 'footnotes': [{}]}, {'year': '2013', 'period': 'A01', 'periodName': 'Annual', 'value': '3', 'footnotes': [{}]}]}, {'seriesID': 'FWUAHX49311X81N00', 'data': [{'year': '2021', 'period': 'A01', 'periodName': 'Annual', 'latest': 'true', 'value': '7', 'footnotes': [{}]}, {'year': '2020', 'period': 'A01', 'periodName': 'Annual', 'value': '3', 'footnotes': [{}]}, {'year': '2019', 'period': 'A01', 'periodName': 'Annual', 'value': '5', 'footnotes': [{}]}, {'year': '2018', 'period': 'A01', 'periodName': 'Annual', 'value': '3', 'footnotes': [{}]}, {'year': '2016', 'period': 'A01', 'periodName': 'Annual', 'value': '4', 'footnotes': [{}]}, {'year': '2013', 'period': 'A01', 'periodName': 'Annual', 'value': '3', 'footnotes': [{}]}, {'year': '2011', 'period': 'A01', 'periodName': 'Annual', 'value': '2', 'footnotes': [{}]}]}, {'seriesID': 'FWUAIX49311X81N00', 'data': [{'year': '2018', 'period': 'A01', 'periodName': 'Annual', 'latest': 'true', 'value': '1', 'footnotes': [{}]}, {'year': '2017', 'period': 'A01', 'periodName': 'Annual', 'value': '3', 'footnotes': [{}]}, {'year': '2014', 'period': 'A01', 'periodName': 'Annual', 'value': '4', 'footnotes': [{}]}]}]}}\n"
     ]
    }
   ],
   "source": [
    "json_data = json.loads(f.text)\n",
    "print(json_data)"
   ]
  },
  {
   "cell_type": "code",
   "execution_count": 355,
   "metadata": {},
   "outputs": [],
   "source": [
    "Series_0 = json_data['Results']['series'][0] #FWU00X00000081N00 df_0 Total fatalities\n",
    "Series_1 = json_data['Results']['series'][1] #FWU50X00000081N00 df_1 Private industrys\n",
    "Series_2 = json_data['Results']['series'][2] #FWU50X49311X81N00 df_2 General warehousing and storage\n",
    "Series_3 = json_data['Results']['series'][3] #FWUAAX49311X81N00 df_3 Under 16 years\n",
    "Series_4 = json_data['Results']['series'][4] #FWUABX49311X81N00 df_4 16 to 17 years\n",
    "Series_5 = json_data['Results']['series'][5] #FWUACX49311X81N00 df_5 18 to 19 years\n",
    "Series_6 = json_data['Results']['series'][6] #FWUADX49311X81N00 df_6 20 to 24 years\n",
    "Series_7 = json_data['Results']['series'][7] #FWUAEX49311X81N00 df_7 25 to 34 years\n",
    "Series_8 = json_data['Results']['series'][8] #FWUAFX49311X81N00 df_8 35 to 44 years\n",
    "Series_9 = json_data['Results']['series'][9] #FWUAGX49311X81N00 df_9 45 to 54 years\n",
    "Series_10 = json_data['Results']['series'][10] #FWUAHX49311X81N00 df_10 55 to 64 years\n",
    "Series_11 = json_data['Results']['series'][11] #FWUAIX49311X81N00 df_11 65 years and over"
   ]
  },
  {
   "cell_type": "code",
   "execution_count": 260,
   "metadata": {},
   "outputs": [
    {
     "name": "stdout",
     "output_type": "stream",
     "text": [
      "{'seriesID': 'FWU00X00000081N00', 'data': [{'year': '2021', 'period': 'A01', 'periodName': 'Annual', 'latest': 'true', 'value': '4728', 'footnotes': [{}]}, {'year': '2020', 'period': 'A01', 'periodName': 'Annual', 'value': '4349', 'footnotes': [{}]}, {'year': '2019', 'period': 'A01', 'periodName': 'Annual', 'value': '4907', 'footnotes': [{}]}, {'year': '2018', 'period': 'A01', 'periodName': 'Annual', 'value': '4779', 'footnotes': [{}]}, {'year': '2017', 'period': 'A01', 'periodName': 'Annual', 'value': '4674', 'footnotes': [{}]}, {'year': '2016', 'period': 'A01', 'periodName': 'Annual', 'value': '4693', 'footnotes': [{}]}, {'year': '2015', 'period': 'A01', 'periodName': 'Annual', 'value': '4379', 'footnotes': [{}]}, {'year': '2014', 'period': 'A01', 'periodName': 'Annual', 'value': '4386', 'footnotes': [{}]}, {'year': '2013', 'period': 'A01', 'periodName': 'Annual', 'value': '4101', 'footnotes': [{}]}, {'year': '2012', 'period': 'A01', 'periodName': 'Annual', 'value': '4175', 'footnotes': [{}]}, {'year': '2011', 'period': 'A01', 'periodName': 'Annual', 'value': '4188', 'footnotes': [{}]}]}\n"
     ]
    }
   ],
   "source": [
    "print(Series_0)"
   ]
  },
  {
   "cell_type": "code",
   "execution_count": 451,
   "metadata": {},
   "outputs": [
    {
     "name": "stdout",
     "output_type": "stream",
     "text": [
      "      Total fatalities\n",
      "year                  \n",
      "2021            4728.0\n",
      "2020            4349.0\n",
      "2019            4907.0\n",
      "2018            4779.0\n",
      "2017            4674.0\n",
      "2016            4693.0\n",
      "2015            4379.0\n",
      "2014            4386.0\n",
      "2013            4101.0\n",
      "2012            4175.0\n",
      "2011            4188.0\n"
     ]
    }
   ],
   "source": [
    "df_0 = pd.DataFrame(Series_0['data'])\n",
    "var_0 = 'Total fatalities'\n",
    "if df_0.empty == True:\n",
    "    df_0 = pd.DataFrame(y_list, columns=['year'])\n",
    "    df_0 = df_0.assign(blank ='0')\n",
    "    df_0['blank'] = df_0['blank'].astype(float)\n",
    "    df_0 = df_0.rename(columns={'blank':var_0})\n",
    "    df_0 = df_0.set_index(['year'])\n",
    "    #df_0['year'] = df_0['year'].astype(int)\n",
    "    print(df_0)\n",
    "else:\n",
    "    df_0 = df_0.drop(['period','periodName','latest', 'footnotes'], axis = 1)\n",
    "    df_0 = df_0.set_index(['year'])\n",
    "    #df_0['year'] = df_0['year'].astype(int)\n",
    "    df_0['value'] = df_0['value'].astype(float)\n",
    "    df_0 = df_0.rename(columns={'value':var_0})\n",
    "    print(df_0)"
   ]
  },
  {
   "cell_type": "code",
   "execution_count": 452,
   "metadata": {},
   "outputs": [
    {
     "name": "stdout",
     "output_type": "stream",
     "text": [
      "      Private industrys\n",
      "year                   \n",
      "2021             4728.0\n",
      "2020             4349.0\n",
      "2019             4907.0\n",
      "2018             4779.0\n",
      "2017             4674.0\n",
      "2016             4693.0\n",
      "2015             4379.0\n",
      "2014             4386.0\n",
      "2013             4101.0\n",
      "2012             4175.0\n",
      "2011             4188.0\n"
     ]
    }
   ],
   "source": [
    "df_1 = pd.DataFrame(Series_1['data'])\n",
    "var_1 = 'Private industrys'\n",
    "if df_1.empty == True:\n",
    "    df_1 = pd.DataFrame(y_list, columns=['year'])\n",
    "    df_1 = df_1.assign(blank ='0')\n",
    "    df_1['blank'] = df_1['blank'].astype(float)\n",
    "    df_1 = df_1.rename(columns={'blank':var_1})\n",
    "    df_1 = df_1.set_index(['year'])\n",
    "    #df_1['year'] = df_1['year'].astype(int)\n",
    "    print(df_1)\n",
    "else:\n",
    "    df_1 = df_1.drop(['period','periodName','latest', 'footnotes'], axis = 1)\n",
    "    df_1 = df_1.set_index(['year'])\n",
    "    #df_1['year'] = df_1['year'].astype(int)\n",
    "    df_1['value'] = df_1['value'].astype(float)\n",
    "    df_1 = df_1.rename(columns={'value':var_1})\n",
    "    print(df_1)"
   ]
  },
  {
   "cell_type": "code",
   "execution_count": 453,
   "metadata": {},
   "outputs": [
    {
     "name": "stdout",
     "output_type": "stream",
     "text": [
      "      General warehousing and storage\n",
      "year                                 \n",
      "2021                             36.0\n",
      "2020                             11.0\n",
      "2019                             17.0\n",
      "2018                             13.0\n",
      "2017                             15.0\n",
      "2016                             12.0\n",
      "2015                              6.0\n",
      "2014                             13.0\n",
      "2013                             13.0\n",
      "2012                              4.0\n",
      "2011                              7.0\n"
     ]
    }
   ],
   "source": [
    "df_2 = pd.DataFrame(Series_2['data'])\n",
    "var_2 = 'General warehousing and storage'\n",
    "if df_2.empty == True:\n",
    "    df_2 = pd.DataFrame(y_list, columns=['year'])\n",
    "    df_2 = df_2.assign(blank ='0')\n",
    "    df_2['blank'] = df_2['blank'].astype(float)\n",
    "    df_2 = df_2.rename(columns={'blank':var_2})\n",
    "    df_2 = df_2.set_index(['year'])\n",
    "    #df_2['year'] = df_2['year'].astype(int)\n",
    "    print(df_2)\n",
    "else:\n",
    "    df_2 = df_2.drop(['period','periodName','latest', 'footnotes'], axis = 1)\n",
    "    df_2 = df_2.set_index(['year'])\n",
    "    #df_2['year'] = df_2['year'].astype(int)\n",
    "    df_2['value'] = df_2['value'].astype(float)\n",
    "    df_2 = df_2.rename(columns={'value':var_2})\n",
    "    print(df_2)"
   ]
  },
  {
   "cell_type": "code",
   "execution_count": 454,
   "metadata": {},
   "outputs": [
    {
     "name": "stdout",
     "output_type": "stream",
     "text": [
      "      General warehousing and storage - Under 16 years\n",
      "year                                                  \n",
      "2011                                               0.0\n",
      "2012                                               0.0\n",
      "2013                                               0.0\n",
      "2014                                               0.0\n",
      "2015                                               0.0\n",
      "2016                                               0.0\n",
      "2017                                               0.0\n",
      "2018                                               0.0\n",
      "2019                                               0.0\n",
      "2020                                               0.0\n",
      "2021                                               0.0\n"
     ]
    }
   ],
   "source": [
    "df_3 = pd.DataFrame(Series_3['data'])\n",
    "var_3 = 'General warehousing and storage - Under 16 years'\n",
    "if df_3.empty == True:\n",
    "    df_3 = pd.DataFrame(y_list, columns=['year'])\n",
    "    df_3 = df_3.assign(blank ='0')\n",
    "    df_3['blank'] = df_3['blank'].astype(float)\n",
    "    df_3 = df_3.rename(columns={'blank':var_3})\n",
    "    df_3 = df_3.set_index(['year'])\n",
    "    #df_3['year'] = df_3['year'].astype(int)\n",
    "    print(df_3)\n",
    "else:\n",
    "    df_3 = df_3.drop(['period','periodName','latest', 'footnotes'], axis = 1)\n",
    "    df_3 = df_3.set_index(['year'])\n",
    "    #df_3['year'] = df_3['year'].astype(int)\n",
    "    df_3['value'] = df_3['value'].astype(float)\n",
    "    df_3 = df_3.rename(columns={'value':var_3})\n",
    "    print(df_3)"
   ]
  },
  {
   "cell_type": "code",
   "execution_count": 455,
   "metadata": {},
   "outputs": [
    {
     "name": "stdout",
     "output_type": "stream",
     "text": [
      "      General warehousing and storage - 16 to 17 years\n",
      "year                                                  \n",
      "2011                                               0.0\n",
      "2012                                               0.0\n",
      "2013                                               0.0\n",
      "2014                                               0.0\n",
      "2015                                               0.0\n",
      "2016                                               0.0\n",
      "2017                                               0.0\n",
      "2018                                               0.0\n",
      "2019                                               0.0\n",
      "2020                                               0.0\n",
      "2021                                               0.0\n"
     ]
    }
   ],
   "source": [
    "df_4 = pd.DataFrame(Series_4['data'])\n",
    "var_4 = 'General warehousing and storage - 16 to 17 years'\n",
    "if df_4.empty == True:\n",
    "    df_4 = pd.DataFrame(y_list, columns=['year'])\n",
    "    df_4 = df_4.assign(blank ='0')\n",
    "    df_4['blank'] = df_4['blank'].astype(float)\n",
    "    df_4 = df_4.rename(columns={'blank':var_4})\n",
    "    df_4 = df_4.set_index(['year'])\n",
    "    #df_4['year'] = df_4['year'].astype(int)\n",
    "    print(df_4)\n",
    "else:\n",
    "    df_4 = df_4.drop(['period','periodName','latest', 'footnotes'], axis = 1)\n",
    "    df_4 = df_4.set_index(['year'])\n",
    "    df_4['year'] = df_4['year'].astype(int)\n",
    "    df_4['value'] = df_4['value'].astype(float)\n",
    "    df_4 = df_4.rename(columns={'value':var_4})\n",
    "    print(df_4)"
   ]
  },
  {
   "cell_type": "code",
   "execution_count": 457,
   "metadata": {},
   "outputs": [
    {
     "name": "stdout",
     "output_type": "stream",
     "text": [
      "      General warehousing and storage - 18 to 19 years\n",
      "year                                                  \n",
      "2015                                               1.0\n"
     ]
    }
   ],
   "source": [
    "df_5 = pd.DataFrame(Series_5['data'])\n",
    "var_5 = 'General warehousing and storage - 18 to 19 years'\n",
    "if df_5.empty == True:\n",
    "    df_5 = pd.DataFrame(y_list, columns=['year'])\n",
    "    df_5 = df_5.assign(blank ='0')\n",
    "    df_5['blank'] = df_5['blank'].astype(float)\n",
    "    df_5 = df_5.rename(columns={'blank':var_5})\n",
    "    df_5 = df_5.set_index(['year'])\n",
    "    #df_5['year'] = df_5['year'].astype(int)\n",
    "    print(df_5)\n",
    "else:\n",
    "    df_5 = df_5.drop(['period','periodName','latest', 'footnotes'], axis = 1)\n",
    "    df_5 = df_5.set_index(['year'])\n",
    "    #df_5['year'] = df_5['year'].astype(int)\n",
    "    df_5['value'] = df_5['value'].astype(float)\n",
    "    df_5 = df_5.rename(columns={'value':var_5})\n",
    "    print(df_5)"
   ]
  },
  {
   "cell_type": "code",
   "execution_count": 458,
   "metadata": {},
   "outputs": [
    {
     "name": "stdout",
     "output_type": "stream",
     "text": [
      "      General warehousing and storage - 20 to 24 years\n",
      "year                                                  \n",
      "2020                                               1.0\n",
      "2016                                               1.0\n"
     ]
    }
   ],
   "source": [
    "df_6 = pd.DataFrame(Series_6['data'])\n",
    "var_6 = 'General warehousing and storage - 20 to 24 years'\n",
    "if df_6.empty == True:\n",
    "    df_6 = pd.DataFrame(y_list, columns=['year'])\n",
    "    df_6 = df_6.assign(blank ='0')\n",
    "    df_6 = df_6.set_index(['year'])\n",
    "    #df_6['blank'] = df_6['blank'].astype(float)\n",
    "    df_6 = df_6.rename(columns={'blank':var_6})\n",
    "    df_6['year'] = df_6['year'].astype(int)\n",
    "    print(df_6)\n",
    "else:\n",
    "    df_6 = df_6.drop(['period','periodName','latest', 'footnotes'], axis = 1)\n",
    "    df_6 = df_6.set_index(['year'])\n",
    "    #df_6['year'] = df_6['year'].astype(int)\n",
    "    df_6['value'] = df_6['value'].astype(float)\n",
    "    df_6 = df_6.rename(columns={'value':var_6})\n",
    "    print(df_6)"
   ]
  },
  {
   "cell_type": "code",
   "execution_count": 460,
   "metadata": {},
   "outputs": [
    {
     "name": "stdout",
     "output_type": "stream",
     "text": [
      "      General warehousing and storage - 25 to 34 years\n",
      "year                                                  \n",
      "2021                                              10.0\n",
      "2018                                               4.0\n",
      "2017                                               4.0\n",
      "2014                                               3.0\n",
      "2013                                               5.0\n"
     ]
    }
   ],
   "source": [
    "df_7 = pd.DataFrame(Series_7['data'])\n",
    "var_7 = 'General warehousing and storage - 25 to 34 years'\n",
    "if df_7.empty == True:\n",
    "    df_7 = pd.DataFrame(y_list, columns=['year'])\n",
    "    df_7 = df_7.assign(blank ='0')\n",
    "    df_7['blank'] = df_7['blank'].astype(float)\n",
    "    df_7 = df_7.rename(columns={'blank':var_7})\n",
    "    df_7 = df_7.set_index(['year'])\n",
    "    #df_7['year'] = df_7['year'].astype(int)\n",
    "    print(df_7)\n",
    "else:\n",
    "    df_7 = df_7.drop(['period','periodName','latest', 'footnotes'], axis = 1)\n",
    "    df_7 = df_7.set_index(['year'])\n",
    "    #df_7['year'] = df_7['year'].astype(int)\n",
    "    df_7['value'] = df_7['value'].astype(float)\n",
    "    df_7 = df_7.rename(columns={'value':var_7})\n",
    "    print(df_7)"
   ]
  },
  {
   "cell_type": "code",
   "execution_count": 461,
   "metadata": {},
   "outputs": [
    {
     "name": "stdout",
     "output_type": "stream",
     "text": [
      "      General warehousing and storage - 35 to 44 years\n",
      "year                                                  \n",
      "2021                                               6.0\n",
      "2014                                               1.0\n",
      "2011                                               1.0\n"
     ]
    }
   ],
   "source": [
    "df_8 = pd.DataFrame(Series_8['data'])\n",
    "var_8 = 'General warehousing and storage - 35 to 44 years'\n",
    "if df_8.empty == True:\n",
    "    df_8 = pd.DataFrame(y_list, columns=['year'])\n",
    "    df_8 = df_8.assign(blank ='0')\n",
    "    df_8 = df_8.set_index(['year'])\n",
    "    #df_8['blank'] = df_8['blank'].astype(float)\n",
    "    df_8 = df_8.rename(columns={'blank':var_8})\n",
    "    df_8['year'] = df_8['year'].astype(int)\n",
    "    print(df_8)\n",
    "else:\n",
    "    df_8 = df_8.drop(['period','periodName','latest', 'footnotes'], axis = 1)\n",
    "    df_8 = df_8.set_index(['year'])\n",
    "    #df_8['year'] = df_8['year'].astype(int)\n",
    "    df_8['value'] = df_8['value'].astype(float)\n",
    "    df_8 = df_8.rename(columns={'value':var_8})\n",
    "    print(df_8)"
   ]
  },
  {
   "cell_type": "code",
   "execution_count": 462,
   "metadata": {},
   "outputs": [
    {
     "name": "stdout",
     "output_type": "stream",
     "text": [
      "      General warehousing and storage - 45 to 54 years\n",
      "year                                                  \n",
      "2021                                               9.0\n",
      "2019                                               4.0\n",
      "2017                                               4.0\n",
      "2016                                               6.0\n",
      "2015                                               1.0\n",
      "2013                                               3.0\n"
     ]
    }
   ],
   "source": [
    "df_9 = pd.DataFrame(Series_9['data'])\n",
    "var_9 = 'General warehousing and storage - 45 to 54 years'\n",
    "if df_9.empty == True:\n",
    "    df_9 = pd.DataFrame(y_list, columns=['year'])\n",
    "    df_9 = df_9.assign(blank ='0')\n",
    "    df_9['blank'] = df_9['blank'].astype(float)\n",
    "    df_9 = df_9.rename(columns={'blank':var_9})\n",
    "    df_9 = df_9.set_index(['year'])\n",
    "    #df_9['year'] = df_9['year'].astype(int)\n",
    "    print(df_9)\n",
    "else:\n",
    "    df_9 = df_9.drop(['period','periodName','latest', 'footnotes'], axis = 1)\n",
    "    df_9 = df_9.set_index(['year'])\n",
    "    #df_9['year'] = df_9['year'].astype(int)\n",
    "    df_9['value'] = df_9['value'].astype(float)\n",
    "    df_9 = df_9.rename(columns={'value':var_9})\n",
    "    print(df_9)"
   ]
  },
  {
   "cell_type": "code",
   "execution_count": 463,
   "metadata": {},
   "outputs": [
    {
     "name": "stdout",
     "output_type": "stream",
     "text": [
      "      General warehousing and storage - 55 to 64 years\n",
      "year                                                  \n",
      "2021                                               7.0\n",
      "2020                                               3.0\n",
      "2019                                               5.0\n",
      "2018                                               3.0\n",
      "2016                                               4.0\n",
      "2013                                               3.0\n",
      "2011                                               2.0\n"
     ]
    }
   ],
   "source": [
    "df_10 = pd.DataFrame(Series_10['data'])\n",
    "var_10 = 'General warehousing and storage - 55 to 64 years'\n",
    "if df_10.empty == True:\n",
    "    df_10 = pd.DataFrame(y_list, columns=['year'])\n",
    "    df_10 = df_10.assign(blank ='0')\n",
    "    df_10 = df_10.set_index(['year'])\n",
    "    #df_10['blank'] = df_10['blank'].astype(float)\n",
    "    df_10 = df_10.rename(columns={'blank':var_10})\n",
    "    df_10['year'] = df_10['year'].astype(int)\n",
    "    print(df_10)\n",
    "else:\n",
    "    df_10 = df_10.drop(['period','periodName','latest', 'footnotes'], axis = 1)\n",
    "    df_10 = df_10.set_index(['year'])\n",
    "    #df_10['year'] = df_10['year'].astype(int)\n",
    "    df_10['value'] = df_10['value'].astype(float)\n",
    "    df_10 = df_10.rename(columns={'value':var_10})\n",
    "    print(df_10)"
   ]
  },
  {
   "cell_type": "code",
   "execution_count": 464,
   "metadata": {},
   "outputs": [
    {
     "name": "stdout",
     "output_type": "stream",
     "text": [
      "      General warehousing and storage - 65 years and over\n",
      "year                                                     \n",
      "2018                                                1.0  \n",
      "2017                                                3.0  \n",
      "2014                                                4.0  \n"
     ]
    }
   ],
   "source": [
    "df_11 = pd.DataFrame(Series_11['data'])\n",
    "var_11 = 'General warehousing and storage - 65 years and over'\n",
    "if df_11.empty == True:\n",
    "    df_11 = pd.DataFrame(y_list, columns=['year'])\n",
    "    df_11 = df_11.assign(blank ='0')\n",
    "    df_11['blank'] = df_11['blank'].astype(float)\n",
    "    df_11 = df_11.rename(columns={'blank':var_11})\n",
    "    df_11 = df_11.set_index(['year'])\n",
    "    #df_11['year'] = df_11['year'].astype(int)\n",
    "    print(df_11)\n",
    "else:\n",
    "    df_11 = df_11.drop(['period','periodName','latest', 'footnotes'], axis = 1)\n",
    "    df_11 = df_11.set_index(['year'])\n",
    "    #df_11['year'] = df_11['year'].astype(int)\n",
    "    df_11['value'] = df_11['value'].astype(float)\n",
    "    df_11 = df_11.rename(columns={'value':var_11})\n",
    "    print(df_11)"
   ]
  },
  {
   "cell_type": "code",
   "execution_count": 465,
   "metadata": {},
   "outputs": [
    {
     "ename": "MergeError",
     "evalue": "No common columns to perform merge on. Merge options: left_on=None, right_on=None, left_index=False, right_index=False",
     "output_type": "error",
     "traceback": [
      "\u001b[1;31m---------------------------------------------------------------------------\u001b[0m",
      "\u001b[1;31mMergeError\u001b[0m                                Traceback (most recent call last)",
      "Cell \u001b[1;32mIn[465], line 1\u001b[0m\n\u001b[1;32m----> 1\u001b[0m df_merged \u001b[39m=\u001b[39m df_0\u001b[39m.\u001b[39;49mmerge(df_1,how\u001b[39m=\u001b[39;49m\u001b[39m'\u001b[39;49m\u001b[39mleft\u001b[39;49m\u001b[39m'\u001b[39;49m)\u001b[39m.\u001b[39mfillna(\u001b[39mfloat\u001b[39m(\u001b[39m0\u001b[39m))\n\u001b[0;32m      2\u001b[0m df_merged \u001b[39m=\u001b[39m df_merged\u001b[39m.\u001b[39mmerge(df_2,how\u001b[39m=\u001b[39m\u001b[39m'\u001b[39m\u001b[39mleft\u001b[39m\u001b[39m'\u001b[39m)\u001b[39m.\u001b[39mfillna(\u001b[39mfloat\u001b[39m(\u001b[39m0\u001b[39m))\n\u001b[0;32m      3\u001b[0m df_merged \u001b[39m=\u001b[39m df_merged\u001b[39m.\u001b[39mmerge(df_3,how\u001b[39m=\u001b[39m\u001b[39m'\u001b[39m\u001b[39mleft\u001b[39m\u001b[39m'\u001b[39m)\u001b[39m.\u001b[39mfillna(\u001b[39mfloat\u001b[39m(\u001b[39m0\u001b[39m))\n",
      "File \u001b[1;32mc:\\Users\\Derek\\Desktop\\Code_Louisville\\BLS_Hourly_Wage\\venv\\lib\\site-packages\\pandas\\core\\frame.py:10093\u001b[0m, in \u001b[0;36mDataFrame.merge\u001b[1;34m(self, right, how, on, left_on, right_on, left_index, right_index, sort, suffixes, copy, indicator, validate)\u001b[0m\n\u001b[0;32m  10074\u001b[0m \u001b[39m@Substitution\u001b[39m(\u001b[39m\"\u001b[39m\u001b[39m\"\u001b[39m)\n\u001b[0;32m  10075\u001b[0m \u001b[39m@Appender\u001b[39m(_merge_doc, indents\u001b[39m=\u001b[39m\u001b[39m2\u001b[39m)\n\u001b[0;32m  10076\u001b[0m \u001b[39mdef\u001b[39;00m \u001b[39mmerge\u001b[39m(\n\u001b[1;32m   (...)\u001b[0m\n\u001b[0;32m  10089\u001b[0m     validate: \u001b[39mstr\u001b[39m \u001b[39m|\u001b[39m \u001b[39mNone\u001b[39;00m \u001b[39m=\u001b[39m \u001b[39mNone\u001b[39;00m,\n\u001b[0;32m  10090\u001b[0m ) \u001b[39m-\u001b[39m\u001b[39m>\u001b[39m DataFrame:\n\u001b[0;32m  10091\u001b[0m     \u001b[39mfrom\u001b[39;00m \u001b[39mpandas\u001b[39;00m\u001b[39m.\u001b[39;00m\u001b[39mcore\u001b[39;00m\u001b[39m.\u001b[39;00m\u001b[39mreshape\u001b[39;00m\u001b[39m.\u001b[39;00m\u001b[39mmerge\u001b[39;00m \u001b[39mimport\u001b[39;00m merge\n\u001b[1;32m> 10093\u001b[0m     \u001b[39mreturn\u001b[39;00m merge(\n\u001b[0;32m  10094\u001b[0m         \u001b[39mself\u001b[39;49m,\n\u001b[0;32m  10095\u001b[0m         right,\n\u001b[0;32m  10096\u001b[0m         how\u001b[39m=\u001b[39;49mhow,\n\u001b[0;32m  10097\u001b[0m         on\u001b[39m=\u001b[39;49mon,\n\u001b[0;32m  10098\u001b[0m         left_on\u001b[39m=\u001b[39;49mleft_on,\n\u001b[0;32m  10099\u001b[0m         right_on\u001b[39m=\u001b[39;49mright_on,\n\u001b[0;32m  10100\u001b[0m         left_index\u001b[39m=\u001b[39;49mleft_index,\n\u001b[0;32m  10101\u001b[0m         right_index\u001b[39m=\u001b[39;49mright_index,\n\u001b[0;32m  10102\u001b[0m         sort\u001b[39m=\u001b[39;49msort,\n\u001b[0;32m  10103\u001b[0m         suffixes\u001b[39m=\u001b[39;49msuffixes,\n\u001b[0;32m  10104\u001b[0m         copy\u001b[39m=\u001b[39;49mcopy,\n\u001b[0;32m  10105\u001b[0m         indicator\u001b[39m=\u001b[39;49mindicator,\n\u001b[0;32m  10106\u001b[0m         validate\u001b[39m=\u001b[39;49mvalidate,\n\u001b[0;32m  10107\u001b[0m     )\n",
      "File \u001b[1;32mc:\\Users\\Derek\\Desktop\\Code_Louisville\\BLS_Hourly_Wage\\venv\\lib\\site-packages\\pandas\\core\\reshape\\merge.py:110\u001b[0m, in \u001b[0;36mmerge\u001b[1;34m(left, right, how, on, left_on, right_on, left_index, right_index, sort, suffixes, copy, indicator, validate)\u001b[0m\n\u001b[0;32m     93\u001b[0m \u001b[39m@Substitution\u001b[39m(\u001b[39m\"\u001b[39m\u001b[39m\\n\u001b[39;00m\u001b[39mleft : DataFrame or named Series\u001b[39m\u001b[39m\"\u001b[39m)\n\u001b[0;32m     94\u001b[0m \u001b[39m@Appender\u001b[39m(_merge_doc, indents\u001b[39m=\u001b[39m\u001b[39m0\u001b[39m)\n\u001b[0;32m     95\u001b[0m \u001b[39mdef\u001b[39;00m \u001b[39mmerge\u001b[39m(\n\u001b[1;32m   (...)\u001b[0m\n\u001b[0;32m    108\u001b[0m     validate: \u001b[39mstr\u001b[39m \u001b[39m|\u001b[39m \u001b[39mNone\u001b[39;00m \u001b[39m=\u001b[39m \u001b[39mNone\u001b[39;00m,\n\u001b[0;32m    109\u001b[0m ) \u001b[39m-\u001b[39m\u001b[39m>\u001b[39m DataFrame:\n\u001b[1;32m--> 110\u001b[0m     op \u001b[39m=\u001b[39m _MergeOperation(\n\u001b[0;32m    111\u001b[0m         left,\n\u001b[0;32m    112\u001b[0m         right,\n\u001b[0;32m    113\u001b[0m         how\u001b[39m=\u001b[39;49mhow,\n\u001b[0;32m    114\u001b[0m         on\u001b[39m=\u001b[39;49mon,\n\u001b[0;32m    115\u001b[0m         left_on\u001b[39m=\u001b[39;49mleft_on,\n\u001b[0;32m    116\u001b[0m         right_on\u001b[39m=\u001b[39;49mright_on,\n\u001b[0;32m    117\u001b[0m         left_index\u001b[39m=\u001b[39;49mleft_index,\n\u001b[0;32m    118\u001b[0m         right_index\u001b[39m=\u001b[39;49mright_index,\n\u001b[0;32m    119\u001b[0m         sort\u001b[39m=\u001b[39;49msort,\n\u001b[0;32m    120\u001b[0m         suffixes\u001b[39m=\u001b[39;49msuffixes,\n\u001b[0;32m    121\u001b[0m         indicator\u001b[39m=\u001b[39;49mindicator,\n\u001b[0;32m    122\u001b[0m         validate\u001b[39m=\u001b[39;49mvalidate,\n\u001b[0;32m    123\u001b[0m     )\n\u001b[0;32m    124\u001b[0m     \u001b[39mreturn\u001b[39;00m op\u001b[39m.\u001b[39mget_result(copy\u001b[39m=\u001b[39mcopy)\n",
      "File \u001b[1;32mc:\\Users\\Derek\\Desktop\\Code_Louisville\\BLS_Hourly_Wage\\venv\\lib\\site-packages\\pandas\\core\\reshape\\merge.py:685\u001b[0m, in \u001b[0;36m_MergeOperation.__init__\u001b[1;34m(self, left, right, how, on, left_on, right_on, axis, left_index, right_index, sort, suffixes, indicator, validate)\u001b[0m\n\u001b[0;32m    681\u001b[0m     \u001b[39m# stacklevel chosen to be correct when this is reached via pd.merge\u001b[39;00m\n\u001b[0;32m    682\u001b[0m     \u001b[39m# (and not DataFrame.join)\u001b[39;00m\n\u001b[0;32m    683\u001b[0m     warnings\u001b[39m.\u001b[39mwarn(msg, \u001b[39mFutureWarning\u001b[39;00m, stacklevel\u001b[39m=\u001b[39mfind_stack_level())\n\u001b[1;32m--> 685\u001b[0m \u001b[39mself\u001b[39m\u001b[39m.\u001b[39mleft_on, \u001b[39mself\u001b[39m\u001b[39m.\u001b[39mright_on \u001b[39m=\u001b[39m \u001b[39mself\u001b[39;49m\u001b[39m.\u001b[39;49m_validate_left_right_on(left_on, right_on)\n\u001b[0;32m    687\u001b[0m cross_col \u001b[39m=\u001b[39m \u001b[39mNone\u001b[39;00m\n\u001b[0;32m    688\u001b[0m \u001b[39mif\u001b[39;00m \u001b[39mself\u001b[39m\u001b[39m.\u001b[39mhow \u001b[39m==\u001b[39m \u001b[39m\"\u001b[39m\u001b[39mcross\u001b[39m\u001b[39m\"\u001b[39m:\n",
      "File \u001b[1;32mc:\\Users\\Derek\\Desktop\\Code_Louisville\\BLS_Hourly_Wage\\venv\\lib\\site-packages\\pandas\\core\\reshape\\merge.py:1434\u001b[0m, in \u001b[0;36m_MergeOperation._validate_left_right_on\u001b[1;34m(self, left_on, right_on)\u001b[0m\n\u001b[0;32m   1432\u001b[0m common_cols \u001b[39m=\u001b[39m left_cols\u001b[39m.\u001b[39mintersection(right_cols)\n\u001b[0;32m   1433\u001b[0m \u001b[39mif\u001b[39;00m \u001b[39mlen\u001b[39m(common_cols) \u001b[39m==\u001b[39m \u001b[39m0\u001b[39m:\n\u001b[1;32m-> 1434\u001b[0m     \u001b[39mraise\u001b[39;00m MergeError(\n\u001b[0;32m   1435\u001b[0m         \u001b[39m\"\u001b[39m\u001b[39mNo common columns to perform merge on. \u001b[39m\u001b[39m\"\u001b[39m\n\u001b[0;32m   1436\u001b[0m         \u001b[39mf\u001b[39m\u001b[39m\"\u001b[39m\u001b[39mMerge options: left_on=\u001b[39m\u001b[39m{\u001b[39;00mleft_on\u001b[39m}\u001b[39;00m\u001b[39m, \u001b[39m\u001b[39m\"\u001b[39m\n\u001b[0;32m   1437\u001b[0m         \u001b[39mf\u001b[39m\u001b[39m\"\u001b[39m\u001b[39mright_on=\u001b[39m\u001b[39m{\u001b[39;00mright_on\u001b[39m}\u001b[39;00m\u001b[39m, \u001b[39m\u001b[39m\"\u001b[39m\n\u001b[0;32m   1438\u001b[0m         \u001b[39mf\u001b[39m\u001b[39m\"\u001b[39m\u001b[39mleft_index=\u001b[39m\u001b[39m{\u001b[39;00m\u001b[39mself\u001b[39m\u001b[39m.\u001b[39mleft_index\u001b[39m}\u001b[39;00m\u001b[39m, \u001b[39m\u001b[39m\"\u001b[39m\n\u001b[0;32m   1439\u001b[0m         \u001b[39mf\u001b[39m\u001b[39m\"\u001b[39m\u001b[39mright_index=\u001b[39m\u001b[39m{\u001b[39;00m\u001b[39mself\u001b[39m\u001b[39m.\u001b[39mright_index\u001b[39m}\u001b[39;00m\u001b[39m\"\u001b[39m\n\u001b[0;32m   1440\u001b[0m     )\n\u001b[0;32m   1441\u001b[0m \u001b[39mif\u001b[39;00m (\n\u001b[0;32m   1442\u001b[0m     \u001b[39mnot\u001b[39;00m left_cols\u001b[39m.\u001b[39mjoin(common_cols, how\u001b[39m=\u001b[39m\u001b[39m\"\u001b[39m\u001b[39minner\u001b[39m\u001b[39m\"\u001b[39m)\u001b[39m.\u001b[39mis_unique\n\u001b[0;32m   1443\u001b[0m     \u001b[39mor\u001b[39;00m \u001b[39mnot\u001b[39;00m right_cols\u001b[39m.\u001b[39mjoin(common_cols, how\u001b[39m=\u001b[39m\u001b[39m\"\u001b[39m\u001b[39minner\u001b[39m\u001b[39m\"\u001b[39m)\u001b[39m.\u001b[39mis_unique\n\u001b[0;32m   1444\u001b[0m ):\n\u001b[0;32m   1445\u001b[0m     \u001b[39mraise\u001b[39;00m MergeError(\u001b[39mf\u001b[39m\u001b[39m\"\u001b[39m\u001b[39mData columns not unique: \u001b[39m\u001b[39m{\u001b[39;00m\u001b[39mrepr\u001b[39m(common_cols)\u001b[39m}\u001b[39;00m\u001b[39m\"\u001b[39m)\n",
      "\u001b[1;31mMergeError\u001b[0m: No common columns to perform merge on. Merge options: left_on=None, right_on=None, left_index=False, right_index=False"
     ]
    }
   ],
   "source": [
    "df_merged = df_0.merge(df_1,how='left').fillna(float(0))\n",
    "df_merged = df_merged.merge(df_2,how='left').fillna(float(0))\n",
    "df_merged = df_merged.merge(df_3,how='left').fillna(float(0))\n",
    "df_merged = df_merged.merge(df_4,how='left').fillna(float(0))\n",
    "df_merged = df_merged.merge(df_5,how='left').fillna(float(0))\n",
    "df_merged = df_merged.merge(df_6,how='left').fillna(float(0))\n",
    "df_merged = df_merged.merge(df_7,how='left').fillna(float(0))\n",
    "df_merged = df_merged.merge(df_8,how='left').fillna(float(0))\n",
    "df_merged = df_merged.merge(df_9,how='left').fillna(float(0))\n",
    "df_merged = df_merged.merge(df_10,how='left').fillna(float(0))\n",
    "df_merged = df_merged.merge(df_11,how='left').fillna(float(0))\n",
    "print(df_merged)"
   ]
  },
  {
   "cell_type": "code",
   "execution_count": 445,
   "metadata": {},
   "outputs": [],
   "source": [
    "with pd.ExcelWriter(\"Warehouse_BLS.xlsx\") as writer:\n",
    "    df_merged.to_excel(writer, sheet_name=\"df_merged\", index=False)"
   ]
  },
  {
   "cell_type": "code",
   "execution_count": 426,
   "metadata": {},
   "outputs": [
    {
     "name": "stdout",
     "output_type": "stream",
     "text": [
      "    year  Total fatalities  Private industrys  \\\n",
      "0   2021            4728.0             4728.0   \n",
      "1   2020            4349.0             4349.0   \n",
      "2   2019            4907.0             4907.0   \n",
      "3   2018            4779.0             4779.0   \n",
      "4   2017            4674.0             4674.0   \n",
      "5   2016            4693.0             4693.0   \n",
      "6   2015            4379.0             4379.0   \n",
      "7   2014            4386.0             4386.0   \n",
      "8   2013            4101.0             4101.0   \n",
      "9   2012            4175.0             4175.0   \n",
      "10  2011            4188.0             4188.0   \n",
      "\n",
      "    General warehousing and storage  \\\n",
      "0                              36.0   \n",
      "1                              11.0   \n",
      "2                              17.0   \n",
      "3                              13.0   \n",
      "4                              15.0   \n",
      "5                              12.0   \n",
      "6                               6.0   \n",
      "7                              13.0   \n",
      "8                              13.0   \n",
      "9                               4.0   \n",
      "10                              7.0   \n",
      "\n",
      "   General warehousing and storage - Under 16 years  \\\n",
      "0                                                 0   \n",
      "1                                                 0   \n",
      "2                                                 0   \n",
      "3                                                 0   \n",
      "4                                                 0   \n",
      "5                                                 0   \n",
      "6                                                 0   \n",
      "7                                                 0   \n",
      "8                                                 0   \n",
      "9                                                 0   \n",
      "10                                                0   \n",
      "\n",
      "   General warehousing and storage - 16 to 17 years  \\\n",
      "0                                                 0   \n",
      "1                                                 0   \n",
      "2                                                 0   \n",
      "3                                                 0   \n",
      "4                                                 0   \n",
      "5                                                 0   \n",
      "6                                                 0   \n",
      "7                                                 0   \n",
      "8                                                 0   \n",
      "9                                                 0   \n",
      "10                                                0   \n",
      "\n",
      "    General warehousing and storage - 18 to 19 years  \\\n",
      "0                                                0.0   \n",
      "1                                                0.0   \n",
      "2                                                0.0   \n",
      "3                                                0.0   \n",
      "4                                                0.0   \n",
      "5                                                0.0   \n",
      "6                                                1.0   \n",
      "7                                                0.0   \n",
      "8                                                0.0   \n",
      "9                                                0.0   \n",
      "10                                               0.0   \n",
      "\n",
      "    General warehousing and storage - 20 to 24 years  \\\n",
      "0                                                0.0   \n",
      "1                                                1.0   \n",
      "2                                                0.0   \n",
      "3                                                0.0   \n",
      "4                                                0.0   \n",
      "5                                                1.0   \n",
      "6                                                0.0   \n",
      "7                                                0.0   \n",
      "8                                                0.0   \n",
      "9                                                0.0   \n",
      "10                                               0.0   \n",
      "\n",
      "    General warehousing and storage - 25 to 34 years  \\\n",
      "0                                               10.0   \n",
      "1                                                0.0   \n",
      "2                                                0.0   \n",
      "3                                                4.0   \n",
      "4                                                4.0   \n",
      "5                                                0.0   \n",
      "6                                                0.0   \n",
      "7                                                3.0   \n",
      "8                                                5.0   \n",
      "9                                                0.0   \n",
      "10                                               0.0   \n",
      "\n",
      "    General warehousing and storage - 35 to 44 years  \\\n",
      "0                                                6.0   \n",
      "1                                                0.0   \n",
      "2                                                0.0   \n",
      "3                                                0.0   \n",
      "4                                                0.0   \n",
      "5                                                0.0   \n",
      "6                                                0.0   \n",
      "7                                                1.0   \n",
      "8                                                0.0   \n",
      "9                                                0.0   \n",
      "10                                               1.0   \n",
      "\n",
      "    General warehousing and storage - 45 to 54 years  \\\n",
      "0                                                9.0   \n",
      "1                                                0.0   \n",
      "2                                                4.0   \n",
      "3                                                0.0   \n",
      "4                                                4.0   \n",
      "5                                                6.0   \n",
      "6                                                1.0   \n",
      "7                                                0.0   \n",
      "8                                                3.0   \n",
      "9                                                0.0   \n",
      "10                                               0.0   \n",
      "\n",
      "    General warehousing and storage - 55 to 64 years  \\\n",
      "0                                                7.0   \n",
      "1                                                3.0   \n",
      "2                                                5.0   \n",
      "3                                                3.0   \n",
      "4                                                0.0   \n",
      "5                                                4.0   \n",
      "6                                                0.0   \n",
      "7                                                0.0   \n",
      "8                                                3.0   \n",
      "9                                                0.0   \n",
      "10                                               2.0   \n",
      "\n",
      "    General warehousing and storage - 65 years and over  \n",
      "0                                                 0.0    \n",
      "1                                                 0.0    \n",
      "2                                                 0.0    \n",
      "3                                                 1.0    \n",
      "4                                                 3.0    \n",
      "5                                                 0.0    \n",
      "6                                                 0.0    \n",
      "7                                                 4.0    \n",
      "8                                                 0.0    \n",
      "9                                                 0.0    \n",
      "10                                                0.0    \n"
     ]
    }
   ],
   "source": [
    "print(df_merged)"
   ]
  }
 ],
 "metadata": {
  "kernelspec": {
   "display_name": "venv",
   "language": "python",
   "name": "python3"
  },
  "language_info": {
   "codemirror_mode": {
    "name": "ipython",
    "version": 3
   },
   "file_extension": ".py",
   "mimetype": "text/x-python",
   "name": "python",
   "nbconvert_exporter": "python",
   "pygments_lexer": "ipython3",
   "version": "3.10.9"
  },
  "orig_nbformat": 4,
  "vscode": {
   "interpreter": {
    "hash": "1b407932afa721f5fee101918bf361d199cf35fe9af70f1e8088fb21ae71f354"
   }
  }
 },
 "nbformat": 4,
 "nbformat_minor": 2
}
