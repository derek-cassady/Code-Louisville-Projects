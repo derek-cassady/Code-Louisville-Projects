{
 "cells": [
  {
   "cell_type": "code",
   "execution_count": 2,
   "metadata": {},
   "outputs": [],
   "source": [
    "import requests\n",
    "import json\n",
    "import pandas as pd\n",
    "import openpyxl\n",
    "import matplotlib as mpl\n",
    "import matplotlib.pyplot as plt\n",
    "import plotly.express as px"
   ]
  },
  {
   "cell_type": "code",
   "execution_count": 3,
   "metadata": {},
   "outputs": [],
   "source": [
    "headers = {'Content-type': 'application/json'}"
   ]
  },
  {
   "cell_type": "code",
   "execution_count": 4,
   "metadata": {},
   "outputs": [],
   "source": [
    "rkey = (\"331efe7967c44039b40c36334f2014de\")"
   ]
  },
  {
   "cell_type": "code",
   "execution_count": 6,
   "metadata": {},
   "outputs": [
    {
     "name": "stdout",
     "output_type": "stream",
     "text": [
      "[2011, 2012, 2013, 2014, 2015, 2016, 2017, 2018, 2019, 2020, 2021]\n",
      "10\n"
     ]
    }
   ],
   "source": [
    "syear = 2011\n",
    "eyear = 2021\n",
    "ryear = eyear - syear\n",
    "y_list = list(range(syear,eyear))\n",
    "y_list.append(eyear)\n",
    "dict_1={'2011':0,'2012':0,'2013':0,'2014':0, '2015':0, '2016':0, '2017':0, '2018':0, '2019':0, '2020':0, '2021':0}\n",
    "print(y_list)\n",
    "print(ryear)"
   ]
  },
  {
   "cell_type": "code",
   "execution_count": 7,
   "metadata": {},
   "outputs": [],
   "source": [
    "payload = json.dumps({\"seriesid\":[\"FWU00X00000081N00\", \n",
    "                                    \"FWU50X00000081N00\", \n",
    "                                    \"FWU50X49311X81N00\",\n",
    "                                    \"FWUAAX49311X81N00\",\n",
    "                                    \"FWUABX49311X81N00\", \n",
    "                                    \"FWUACX49311X81N00\", \n",
    "                                    \"FWUADX49311X81N00\", \n",
    "                                    \"FWUAEX49311X81N00\", \n",
    "                                    \"FWUAFX49311X81N00\", \n",
    "                                    \"FWUAGX49311X81N00\", \n",
    "                                    \"FWUAHX49311X81N00\", \n",
    "                                    \"FWUAIX49311X81N00\"], \n",
    "                                    \"startyear\":syear, \"endyear\":eyear,\n",
    "                                    \"catalog\":False, \n",
    "                                    \"calculations\":False, \n",
    "                                    \"annualaverage\":False,\n",
    "                                    \"aspects\":False,\n",
    "\"registrationkey\":rkey})\n",
    "\n",
    "f = requests.post('https://api.bls.gov/publicAPI/v2/timeseries/data/', data=payload, headers=headers)"
   ]
  },
  {
   "cell_type": "code",
   "execution_count": 8,
   "metadata": {},
   "outputs": [
    {
     "name": "stdout",
     "output_type": "stream",
     "text": [
      "{'status': 'REQUEST_SUCCEEDED', 'responseTime': 1042, 'message': ['No Data Available for Series FWUACX49311X81N00 Year: 2011', 'No Data Available for Series FWUACX49311X81N00 Year: 2012', 'No Data Available for Series FWUACX49311X81N00 Year: 2013', 'No Data Available for Series FWUACX49311X81N00 Year: 2014', 'No Data Available for Series FWUACX49311X81N00 Year: 2016', 'No Data Available for Series FWUACX49311X81N00 Year: 2017', 'No Data Available for Series FWUACX49311X81N00 Year: 2018', 'No Data Available for Series FWUACX49311X81N00 Year: 2019', 'No Data Available for Series FWUACX49311X81N00 Year: 2020', 'No Data Available for Series FWUACX49311X81N00 Year: 2021', 'No Data Available for Series FWUADX49311X81N00 Year: 2011', 'No Data Available for Series FWUADX49311X81N00 Year: 2012', 'No Data Available for Series FWUADX49311X81N00 Year: 2013', 'No Data Available for Series FWUADX49311X81N00 Year: 2014', 'No Data Available for Series FWUADX49311X81N00 Year: 2015', 'No Data Available for Series FWUADX49311X81N00 Year: 2017', 'No Data Available for Series FWUADX49311X81N00 Year: 2018', 'No Data Available for Series FWUADX49311X81N00 Year: 2019', 'No Data Available for Series FWUADX49311X81N00 Year: 2021', 'No Data Available for Series FWUAEX49311X81N00 Year: 2011', 'No Data Available for Series FWUAEX49311X81N00 Year: 2012', 'No Data Available for Series FWUAEX49311X81N00 Year: 2015', 'No Data Available for Series FWUAEX49311X81N00 Year: 2016', 'No Data Available for Series FWUAEX49311X81N00 Year: 2019', 'No Data Available for Series FWUAEX49311X81N00 Year: 2020', 'No Data Available for Series FWUAFX49311X81N00 Year: 2012', 'No Data Available for Series FWUAFX49311X81N00 Year: 2013', 'No Data Available for Series FWUAFX49311X81N00 Year: 2015', 'No Data Available for Series FWUAFX49311X81N00 Year: 2016', 'No Data Available for Series FWUAFX49311X81N00 Year: 2017', 'No Data Available for Series FWUAFX49311X81N00 Year: 2018', 'No Data Available for Series FWUAFX49311X81N00 Year: 2019', 'No Data Available for Series FWUAFX49311X81N00 Year: 2020', 'No Data Available for Series FWUAGX49311X81N00 Year: 2011', 'No Data Available for Series FWUAGX49311X81N00 Year: 2012', 'No Data Available for Series FWUAGX49311X81N00 Year: 2014', 'No Data Available for Series FWUAGX49311X81N00 Year: 2018', 'No Data Available for Series FWUAGX49311X81N00 Year: 2020', 'No Data Available for Series FWUAHX49311X81N00 Year: 2012', 'No Data Available for Series FWUAHX49311X81N00 Year: 2014', 'No Data Available for Series FWUAHX49311X81N00 Year: 2015', 'No Data Available for Series FWUAHX49311X81N00 Year: 2017', 'No Data Available for Series FWUAIX49311X81N00 Year: 2011', 'No Data Available for Series FWUAIX49311X81N00 Year: 2012', 'No Data Available for Series FWUAIX49311X81N00 Year: 2013', 'No Data Available for Series FWUAIX49311X81N00 Year: 2015', 'No Data Available for Series FWUAIX49311X81N00 Year: 2016', 'No Data Available for Series FWUAIX49311X81N00 Year: 2019', 'No Data Available for Series FWUAIX49311X81N00 Year: 2020', 'No Data Available for Series FWUAIX49311X81N00 Year: 2021', 'Series does not exist for Series FWUAAX49311X81N00', 'Series does not exist for Series FWUABX49311X81N00'], 'Results': {'series': [{'seriesID': 'FWU00X00000081N00', 'data': [{'year': '2021', 'period': 'A01', 'periodName': 'Annual', 'latest': 'true', 'value': '4728', 'footnotes': [{}]}, {'year': '2020', 'period': 'A01', 'periodName': 'Annual', 'value': '4349', 'footnotes': [{}]}, {'year': '2019', 'period': 'A01', 'periodName': 'Annual', 'value': '4907', 'footnotes': [{}]}, {'year': '2018', 'period': 'A01', 'periodName': 'Annual', 'value': '4779', 'footnotes': [{}]}, {'year': '2017', 'period': 'A01', 'periodName': 'Annual', 'value': '4674', 'footnotes': [{}]}, {'year': '2016', 'period': 'A01', 'periodName': 'Annual', 'value': '4693', 'footnotes': [{}]}, {'year': '2015', 'period': 'A01', 'periodName': 'Annual', 'value': '4379', 'footnotes': [{}]}, {'year': '2014', 'period': 'A01', 'periodName': 'Annual', 'value': '4386', 'footnotes': [{}]}, {'year': '2013', 'period': 'A01', 'periodName': 'Annual', 'value': '4101', 'footnotes': [{}]}, {'year': '2012', 'period': 'A01', 'periodName': 'Annual', 'value': '4175', 'footnotes': [{}]}, {'year': '2011', 'period': 'A01', 'periodName': 'Annual', 'value': '4188', 'footnotes': [{}]}]}, {'seriesID': 'FWU50X00000081N00', 'data': [{'year': '2021', 'period': 'A01', 'periodName': 'Annual', 'latest': 'true', 'value': '4728', 'footnotes': [{}]}, {'year': '2020', 'period': 'A01', 'periodName': 'Annual', 'value': '4349', 'footnotes': [{}]}, {'year': '2019', 'period': 'A01', 'periodName': 'Annual', 'value': '4907', 'footnotes': [{}]}, {'year': '2018', 'period': 'A01', 'periodName': 'Annual', 'value': '4779', 'footnotes': [{}]}, {'year': '2017', 'period': 'A01', 'periodName': 'Annual', 'value': '4674', 'footnotes': [{}]}, {'year': '2016', 'period': 'A01', 'periodName': 'Annual', 'value': '4693', 'footnotes': [{}]}, {'year': '2015', 'period': 'A01', 'periodName': 'Annual', 'value': '4379', 'footnotes': [{}]}, {'year': '2014', 'period': 'A01', 'periodName': 'Annual', 'value': '4386', 'footnotes': [{}]}, {'year': '2013', 'period': 'A01', 'periodName': 'Annual', 'value': '4101', 'footnotes': [{}]}, {'year': '2012', 'period': 'A01', 'periodName': 'Annual', 'value': '4175', 'footnotes': [{}]}, {'year': '2011', 'period': 'A01', 'periodName': 'Annual', 'value': '4188', 'footnotes': [{}]}]}, {'seriesID': 'FWU50X49311X81N00', 'data': [{'year': '2021', 'period': 'A01', 'periodName': 'Annual', 'latest': 'true', 'value': '36', 'footnotes': [{}]}, {'year': '2020', 'period': 'A01', 'periodName': 'Annual', 'value': '11', 'footnotes': [{}]}, {'year': '2019', 'period': 'A01', 'periodName': 'Annual', 'value': '17', 'footnotes': [{}]}, {'year': '2018', 'period': 'A01', 'periodName': 'Annual', 'value': '13', 'footnotes': [{}]}, {'year': '2017', 'period': 'A01', 'periodName': 'Annual', 'value': '15', 'footnotes': [{}]}, {'year': '2016', 'period': 'A01', 'periodName': 'Annual', 'value': '12', 'footnotes': [{}]}, {'year': '2015', 'period': 'A01', 'periodName': 'Annual', 'value': '6', 'footnotes': [{}]}, {'year': '2014', 'period': 'A01', 'periodName': 'Annual', 'value': '13', 'footnotes': [{}]}, {'year': '2013', 'period': 'A01', 'periodName': 'Annual', 'value': '13', 'footnotes': [{}]}, {'year': '2012', 'period': 'A01', 'periodName': 'Annual', 'value': '4', 'footnotes': [{}]}, {'year': '2011', 'period': 'A01', 'periodName': 'Annual', 'value': '7', 'footnotes': [{}]}]}, {'seriesID': 'FWUAAX49311X81N00', 'data': []}, {'seriesID': 'FWUABX49311X81N00', 'data': []}, {'seriesID': 'FWUACX49311X81N00', 'data': [{'year': '2015', 'period': 'A01', 'periodName': 'Annual', 'latest': 'true', 'value': '1', 'footnotes': [{}]}]}, {'seriesID': 'FWUADX49311X81N00', 'data': [{'year': '2020', 'period': 'A01', 'periodName': 'Annual', 'latest': 'true', 'value': '1', 'footnotes': [{}]}, {'year': '2016', 'period': 'A01', 'periodName': 'Annual', 'value': '1', 'footnotes': [{}]}]}, {'seriesID': 'FWUAEX49311X81N00', 'data': [{'year': '2021', 'period': 'A01', 'periodName': 'Annual', 'latest': 'true', 'value': '10', 'footnotes': [{}]}, {'year': '2018', 'period': 'A01', 'periodName': 'Annual', 'value': '4', 'footnotes': [{}]}, {'year': '2017', 'period': 'A01', 'periodName': 'Annual', 'value': '4', 'footnotes': [{}]}, {'year': '2014', 'period': 'A01', 'periodName': 'Annual', 'value': '3', 'footnotes': [{}]}, {'year': '2013', 'period': 'A01', 'periodName': 'Annual', 'value': '5', 'footnotes': [{}]}]}, {'seriesID': 'FWUAFX49311X81N00', 'data': [{'year': '2021', 'period': 'A01', 'periodName': 'Annual', 'latest': 'true', 'value': '6', 'footnotes': [{}]}, {'year': '2014', 'period': 'A01', 'periodName': 'Annual', 'value': '1', 'footnotes': [{}]}, {'year': '2011', 'period': 'A01', 'periodName': 'Annual', 'value': '1', 'footnotes': [{}]}]}, {'seriesID': 'FWUAGX49311X81N00', 'data': [{'year': '2021', 'period': 'A01', 'periodName': 'Annual', 'latest': 'true', 'value': '9', 'footnotes': [{}]}, {'year': '2019', 'period': 'A01', 'periodName': 'Annual', 'value': '4', 'footnotes': [{}]}, {'year': '2017', 'period': 'A01', 'periodName': 'Annual', 'value': '4', 'footnotes': [{}]}, {'year': '2016', 'period': 'A01', 'periodName': 'Annual', 'value': '6', 'footnotes': [{}]}, {'year': '2015', 'period': 'A01', 'periodName': 'Annual', 'value': '1', 'footnotes': [{}]}, {'year': '2013', 'period': 'A01', 'periodName': 'Annual', 'value': '3', 'footnotes': [{}]}]}, {'seriesID': 'FWUAHX49311X81N00', 'data': [{'year': '2021', 'period': 'A01', 'periodName': 'Annual', 'latest': 'true', 'value': '7', 'footnotes': [{}]}, {'year': '2020', 'period': 'A01', 'periodName': 'Annual', 'value': '3', 'footnotes': [{}]}, {'year': '2019', 'period': 'A01', 'periodName': 'Annual', 'value': '5', 'footnotes': [{}]}, {'year': '2018', 'period': 'A01', 'periodName': 'Annual', 'value': '3', 'footnotes': [{}]}, {'year': '2016', 'period': 'A01', 'periodName': 'Annual', 'value': '4', 'footnotes': [{}]}, {'year': '2013', 'period': 'A01', 'periodName': 'Annual', 'value': '3', 'footnotes': [{}]}, {'year': '2011', 'period': 'A01', 'periodName': 'Annual', 'value': '2', 'footnotes': [{}]}]}, {'seriesID': 'FWUAIX49311X81N00', 'data': [{'year': '2018', 'period': 'A01', 'periodName': 'Annual', 'latest': 'true', 'value': '1', 'footnotes': [{}]}, {'year': '2017', 'period': 'A01', 'periodName': 'Annual', 'value': '3', 'footnotes': [{}]}, {'year': '2014', 'period': 'A01', 'periodName': 'Annual', 'value': '4', 'footnotes': [{}]}]}]}}\n"
     ]
    }
   ],
   "source": [
    "json_data = json.loads(f.text)\n",
    "print(json_data)"
   ]
  },
  {
   "cell_type": "code",
   "execution_count": 9,
   "metadata": {},
   "outputs": [],
   "source": [
    "Series_0 = json_data['Results']['series'][0] #FWU00X00000081N00 df_0 Total fatalities\n",
    "Series_1 = json_data['Results']['series'][1] #FWU50X00000081N00 df_1 Private industrys\n",
    "Series_2 = json_data['Results']['series'][2] #FWU50X49311X81N00 df_2 General warehousing and storage\n",
    "Series_3 = json_data['Results']['series'][3] #FWUAAX49311X81N00 df_3 Under 16 years\n",
    "Series_4 = json_data['Results']['series'][4] #FWUABX49311X81N00 df_4 16 to 17 years\n",
    "Series_5 = json_data['Results']['series'][5] #FWUACX49311X81N00 df_5 18 to 19 years\n",
    "Series_6 = json_data['Results']['series'][6] #FWUADX49311X81N00 df_6 20 to 24 years\n",
    "Series_7 = json_data['Results']['series'][7] #FWUAEX49311X81N00 df_7 25 to 34 years\n",
    "Series_8 = json_data['Results']['series'][8] #FWUAFX49311X81N00 df_8 35 to 44 years\n",
    "Series_9 = json_data['Results']['series'][9] #FWUAGX49311X81N00 df_9 45 to 54 years\n",
    "Series_10 = json_data['Results']['series'][10] #FWUAHX49311X81N00 df_10 55 to 64 years\n",
    "Series_11 = json_data['Results']['series'][11] #FWUAIX49311X81N00 df_11 65 years and over"
   ]
  },
  {
   "cell_type": "code",
   "execution_count": 10,
   "metadata": {},
   "outputs": [
    {
     "name": "stdout",
     "output_type": "stream",
     "text": [
      "[{'year': '2015', 'period': 'A01', 'periodName': 'Annual', 'latest': 'true', 'value': '1', 'footnotes': [{}]}]\n"
     ]
    }
   ],
   "source": [
    "print(Series_5['data'])"
   ]
  },
  {
   "cell_type": "code",
   "execution_count": null,
   "metadata": {},
   "outputs": [],
   "source": []
  },
  {
   "cell_type": "code",
   "execution_count": 139,
   "metadata": {},
   "outputs": [
    {
     "name": "stdout",
     "output_type": "stream",
     "text": [
      "    Year   Total\n",
      "10  2011  4188.0\n",
      "9   2012  4175.0\n",
      "8   2013  4101.0\n",
      "7   2014  4386.0\n",
      "6   2015  4379.0\n",
      "5   2016  4693.0\n",
      "4   2017  4674.0\n",
      "3   2018  4779.0\n",
      "2   2019  4907.0\n",
      "1   2020  4349.0\n",
      "0   2021  4728.0\n"
     ]
    }
   ],
   "source": [
    "df_0 = pd.DataFrame(Series_0['data'])\n",
    "var_0 = 'Total'\n",
    "if df_0.empty == True:\n",
    "    df_0 = pd.DataFrame(y_list, columns=['year'])\n",
    "    df_0 = df_0.assign(blank ='0')\n",
    "    df_0['blank'] = df_0['blank'].astype(float)\n",
    "    df_0 = df_0.rename(columns={'blank':var_0})\n",
    "    df_0 = df_0.rename(columns={'year':'Year'})\n",
    "    print(df_0)\n",
    "else:\n",
    "    df_0 = df_0.drop(['period','periodName','latest', 'footnotes'], axis = 1)\n",
    "    for i in dict(dict_1):\n",
    "        df_0.loc[len(df_0)] = i,0\n",
    "    df_0 = df_0.drop_duplicates(subset='year', keep='first')\n",
    "    df_0.sort_values(\"year\", inplace=True)\n",
    "    df_0['value'] = df_0['value'].astype(float)\n",
    "    df_0 = df_0.rename(columns={'value':var_0})\n",
    "    df_0 = df_0.rename(columns={'year':'Year'})\n",
    "    print(df_0)"
   ]
  },
  {
   "cell_type": "code",
   "execution_count": 138,
   "metadata": {},
   "outputs": [
    {
     "name": "stdout",
     "output_type": "stream",
     "text": [
      "    Year  Private Industrys\n",
      "10  2011             4188.0\n",
      "9   2012             4175.0\n",
      "8   2013             4101.0\n",
      "7   2014             4386.0\n",
      "6   2015             4379.0\n",
      "5   2016             4693.0\n",
      "4   2017             4674.0\n",
      "3   2018             4779.0\n",
      "2   2019             4907.0\n",
      "1   2020             4349.0\n",
      "0   2021             4728.0\n"
     ]
    }
   ],
   "source": [
    "df_1 = pd.DataFrame(Series_1['data'])\n",
    "var_1 = 'Private Industrys'\n",
    "if df_1.empty == True:\n",
    "    df_1 = pd.DataFrame(y_list, columns=['year'])\n",
    "    df_1 = df_1.assign(blank ='0')\n",
    "    df_1['blank'] = df_1['blank'].astype(float)\n",
    "    df_1 = df_1.rename(columns={'blank':var_1})\n",
    "    df_1 = df_1.rename(columns={'year':'Year'})\n",
    "    print(df_1)\n",
    "else:\n",
    "    df_1 = df_1.drop(['period','periodName','latest', 'footnotes'], axis = 1)\n",
    "    for i in dict(dict_1):\n",
    "        df_1.loc[len(df_1)] = i,0\n",
    "    df_1 = df_1.drop_duplicates(subset='year', keep='first')\n",
    "    df_1.sort_values(\"year\", inplace=True)\n",
    "    df_1['value'] = df_1['value'].astype(float)\n",
    "    df_1 = df_1.rename(columns={'value':var_1})\n",
    "    df_1 = df_1.rename(columns={'year':'Year'})\n",
    "    print(df_1)"
   ]
  },
  {
   "cell_type": "code",
   "execution_count": 137,
   "metadata": {},
   "outputs": [
    {
     "name": "stdout",
     "output_type": "stream",
     "text": [
      "    Year  General Warehousing & Storage\n",
      "10  2011                            7.0\n",
      "9   2012                            4.0\n",
      "8   2013                           13.0\n",
      "7   2014                           13.0\n",
      "6   2015                            6.0\n",
      "5   2016                           12.0\n",
      "4   2017                           15.0\n",
      "3   2018                           13.0\n",
      "2   2019                           17.0\n",
      "1   2020                           11.0\n",
      "0   2021                           36.0\n"
     ]
    }
   ],
   "source": [
    "df_2 = pd.DataFrame(Series_2['data'])\n",
    "var_2 = 'General Warehousing & Storage'\n",
    "if df_2.empty == True:\n",
    "    df_2 = pd.DataFrame(y_list, columns=['year'])\n",
    "    df_2 = df_2.assign(blank ='0')\n",
    "    df_2['blank'] = df_2['blank'].astype(float)\n",
    "    df_2 = df_2.rename(columns={'blank':var_2})\n",
    "    df_2 = df_2.rename(columns={'year':'Year'})\n",
    "    print(df_2)\n",
    "else:\n",
    "    df_2 = df_2.drop(['period','periodName','latest', 'footnotes'], axis = 1)\n",
    "    for i in dict(dict_1):\n",
    "        df_2.loc[len(df_2)] = i,0\n",
    "    df_2 = df_2.drop_duplicates(subset='year', keep='first')\n",
    "    df_2.sort_values(\"year\", inplace=True)\n",
    "    df_2['value'] = df_2['value'].astype(float)\n",
    "    df_2 = df_2.rename(columns={'value':var_2})\n",
    "    df_2 = df_2.rename(columns={'year':'Year'})\n",
    "    print(df_2)"
   ]
  },
  {
   "cell_type": "code",
   "execution_count": 140,
   "metadata": {},
   "outputs": [
    {
     "name": "stdout",
     "output_type": "stream",
     "text": [
      "    Year  General Warehousing & Storage - Under 16 Years\n",
      "0   2011                                             0.0\n",
      "1   2012                                             0.0\n",
      "2   2013                                             0.0\n",
      "3   2014                                             0.0\n",
      "4   2015                                             0.0\n",
      "5   2016                                             0.0\n",
      "6   2017                                             0.0\n",
      "7   2018                                             0.0\n",
      "8   2019                                             0.0\n",
      "9   2020                                             0.0\n",
      "10  2021                                             0.0\n"
     ]
    }
   ],
   "source": [
    "df_3 = pd.DataFrame(Series_3['data'])\n",
    "var_3df_3 = 'Under 16 Years'\n",
    "if df_3.empty == True:\n",
    "    df_3 = pd.DataFrame(y_list, columns=['year'])\n",
    "    df_3 = df_3.assign(blank ='0')\n",
    "    df_3['blank'] = df_3['blank'].astype(float)\n",
    "    df_3 = df_3.rename(columns={'blank':var_2 + ' - '+ var_3df_3})\n",
    "    df_3 = df_3.rename(columns={'year':'Year'})\n",
    "    print(df_3)\n",
    "else:\n",
    "    df_3 = df_3.drop(['period','periodName','latest', 'footnotes'], axis = 1)\n",
    "    for i in dict(dict_1):\n",
    "        df_3.loc[len(df_3)] = i,0\n",
    "    df_3 = df_3.drop_duplicates(subset='year', keep='first')\n",
    "    df_3.sort_values(\"year\", inplace=True)\n",
    "    df_3['value'] = df_3['value'].astype(float)\n",
    "    df_3 = df_3.rename(columns={'value':var_2 + ' - '+ var_3df_3})\n",
    "    df_3 = df_3.rename(columns={'year':'Year'})\n",
    "    print(df_3)"
   ]
  },
  {
   "cell_type": "code",
   "execution_count": 141,
   "metadata": {},
   "outputs": [
    {
     "name": "stdout",
     "output_type": "stream",
     "text": [
      "    Year  General Warehousing & Storage - 16 to 17 Years\n",
      "0   2011                                             0.0\n",
      "1   2012                                             0.0\n",
      "2   2013                                             0.0\n",
      "3   2014                                             0.0\n",
      "4   2015                                             0.0\n",
      "5   2016                                             0.0\n",
      "6   2017                                             0.0\n",
      "7   2018                                             0.0\n",
      "8   2019                                             0.0\n",
      "9   2020                                             0.0\n",
      "10  2021                                             0.0\n"
     ]
    }
   ],
   "source": [
    "df_4 = pd.DataFrame(Series_4['data'])\n",
    "var_4 = '16 to 17 Years'\n",
    "if df_4.empty == True:\n",
    "    df_4 = pd.DataFrame(y_list, columns=['year'])\n",
    "    df_4 = df_4.assign(blank ='0')\n",
    "    df_4['blank'] = df_4['blank'].astype(float)\n",
    "    df_4 = df_4.rename(columns={'blank':var_2 + ' - '+ var_4})\n",
    "    df_4 = df_4.rename(columns={'year':'Year'})\n",
    "    print(df_4)\n",
    "else:\n",
    "    df_4 = df_4.drop(['period','periodName','latest', 'footnotes'], axis = 1)\n",
    "    for i in dict(dict_1):\n",
    "        df_4.loc[len(df_4)] = i,0\n",
    "    df_4 = df_4.drop_duplicates(subset='year', keep='first')\n",
    "    df_4.sort_values(\"year\", inplace=True)\n",
    "    df_4['value'] = df_4['value'].astype(float)\n",
    "    df_4 = df_4.rename(columns={'value':var_2 + ' - '+ var_4})\n",
    "    df_4 = df_4.rename(columns={'year':'Year'})\n",
    "    print(df_4)"
   ]
  },
  {
   "cell_type": "code",
   "execution_count": 125,
   "metadata": {},
   "outputs": [
    {
     "name": "stdout",
     "output_type": "stream",
     "text": [
      "    Year  General Warehousing and Storage - 18 to 19 Years\n",
      "1   2011                                               0.0\n",
      "2   2012                                               0.0\n",
      "3   2013                                               0.0\n",
      "4   2014                                               0.0\n",
      "0   2015                                               1.0\n",
      "6   2016                                               0.0\n",
      "7   2017                                               0.0\n",
      "8   2018                                               0.0\n",
      "9   2019                                               0.0\n",
      "10  2020                                               0.0\n",
      "11  2021                                               0.0\n"
     ]
    }
   ],
   "source": [
    "df_5 = pd.DataFrame(Series_5['data'])\n",
    "var_5 = '18 to 19 Years'\n",
    "if df_5.empty == True:\n",
    "    df_5 = pd.DataFrame(y_list, columns=['year'])\n",
    "    df_5 = df_5.assign(blank ='0')\n",
    "    df_5['blank'] = df_5['blank'].astype(float)\n",
    "    df_5 = df_5.rename(columns={'blank':var_2 + ' - '+ var_5})\n",
    "    df_5 = df_5.rename(columns={'year':'Year'})\n",
    "    print(df_5)\n",
    "else:\n",
    "    df_5 = df_5.drop(['period','periodName','latest', 'footnotes'], axis = 1)\n",
    "    for i in dict(dict_1):\n",
    "        df_5.loc[len(df_5)] = i,0\n",
    "    df_5 = df_5.drop_duplicates(subset='year', keep='first')\n",
    "    df_5.sort_values(\"year\", inplace=True)\n",
    "    df_5['value'] = df_5['value'].astype(float)\n",
    "    df_5 = df_5.rename(columns={'value':var_2 + ' - '+ var_5})\n",
    "    df_5 = df_5.rename(columns={'year':'Year'})\n",
    "    print(df_5)"
   ]
  },
  {
   "cell_type": "code",
   "execution_count": 142,
   "metadata": {},
   "outputs": [
    {
     "name": "stdout",
     "output_type": "stream",
     "text": [
      "    Year  General Warehousing & Storage - 20 to 24 Years\n",
      "2   2011                                             0.0\n",
      "3   2012                                             0.0\n",
      "4   2013                                             0.0\n",
      "5   2014                                             0.0\n",
      "6   2015                                             0.0\n",
      "1   2016                                             1.0\n",
      "8   2017                                             0.0\n",
      "9   2018                                             0.0\n",
      "10  2019                                             0.0\n",
      "0   2020                                             1.0\n",
      "12  2021                                             0.0\n"
     ]
    }
   ],
   "source": [
    "df_6 = pd.DataFrame(Series_6['data'])\n",
    "var_6 = '20 to 24 Years'\n",
    "if df_6.empty == True:\n",
    "    df_6 = pd.DataFrame(y_list, columns=['year'])\n",
    "    df_6 = df_6.assign(blank ='0')\n",
    "    df_6['blank'] = df_6['blank'].astype(float)\n",
    "    df_6 = df_6.rename(columns={'blank':var_2 + ' - '+ var_6})\n",
    "    df_6 = df_6.rename(columns={'year':'Year'})\n",
    "    print(df_6)\n",
    "else:\n",
    "    df_6 = df_6.drop(['period','periodName','latest', 'footnotes'], axis = 1)\n",
    "    for i in dict(dict_1):\n",
    "        df_6.loc[len(df_6)] = i,0\n",
    "    df_6 = df_6.drop_duplicates(subset='year', keep='first')\n",
    "    df_6.sort_values(\"year\", inplace=True)\n",
    "    df_6['value'] = df_6['value'].astype(float)\n",
    "    df_6 = df_6.rename(columns={'value':var_2 + ' - '+ var_6})\n",
    "    df_6 = df_6.rename(columns={'year':'Year'})\n",
    "    print(df_6)"
   ]
  },
  {
   "cell_type": "code",
   "execution_count": 143,
   "metadata": {},
   "outputs": [
    {
     "name": "stdout",
     "output_type": "stream",
     "text": [
      "    Year  General Warehousing & Storage - 25 to 34 Years\n",
      "5   2011                                             0.0\n",
      "6   2012                                             0.0\n",
      "4   2013                                             5.0\n",
      "3   2014                                             3.0\n",
      "9   2015                                             0.0\n",
      "10  2016                                             0.0\n",
      "2   2017                                             4.0\n",
      "1   2018                                             4.0\n",
      "13  2019                                             0.0\n",
      "14  2020                                             0.0\n",
      "0   2021                                            10.0\n"
     ]
    }
   ],
   "source": [
    "df_7 = pd.DataFrame(Series_7['data'])\n",
    "var_7 = '25 to 34 Years'\n",
    "if df_7.empty == True:\n",
    "    df_7 = pd.DataFrame(y_list, columns=['year'])\n",
    "    df_7 = df_7.assign(blank ='0')\n",
    "    df_7['blank'] = df_7['blank'].astype(float)\n",
    "    df_7 = df_7.rename(columns={'blank':var_2 + ' - '+ var_7})\n",
    "    df_7 = df_7.rename(columns={'year':'Year'})\n",
    "    print(df_7)\n",
    "else:\n",
    "    df_7 = df_7.drop(['period','periodName','latest', 'footnotes'], axis = 1)\n",
    "    for i in dict(dict_1):\n",
    "        df_7.loc[len(df_7)] = i,0\n",
    "    df_7 = df_7.drop_duplicates(subset='year', keep='first')\n",
    "    df_7.sort_values(\"year\", inplace=True)\n",
    "    df_7['value'] = df_7['value'].astype(float)\n",
    "    df_7 = df_7.rename(columns={'value':var_2 + ' - '+ var_7})\n",
    "    df_7 = df_7.rename(columns={'year':'Year'})\n",
    "    print(df_7)"
   ]
  },
  {
   "cell_type": "code",
   "execution_count": 144,
   "metadata": {},
   "outputs": [
    {
     "name": "stdout",
     "output_type": "stream",
     "text": [
      "    Year  General Warehousing & Storage - 35 to 44 Years\n",
      "2   2011                                             1.0\n",
      "4   2012                                             0.0\n",
      "5   2013                                             0.0\n",
      "1   2014                                             1.0\n",
      "7   2015                                             0.0\n",
      "8   2016                                             0.0\n",
      "9   2017                                             0.0\n",
      "10  2018                                             0.0\n",
      "11  2019                                             0.0\n",
      "12  2020                                             0.0\n",
      "0   2021                                             6.0\n"
     ]
    }
   ],
   "source": [
    "df_8 = pd.DataFrame(Series_8['data'])\n",
    "var_8 = '35 to 44 Years'\n",
    "if df_8.empty == True:\n",
    "    df_8 = pd.DataFrame(y_list, columns=['year'])\n",
    "    df_8 = df_8.assign(blank ='0')\n",
    "    df_8['blank'] = df_8['blank'].astype(float)\n",
    "    df_8 = df_8.rename(columns={'blank':var_2 + ' - '+ var_8})\n",
    "    df_8 = df_8.rename(columns={'year':'Year'})\n",
    "    print(df_8)\n",
    "else:\n",
    "    df_8 = df_8.drop(['period','periodName','latest', 'footnotes'], axis = 1)\n",
    "    for i in dict(dict_1):\n",
    "        df_8.loc[len(df_8)] = i,0\n",
    "    df_8 = df_8.drop_duplicates(subset='year', keep='first')\n",
    "    df_8.sort_values(\"year\", inplace=True)\n",
    "    df_8['value'] = df_8['value'].astype(float)\n",
    "    df_8 = df_8.rename(columns={'value':var_2 + ' - '+ var_8})\n",
    "    df_8 = df_8.rename(columns={'year':'Year'})\n",
    "    print(df_8)"
   ]
  },
  {
   "cell_type": "code",
   "execution_count": 145,
   "metadata": {},
   "outputs": [
    {
     "name": "stdout",
     "output_type": "stream",
     "text": [
      "    Year  General Warehousing & Storage - 45 to 94 Years\n",
      "6   2011                                             0.0\n",
      "7   2012                                             0.0\n",
      "5   2013                                             3.0\n",
      "9   2014                                             0.0\n",
      "4   2015                                             1.0\n",
      "3   2016                                             6.0\n",
      "2   2017                                             4.0\n",
      "13  2018                                             0.0\n",
      "1   2019                                             4.0\n",
      "15  2020                                             0.0\n",
      "0   2021                                             9.0\n"
     ]
    }
   ],
   "source": [
    "df_9 = pd.DataFrame(Series_9['data'])\n",
    "var_9 = '45 to 94 Years'\n",
    "if df_9.empty == True:\n",
    "    df_9 = pd.DataFrame(y_list, columns=['year'])\n",
    "    df_9 = df_9.assign(blank ='0')\n",
    "    df_9['blank'] = df_9['blank'].astype(float)\n",
    "    df_9 = df_9.rename(columns={'blank':var_2 + ' - '+ var_9})\n",
    "    df_9 = df_9.rename(columns={'year':'Year'})\n",
    "    print(df_9)\n",
    "else:\n",
    "    df_9 = df_9.drop(['period','periodName','latest', 'footnotes'], axis = 1)\n",
    "    for i in dict(dict_1):\n",
    "        df_9.loc[len(df_9)] = i,0\n",
    "    df_9 = df_9.drop_duplicates(subset='year', keep='first')\n",
    "    df_9.sort_values(\"year\", inplace=True)\n",
    "    df_9['value'] = df_9['value'].astype(float)\n",
    "    df_9 = df_9.rename(columns={'value':var_2 + ' - '+ var_9})\n",
    "    df_9 = df_9.rename(columns={'year':'Year'})\n",
    "    print(df_9)"
   ]
  },
  {
   "cell_type": "code",
   "execution_count": 146,
   "metadata": {},
   "outputs": [
    {
     "name": "stdout",
     "output_type": "stream",
     "text": [
      "    Year  General Warehousing & Storage - 55 to 64 Years\n",
      "6   2011                                             2.0\n",
      "8   2012                                             0.0\n",
      "5   2013                                             3.0\n",
      "10  2014                                             0.0\n",
      "11  2015                                             0.0\n",
      "4   2016                                             4.0\n",
      "13  2017                                             0.0\n",
      "3   2018                                             3.0\n",
      "2   2019                                             5.0\n",
      "1   2020                                             3.0\n",
      "0   2021                                             7.0\n"
     ]
    }
   ],
   "source": [
    "df_10 = pd.DataFrame(Series_10['data'])\n",
    "var_10 = '55 to 64 Years'\n",
    "if df_10.empty == True:\n",
    "    df_10 = pd.DataFrame(y_list, columns=['year'])\n",
    "    df_10 = df_10.assign(blank ='0')\n",
    "    df_10['blank'] = df_10['blank'].astype(float)\n",
    "    df_10 = df_10.rename(columns={'blank':var_2 + ' - '+ var_10})\n",
    "    df_10 = df_10.rename(columns={'year':'Year'})\n",
    "    print(df_10)\n",
    "else:\n",
    "    df_10 = df_10.drop(['period','periodName','latest', 'footnotes'], axis = 1)\n",
    "    for i in dict(dict_1):\n",
    "        df_10.loc[len(df_10)] = i,0\n",
    "    df_10 = df_10.drop_duplicates(subset='year', keep='first')\n",
    "    df_10.sort_values(\"year\", inplace=True)\n",
    "    df_10['value'] = df_10['value'].astype(float)\n",
    "    df_10 = df_10.rename(columns={'value':var_2 + ' - '+ var_10})\n",
    "    df_10 = df_10.rename(columns={'year':'Year'})\n",
    "    print(df_10)"
   ]
  },
  {
   "cell_type": "code",
   "execution_count": 147,
   "metadata": {},
   "outputs": [
    {
     "name": "stdout",
     "output_type": "stream",
     "text": [
      "    Year  General Warehousing & Storage - 65 Years and Over\n",
      "3   2011                                                0.0\n",
      "4   2012                                                0.0\n",
      "5   2013                                                0.0\n",
      "2   2014                                                4.0\n",
      "7   2015                                                0.0\n",
      "8   2016                                                0.0\n",
      "1   2017                                                3.0\n",
      "0   2018                                                1.0\n",
      "11  2019                                                0.0\n",
      "12  2020                                                0.0\n",
      "13  2021                                                0.0\n"
     ]
    }
   ],
   "source": [
    "df_11 = pd.DataFrame(Series_11['data'])\n",
    "var_11 = '65 Years and Over'\n",
    "if df_11.empty == True:\n",
    "    df_11 = pd.DataFrame(y_list, columns=['year'])\n",
    "    df_11 = df_11.assign(blank ='0')\n",
    "    df_11['blank'] = df_11['blank'].astype(float)\n",
    "    df_11 = df_11.rename(columns={'blank':var_2 + ' - '+ var_11})\n",
    "    df_11 = df_11.rename(columns={'year':'Year'})\n",
    "    print(df_11)\n",
    "else:\n",
    "    df_11 = df_11.drop(['period','periodName','latest', 'footnotes'], axis = 1)\n",
    "    for i in dict(dict_1):\n",
    "        df_11.loc[len(df_11)] = i,0\n",
    "    df_11 = df_11.drop_duplicates(subset='year', keep='first')\n",
    "    df_11.sort_values(\"year\", inplace=True)\n",
    "    df_11['value'] = df_11['value'].astype(float)\n",
    "    df_11 = df_11.rename(columns={'value':var_2 + ' - '+ var_11})\n",
    "    df_11 = df_11.rename(columns={'year':'Year'})\n",
    "    print(df_11)"
   ]
  },
  {
   "cell_type": "code",
   "execution_count": 148,
   "metadata": {},
   "outputs": [
    {
     "ename": "ValueError",
     "evalue": "Indexes have overlapping values: Index(['Year'], dtype='object')",
     "output_type": "error",
     "traceback": [
      "\u001b[1;31m---------------------------------------------------------------------------\u001b[0m",
      "\u001b[1;31mValueError\u001b[0m                                Traceback (most recent call last)",
      "Cell \u001b[1;32mIn[148], line 1\u001b[0m\n\u001b[1;32m----> 1\u001b[0m df_all \u001b[39m=\u001b[39m df_0\u001b[39m.\u001b[39;49mjoin([df_1,df_2,df_3,df_4,df_5,df_6,df_7,df_8,df_9,df_10,df_11])\n",
      "File \u001b[1;32mc:\\Users\\Derek\\Desktop\\Code_Louisville\\BLS_Hourly_Wage\\venv\\lib\\site-packages\\pandas\\core\\frame.py:9979\u001b[0m, in \u001b[0;36mDataFrame.join\u001b[1;34m(self, other, on, how, lsuffix, rsuffix, sort, validate)\u001b[0m\n\u001b[0;32m   9816\u001b[0m \u001b[39mdef\u001b[39;00m \u001b[39mjoin\u001b[39m(\n\u001b[0;32m   9817\u001b[0m     \u001b[39mself\u001b[39m,\n\u001b[0;32m   9818\u001b[0m     other: DataFrame \u001b[39m|\u001b[39m Series \u001b[39m|\u001b[39m \u001b[39mlist\u001b[39m[DataFrame \u001b[39m|\u001b[39m Series],\n\u001b[1;32m   (...)\u001b[0m\n\u001b[0;32m   9824\u001b[0m     validate: \u001b[39mstr\u001b[39m \u001b[39m|\u001b[39m \u001b[39mNone\u001b[39;00m \u001b[39m=\u001b[39m \u001b[39mNone\u001b[39;00m,\n\u001b[0;32m   9825\u001b[0m ) \u001b[39m-\u001b[39m\u001b[39m>\u001b[39m DataFrame:\n\u001b[0;32m   9826\u001b[0m \u001b[39m    \u001b[39m\u001b[39m\"\"\"\u001b[39;00m\n\u001b[0;32m   9827\u001b[0m \u001b[39m    Join columns of another DataFrame.\u001b[39;00m\n\u001b[0;32m   9828\u001b[0m \n\u001b[1;32m   (...)\u001b[0m\n\u001b[0;32m   9977\u001b[0m \u001b[39m    5  K1  A5   B1\u001b[39;00m\n\u001b[0;32m   9978\u001b[0m \u001b[39m    \"\"\"\u001b[39;00m\n\u001b[1;32m-> 9979\u001b[0m     \u001b[39mreturn\u001b[39;00m \u001b[39mself\u001b[39;49m\u001b[39m.\u001b[39;49m_join_compat(\n\u001b[0;32m   9980\u001b[0m         other,\n\u001b[0;32m   9981\u001b[0m         on\u001b[39m=\u001b[39;49mon,\n\u001b[0;32m   9982\u001b[0m         how\u001b[39m=\u001b[39;49mhow,\n\u001b[0;32m   9983\u001b[0m         lsuffix\u001b[39m=\u001b[39;49mlsuffix,\n\u001b[0;32m   9984\u001b[0m         rsuffix\u001b[39m=\u001b[39;49mrsuffix,\n\u001b[0;32m   9985\u001b[0m         sort\u001b[39m=\u001b[39;49msort,\n\u001b[0;32m   9986\u001b[0m         validate\u001b[39m=\u001b[39;49mvalidate,\n\u001b[0;32m   9987\u001b[0m     )\n",
      "File \u001b[1;32mc:\\Users\\Derek\\Desktop\\Code_Louisville\\BLS_Hourly_Wage\\venv\\lib\\site-packages\\pandas\\core\\frame.py:10051\u001b[0m, in \u001b[0;36mDataFrame._join_compat\u001b[1;34m(self, other, on, how, lsuffix, rsuffix, sort, validate)\u001b[0m\n\u001b[0;32m  10049\u001b[0m \u001b[39mif\u001b[39;00m can_concat:\n\u001b[0;32m  10050\u001b[0m     \u001b[39mif\u001b[39;00m how \u001b[39m==\u001b[39m \u001b[39m\"\u001b[39m\u001b[39mleft\u001b[39m\u001b[39m\"\u001b[39m:\n\u001b[1;32m> 10051\u001b[0m         res \u001b[39m=\u001b[39m concat(\n\u001b[0;32m  10052\u001b[0m             frames, axis\u001b[39m=\u001b[39;49m\u001b[39m1\u001b[39;49m, join\u001b[39m=\u001b[39;49m\u001b[39m\"\u001b[39;49m\u001b[39mouter\u001b[39;49m\u001b[39m\"\u001b[39;49m, verify_integrity\u001b[39m=\u001b[39;49m\u001b[39mTrue\u001b[39;49;00m, sort\u001b[39m=\u001b[39;49msort\n\u001b[0;32m  10053\u001b[0m         )\n\u001b[0;32m  10054\u001b[0m         \u001b[39mreturn\u001b[39;00m res\u001b[39m.\u001b[39mreindex(\u001b[39mself\u001b[39m\u001b[39m.\u001b[39mindex, copy\u001b[39m=\u001b[39m\u001b[39mFalse\u001b[39;00m)\n\u001b[0;32m  10055\u001b[0m     \u001b[39melse\u001b[39;00m:\n",
      "File \u001b[1;32mc:\\Users\\Derek\\Desktop\\Code_Louisville\\BLS_Hourly_Wage\\venv\\lib\\site-packages\\pandas\\util\\_decorators.py:331\u001b[0m, in \u001b[0;36mdeprecate_nonkeyword_arguments.<locals>.decorate.<locals>.wrapper\u001b[1;34m(*args, **kwargs)\u001b[0m\n\u001b[0;32m    325\u001b[0m \u001b[39mif\u001b[39;00m \u001b[39mlen\u001b[39m(args) \u001b[39m>\u001b[39m num_allow_args:\n\u001b[0;32m    326\u001b[0m     warnings\u001b[39m.\u001b[39mwarn(\n\u001b[0;32m    327\u001b[0m         msg\u001b[39m.\u001b[39mformat(arguments\u001b[39m=\u001b[39m_format_argument_list(allow_args)),\n\u001b[0;32m    328\u001b[0m         \u001b[39mFutureWarning\u001b[39;00m,\n\u001b[0;32m    329\u001b[0m         stacklevel\u001b[39m=\u001b[39mfind_stack_level(),\n\u001b[0;32m    330\u001b[0m     )\n\u001b[1;32m--> 331\u001b[0m \u001b[39mreturn\u001b[39;00m func(\u001b[39m*\u001b[39margs, \u001b[39m*\u001b[39m\u001b[39m*\u001b[39mkwargs)\n",
      "File \u001b[1;32mc:\\Users\\Derek\\Desktop\\Code_Louisville\\BLS_Hourly_Wage\\venv\\lib\\site-packages\\pandas\\core\\reshape\\concat.py:368\u001b[0m, in \u001b[0;36mconcat\u001b[1;34m(objs, axis, join, ignore_index, keys, levels, names, verify_integrity, sort, copy)\u001b[0m\n\u001b[0;32m    146\u001b[0m \u001b[39m@deprecate_nonkeyword_arguments\u001b[39m(version\u001b[39m=\u001b[39m\u001b[39mNone\u001b[39;00m, allowed_args\u001b[39m=\u001b[39m[\u001b[39m\"\u001b[39m\u001b[39mobjs\u001b[39m\u001b[39m\"\u001b[39m])\n\u001b[0;32m    147\u001b[0m \u001b[39mdef\u001b[39;00m \u001b[39mconcat\u001b[39m(\n\u001b[0;32m    148\u001b[0m     objs: Iterable[NDFrame] \u001b[39m|\u001b[39m Mapping[HashableT, NDFrame],\n\u001b[1;32m   (...)\u001b[0m\n\u001b[0;32m    157\u001b[0m     copy: \u001b[39mbool\u001b[39m \u001b[39m=\u001b[39m \u001b[39mTrue\u001b[39;00m,\n\u001b[0;32m    158\u001b[0m ) \u001b[39m-\u001b[39m\u001b[39m>\u001b[39m DataFrame \u001b[39m|\u001b[39m Series:\n\u001b[0;32m    159\u001b[0m \u001b[39m    \u001b[39m\u001b[39m\"\"\"\u001b[39;00m\n\u001b[0;32m    160\u001b[0m \u001b[39m    Concatenate pandas objects along a particular axis.\u001b[39;00m\n\u001b[0;32m    161\u001b[0m \n\u001b[1;32m   (...)\u001b[0m\n\u001b[0;32m    366\u001b[0m \u001b[39m    1   3   4\u001b[39;00m\n\u001b[0;32m    367\u001b[0m \u001b[39m    \"\"\"\u001b[39;00m\n\u001b[1;32m--> 368\u001b[0m     op \u001b[39m=\u001b[39m _Concatenator(\n\u001b[0;32m    369\u001b[0m         objs,\n\u001b[0;32m    370\u001b[0m         axis\u001b[39m=\u001b[39;49maxis,\n\u001b[0;32m    371\u001b[0m         ignore_index\u001b[39m=\u001b[39;49mignore_index,\n\u001b[0;32m    372\u001b[0m         join\u001b[39m=\u001b[39;49mjoin,\n\u001b[0;32m    373\u001b[0m         keys\u001b[39m=\u001b[39;49mkeys,\n\u001b[0;32m    374\u001b[0m         levels\u001b[39m=\u001b[39;49mlevels,\n\u001b[0;32m    375\u001b[0m         names\u001b[39m=\u001b[39;49mnames,\n\u001b[0;32m    376\u001b[0m         verify_integrity\u001b[39m=\u001b[39;49mverify_integrity,\n\u001b[0;32m    377\u001b[0m         copy\u001b[39m=\u001b[39;49mcopy,\n\u001b[0;32m    378\u001b[0m         sort\u001b[39m=\u001b[39;49msort,\n\u001b[0;32m    379\u001b[0m     )\n\u001b[0;32m    381\u001b[0m     \u001b[39mreturn\u001b[39;00m op\u001b[39m.\u001b[39mget_result()\n",
      "File \u001b[1;32mc:\\Users\\Derek\\Desktop\\Code_Louisville\\BLS_Hourly_Wage\\venv\\lib\\site-packages\\pandas\\core\\reshape\\concat.py:563\u001b[0m, in \u001b[0;36m_Concatenator.__init__\u001b[1;34m(self, objs, axis, join, keys, levels, names, ignore_index, verify_integrity, copy, sort)\u001b[0m\n\u001b[0;32m    560\u001b[0m \u001b[39mself\u001b[39m\u001b[39m.\u001b[39mverify_integrity \u001b[39m=\u001b[39m verify_integrity\n\u001b[0;32m    561\u001b[0m \u001b[39mself\u001b[39m\u001b[39m.\u001b[39mcopy \u001b[39m=\u001b[39m copy\n\u001b[1;32m--> 563\u001b[0m \u001b[39mself\u001b[39m\u001b[39m.\u001b[39mnew_axes \u001b[39m=\u001b[39m \u001b[39mself\u001b[39;49m\u001b[39m.\u001b[39;49m_get_new_axes()\n",
      "File \u001b[1;32mc:\\Users\\Derek\\Desktop\\Code_Louisville\\BLS_Hourly_Wage\\venv\\lib\\site-packages\\pandas\\core\\reshape\\concat.py:633\u001b[0m, in \u001b[0;36m_Concatenator._get_new_axes\u001b[1;34m(self)\u001b[0m\n\u001b[0;32m    631\u001b[0m \u001b[39mdef\u001b[39;00m \u001b[39m_get_new_axes\u001b[39m(\u001b[39mself\u001b[39m) \u001b[39m-\u001b[39m\u001b[39m>\u001b[39m \u001b[39mlist\u001b[39m[Index]:\n\u001b[0;32m    632\u001b[0m     ndim \u001b[39m=\u001b[39m \u001b[39mself\u001b[39m\u001b[39m.\u001b[39m_get_result_dim()\n\u001b[1;32m--> 633\u001b[0m     \u001b[39mreturn\u001b[39;00m [\n\u001b[0;32m    634\u001b[0m         \u001b[39mself\u001b[39m\u001b[39m.\u001b[39m_get_concat_axis \u001b[39mif\u001b[39;00m i \u001b[39m==\u001b[39m \u001b[39mself\u001b[39m\u001b[39m.\u001b[39mbm_axis \u001b[39melse\u001b[39;00m \u001b[39mself\u001b[39m\u001b[39m.\u001b[39m_get_comb_axis(i)\n\u001b[0;32m    635\u001b[0m         \u001b[39mfor\u001b[39;00m i \u001b[39min\u001b[39;00m \u001b[39mrange\u001b[39m(ndim)\n\u001b[0;32m    636\u001b[0m     ]\n",
      "File \u001b[1;32mc:\\Users\\Derek\\Desktop\\Code_Louisville\\BLS_Hourly_Wage\\venv\\lib\\site-packages\\pandas\\core\\reshape\\concat.py:634\u001b[0m, in \u001b[0;36m<listcomp>\u001b[1;34m(.0)\u001b[0m\n\u001b[0;32m    631\u001b[0m \u001b[39mdef\u001b[39;00m \u001b[39m_get_new_axes\u001b[39m(\u001b[39mself\u001b[39m) \u001b[39m-\u001b[39m\u001b[39m>\u001b[39m \u001b[39mlist\u001b[39m[Index]:\n\u001b[0;32m    632\u001b[0m     ndim \u001b[39m=\u001b[39m \u001b[39mself\u001b[39m\u001b[39m.\u001b[39m_get_result_dim()\n\u001b[0;32m    633\u001b[0m     \u001b[39mreturn\u001b[39;00m [\n\u001b[1;32m--> 634\u001b[0m         \u001b[39mself\u001b[39;49m\u001b[39m.\u001b[39;49m_get_concat_axis \u001b[39mif\u001b[39;00m i \u001b[39m==\u001b[39m \u001b[39mself\u001b[39m\u001b[39m.\u001b[39mbm_axis \u001b[39melse\u001b[39;00m \u001b[39mself\u001b[39m\u001b[39m.\u001b[39m_get_comb_axis(i)\n\u001b[0;32m    635\u001b[0m         \u001b[39mfor\u001b[39;00m i \u001b[39min\u001b[39;00m \u001b[39mrange\u001b[39m(ndim)\n\u001b[0;32m    636\u001b[0m     ]\n",
      "File \u001b[1;32mc:\\Users\\Derek\\Desktop\\Code_Louisville\\BLS_Hourly_Wage\\venv\\lib\\site-packages\\pandas\\_libs\\properties.pyx:36\u001b[0m, in \u001b[0;36mpandas._libs.properties.CachedProperty.__get__\u001b[1;34m()\u001b[0m\n",
      "File \u001b[1;32mc:\\Users\\Derek\\Desktop\\Code_Louisville\\BLS_Hourly_Wage\\venv\\lib\\site-packages\\pandas\\core\\reshape\\concat.py:697\u001b[0m, in \u001b[0;36m_Concatenator._get_concat_axis\u001b[1;34m(self)\u001b[0m\n\u001b[0;32m    692\u001b[0m \u001b[39melse\u001b[39;00m:\n\u001b[0;32m    693\u001b[0m     concat_axis \u001b[39m=\u001b[39m _make_concat_multiindex(\n\u001b[0;32m    694\u001b[0m         indexes, \u001b[39mself\u001b[39m\u001b[39m.\u001b[39mkeys, \u001b[39mself\u001b[39m\u001b[39m.\u001b[39mlevels, \u001b[39mself\u001b[39m\u001b[39m.\u001b[39mnames\n\u001b[0;32m    695\u001b[0m     )\n\u001b[1;32m--> 697\u001b[0m \u001b[39mself\u001b[39;49m\u001b[39m.\u001b[39;49m_maybe_check_integrity(concat_axis)\n\u001b[0;32m    699\u001b[0m \u001b[39mreturn\u001b[39;00m concat_axis\n",
      "File \u001b[1;32mc:\\Users\\Derek\\Desktop\\Code_Louisville\\BLS_Hourly_Wage\\venv\\lib\\site-packages\\pandas\\core\\reshape\\concat.py:705\u001b[0m, in \u001b[0;36m_Concatenator._maybe_check_integrity\u001b[1;34m(self, concat_index)\u001b[0m\n\u001b[0;32m    703\u001b[0m \u001b[39mif\u001b[39;00m \u001b[39mnot\u001b[39;00m concat_index\u001b[39m.\u001b[39mis_unique:\n\u001b[0;32m    704\u001b[0m     overlap \u001b[39m=\u001b[39m concat_index[concat_index\u001b[39m.\u001b[39mduplicated()]\u001b[39m.\u001b[39munique()\n\u001b[1;32m--> 705\u001b[0m     \u001b[39mraise\u001b[39;00m \u001b[39mValueError\u001b[39;00m(\u001b[39mf\u001b[39m\u001b[39m\"\u001b[39m\u001b[39mIndexes have overlapping values: \u001b[39m\u001b[39m{\u001b[39;00moverlap\u001b[39m}\u001b[39;00m\u001b[39m\"\u001b[39m)\n",
      "\u001b[1;31mValueError\u001b[0m: Indexes have overlapping values: Index(['Year'], dtype='object')"
     ]
    }
   ],
   "source": [
    "df_all = df_0.join([df_1,df_2,df_3,df_4,df_5,df_6,df_7,df_8,df_9,df_10,df_11])"
   ]
  },
  {
   "cell_type": "code",
   "execution_count": 149,
   "metadata": {},
   "outputs": [
    {
     "ename": "IndexError",
     "evalue": "At least one sheet must be visible",
     "output_type": "error",
     "traceback": [
      "\u001b[1;31m---------------------------------------------------------------------------\u001b[0m",
      "\u001b[1;31mNameError\u001b[0m                                 Traceback (most recent call last)",
      "Cell \u001b[1;32mIn[149], line 2\u001b[0m\n\u001b[0;32m      1\u001b[0m \u001b[39mwith\u001b[39;00m pd\u001b[39m.\u001b[39mExcelWriter(\u001b[39m\"\u001b[39m\u001b[39mWarehouse_BLS.xlsx\u001b[39m\u001b[39m\"\u001b[39m) \u001b[39mas\u001b[39;00m writer:\n\u001b[1;32m----> 2\u001b[0m     df_all\u001b[39m.\u001b[39mto_excel(writer, sheet_name\u001b[39m=\u001b[39m\u001b[39m\"\u001b[39m\u001b[39mdf_all\u001b[39m\u001b[39m\"\u001b[39m, index\u001b[39m=\u001b[39m\u001b[39mFalse\u001b[39;00m)\n\u001b[0;32m      3\u001b[0m     df_0\u001b[39m.\u001b[39mto_excel(writer, sheet_name\u001b[39m=\u001b[39m var_0, index\u001b[39m=\u001b[39m\u001b[39mFalse\u001b[39;00m)\n",
      "\u001b[1;31mNameError\u001b[0m: name 'df_all' is not defined",
      "\nDuring handling of the above exception, another exception occurred:\n",
      "\u001b[1;31mIndexError\u001b[0m                                Traceback (most recent call last)",
      "Cell \u001b[1;32mIn[149], line 1\u001b[0m\n\u001b[1;32m----> 1\u001b[0m \u001b[39mwith\u001b[39;00m pd\u001b[39m.\u001b[39mExcelWriter(\u001b[39m\"\u001b[39m\u001b[39mWarehouse_BLS.xlsx\u001b[39m\u001b[39m\"\u001b[39m) \u001b[39mas\u001b[39;00m writer:\n\u001b[0;32m      2\u001b[0m     df_all\u001b[39m.\u001b[39mto_excel(writer, sheet_name\u001b[39m=\u001b[39m\u001b[39m\"\u001b[39m\u001b[39mdf_all\u001b[39m\u001b[39m\"\u001b[39m, index\u001b[39m=\u001b[39m\u001b[39mFalse\u001b[39;00m)\n\u001b[0;32m      3\u001b[0m     df_0\u001b[39m.\u001b[39mto_excel(writer, sheet_name\u001b[39m=\u001b[39m var_0, index\u001b[39m=\u001b[39m\u001b[39mFalse\u001b[39;00m)\n",
      "File \u001b[1;32mc:\\Users\\Derek\\Desktop\\Code_Louisville\\BLS_Hourly_Wage\\venv\\lib\\site-packages\\pandas\\io\\excel\\_base.py:1476\u001b[0m, in \u001b[0;36mExcelWriter.__exit__\u001b[1;34m(self, exc_type, exc_value, traceback)\u001b[0m\n\u001b[0;32m   1475\u001b[0m \u001b[39mdef\u001b[39;00m \u001b[39m__exit__\u001b[39m(\u001b[39mself\u001b[39m, exc_type, exc_value, traceback) \u001b[39m-\u001b[39m\u001b[39m>\u001b[39m \u001b[39mNone\u001b[39;00m:\n\u001b[1;32m-> 1476\u001b[0m     \u001b[39mself\u001b[39;49m\u001b[39m.\u001b[39;49mclose()\n",
      "File \u001b[1;32mc:\\Users\\Derek\\Desktop\\Code_Louisville\\BLS_Hourly_Wage\\venv\\lib\\site-packages\\pandas\\io\\excel\\_base.py:1480\u001b[0m, in \u001b[0;36mExcelWriter.close\u001b[1;34m(self)\u001b[0m\n\u001b[0;32m   1478\u001b[0m \u001b[39mdef\u001b[39;00m \u001b[39mclose\u001b[39m(\u001b[39mself\u001b[39m) \u001b[39m-\u001b[39m\u001b[39m>\u001b[39m \u001b[39mNone\u001b[39;00m:\n\u001b[0;32m   1479\u001b[0m \u001b[39m    \u001b[39m\u001b[39m\"\"\"synonym for save, to make it more file-like\"\"\"\u001b[39;00m\n\u001b[1;32m-> 1480\u001b[0m     \u001b[39mself\u001b[39;49m\u001b[39m.\u001b[39;49m_save()\n\u001b[0;32m   1481\u001b[0m     \u001b[39mself\u001b[39m\u001b[39m.\u001b[39m_handles\u001b[39m.\u001b[39mclose()\n",
      "File \u001b[1;32mc:\\Users\\Derek\\Desktop\\Code_Louisville\\BLS_Hourly_Wage\\venv\\lib\\site-packages\\pandas\\io\\excel\\_openpyxl.py:109\u001b[0m, in \u001b[0;36mOpenpyxlWriter._save\u001b[1;34m(self)\u001b[0m\n\u001b[0;32m    105\u001b[0m \u001b[39mdef\u001b[39;00m \u001b[39m_save\u001b[39m(\u001b[39mself\u001b[39m) \u001b[39m-\u001b[39m\u001b[39m>\u001b[39m \u001b[39mNone\u001b[39;00m:\n\u001b[0;32m    106\u001b[0m \u001b[39m    \u001b[39m\u001b[39m\"\"\"\u001b[39;00m\n\u001b[0;32m    107\u001b[0m \u001b[39m    Save workbook to disk.\u001b[39;00m\n\u001b[0;32m    108\u001b[0m \u001b[39m    \"\"\"\u001b[39;00m\n\u001b[1;32m--> 109\u001b[0m     \u001b[39mself\u001b[39;49m\u001b[39m.\u001b[39;49mbook\u001b[39m.\u001b[39;49msave(\u001b[39mself\u001b[39;49m\u001b[39m.\u001b[39;49m_handles\u001b[39m.\u001b[39;49mhandle)\n\u001b[0;32m    110\u001b[0m     \u001b[39mif\u001b[39;00m \u001b[39m\"\u001b[39m\u001b[39mr+\u001b[39m\u001b[39m\"\u001b[39m \u001b[39min\u001b[39;00m \u001b[39mself\u001b[39m\u001b[39m.\u001b[39m_mode \u001b[39mand\u001b[39;00m \u001b[39mnot\u001b[39;00m \u001b[39misinstance\u001b[39m(\u001b[39mself\u001b[39m\u001b[39m.\u001b[39m_handles\u001b[39m.\u001b[39mhandle, mmap\u001b[39m.\u001b[39mmmap):\n\u001b[0;32m    111\u001b[0m         \u001b[39m# truncate file to the written content\u001b[39;00m\n\u001b[0;32m    112\u001b[0m         \u001b[39mself\u001b[39m\u001b[39m.\u001b[39m_handles\u001b[39m.\u001b[39mhandle\u001b[39m.\u001b[39mtruncate()\n",
      "File \u001b[1;32mc:\\Users\\Derek\\Desktop\\Code_Louisville\\BLS_Hourly_Wage\\venv\\lib\\site-packages\\openpyxl\\workbook\\workbook.py:386\u001b[0m, in \u001b[0;36mWorkbook.save\u001b[1;34m(self, filename)\u001b[0m\n\u001b[0;32m    384\u001b[0m \u001b[39mif\u001b[39;00m \u001b[39mself\u001b[39m\u001b[39m.\u001b[39mwrite_only \u001b[39mand\u001b[39;00m \u001b[39mnot\u001b[39;00m \u001b[39mself\u001b[39m\u001b[39m.\u001b[39mworksheets:\n\u001b[0;32m    385\u001b[0m     \u001b[39mself\u001b[39m\u001b[39m.\u001b[39mcreate_sheet()\n\u001b[1;32m--> 386\u001b[0m save_workbook(\u001b[39mself\u001b[39;49m, filename)\n",
      "File \u001b[1;32mc:\\Users\\Derek\\Desktop\\Code_Louisville\\BLS_Hourly_Wage\\venv\\lib\\site-packages\\openpyxl\\writer\\excel.py:304\u001b[0m, in \u001b[0;36msave_workbook\u001b[1;34m(workbook, filename)\u001b[0m\n\u001b[0;32m    302\u001b[0m archive \u001b[39m=\u001b[39m ZipFile(filename, \u001b[39m'\u001b[39m\u001b[39mw\u001b[39m\u001b[39m'\u001b[39m, ZIP_DEFLATED, allowZip64\u001b[39m=\u001b[39m\u001b[39mTrue\u001b[39;00m)\n\u001b[0;32m    303\u001b[0m writer \u001b[39m=\u001b[39m ExcelWriter(workbook, archive)\n\u001b[1;32m--> 304\u001b[0m writer\u001b[39m.\u001b[39;49msave()\n\u001b[0;32m    305\u001b[0m \u001b[39mreturn\u001b[39;00m \u001b[39mTrue\u001b[39;00m\n",
      "File \u001b[1;32mc:\\Users\\Derek\\Desktop\\Code_Louisville\\BLS_Hourly_Wage\\venv\\lib\\site-packages\\openpyxl\\writer\\excel.py:286\u001b[0m, in \u001b[0;36mExcelWriter.save\u001b[1;34m(self)\u001b[0m\n\u001b[0;32m    284\u001b[0m \u001b[39mdef\u001b[39;00m \u001b[39msave\u001b[39m(\u001b[39mself\u001b[39m):\n\u001b[0;32m    285\u001b[0m \u001b[39m    \u001b[39m\u001b[39m\"\"\"Write data into the archive.\"\"\"\u001b[39;00m\n\u001b[1;32m--> 286\u001b[0m     \u001b[39mself\u001b[39;49m\u001b[39m.\u001b[39;49mwrite_data()\n\u001b[0;32m    287\u001b[0m     \u001b[39mself\u001b[39m\u001b[39m.\u001b[39m_archive\u001b[39m.\u001b[39mclose()\n",
      "File \u001b[1;32mc:\\Users\\Derek\\Desktop\\Code_Louisville\\BLS_Hourly_Wage\\venv\\lib\\site-packages\\openpyxl\\writer\\excel.py:100\u001b[0m, in \u001b[0;36mExcelWriter.write_data\u001b[1;34m(self)\u001b[0m\n\u001b[0;32m     98\u001b[0m writer \u001b[39m=\u001b[39m WorkbookWriter(\u001b[39mself\u001b[39m\u001b[39m.\u001b[39mworkbook)\n\u001b[0;32m     99\u001b[0m archive\u001b[39m.\u001b[39mwritestr(ARC_ROOT_RELS, writer\u001b[39m.\u001b[39mwrite_root_rels())\n\u001b[1;32m--> 100\u001b[0m archive\u001b[39m.\u001b[39mwritestr(ARC_WORKBOOK, writer\u001b[39m.\u001b[39;49mwrite())\n\u001b[0;32m    101\u001b[0m archive\u001b[39m.\u001b[39mwritestr(ARC_WORKBOOK_RELS, writer\u001b[39m.\u001b[39mwrite_rels())\n\u001b[0;32m    103\u001b[0m \u001b[39mself\u001b[39m\u001b[39m.\u001b[39m_merge_vba()\n",
      "File \u001b[1;32mc:\\Users\\Derek\\Desktop\\Code_Louisville\\BLS_Hourly_Wage\\venv\\lib\\site-packages\\openpyxl\\workbook\\_writer.py:150\u001b[0m, in \u001b[0;36mWorkbookWriter.write\u001b[1;34m(self)\u001b[0m\n\u001b[0;32m    148\u001b[0m \u001b[39mself\u001b[39m\u001b[39m.\u001b[39mwrite_names()\n\u001b[0;32m    149\u001b[0m \u001b[39mself\u001b[39m\u001b[39m.\u001b[39mwrite_pivots()\n\u001b[1;32m--> 150\u001b[0m \u001b[39mself\u001b[39;49m\u001b[39m.\u001b[39;49mwrite_views()\n\u001b[0;32m    151\u001b[0m \u001b[39mself\u001b[39m\u001b[39m.\u001b[39mwrite_refs()\n\u001b[0;32m    153\u001b[0m \u001b[39mreturn\u001b[39;00m tostring(\u001b[39mself\u001b[39m\u001b[39m.\u001b[39mpackage\u001b[39m.\u001b[39mto_tree())\n",
      "File \u001b[1;32mc:\\Users\\Derek\\Desktop\\Code_Louisville\\BLS_Hourly_Wage\\venv\\lib\\site-packages\\openpyxl\\workbook\\_writer.py:137\u001b[0m, in \u001b[0;36mWorkbookWriter.write_views\u001b[1;34m(self)\u001b[0m\n\u001b[0;32m    136\u001b[0m \u001b[39mdef\u001b[39;00m \u001b[39mwrite_views\u001b[39m(\u001b[39mself\u001b[39m):\n\u001b[1;32m--> 137\u001b[0m     active \u001b[39m=\u001b[39m get_active_sheet(\u001b[39mself\u001b[39;49m\u001b[39m.\u001b[39;49mwb)\n\u001b[0;32m    138\u001b[0m     \u001b[39mif\u001b[39;00m \u001b[39mself\u001b[39m\u001b[39m.\u001b[39mwb\u001b[39m.\u001b[39mviews:\n\u001b[0;32m    139\u001b[0m         \u001b[39mself\u001b[39m\u001b[39m.\u001b[39mwb\u001b[39m.\u001b[39mviews[\u001b[39m0\u001b[39m]\u001b[39m.\u001b[39mactiveTab \u001b[39m=\u001b[39m active\n",
      "File \u001b[1;32mc:\\Users\\Derek\\Desktop\\Code_Louisville\\BLS_Hourly_Wage\\venv\\lib\\site-packages\\openpyxl\\workbook\\_writer.py:35\u001b[0m, in \u001b[0;36mget_active_sheet\u001b[1;34m(wb)\u001b[0m\n\u001b[0;32m     33\u001b[0m visible_sheets \u001b[39m=\u001b[39m [idx \u001b[39mfor\u001b[39;00m idx, sheet \u001b[39min\u001b[39;00m \u001b[39menumerate\u001b[39m(wb\u001b[39m.\u001b[39m_sheets) \u001b[39mif\u001b[39;00m sheet\u001b[39m.\u001b[39msheet_state \u001b[39m==\u001b[39m \u001b[39m\"\u001b[39m\u001b[39mvisible\u001b[39m\u001b[39m\"\u001b[39m]\n\u001b[0;32m     34\u001b[0m \u001b[39mif\u001b[39;00m \u001b[39mnot\u001b[39;00m visible_sheets:\n\u001b[1;32m---> 35\u001b[0m     \u001b[39mraise\u001b[39;00m \u001b[39mIndexError\u001b[39;00m(\u001b[39m\"\u001b[39m\u001b[39mAt least one sheet must be visible\u001b[39m\u001b[39m\"\u001b[39m)\n\u001b[0;32m     37\u001b[0m idx \u001b[39m=\u001b[39m wb\u001b[39m.\u001b[39m_active_sheet_index\n\u001b[0;32m     38\u001b[0m sheet \u001b[39m=\u001b[39m wb\u001b[39m.\u001b[39mactive\n",
      "\u001b[1;31mIndexError\u001b[0m: At least one sheet must be visible"
     ]
    }
   ],
   "source": [
    "with pd.ExcelWriter(\"Warehouse_BLS.xlsx\") as writer:\n",
    "    df_all.to_excel(writer, sheet_name=\"df_all\", index=False)\n",
    "    df_0.to_excel(writer, sheet_name= var_0, index=False)\n",
    "    df_1.to_excel(writer, sheet_name= var_1, index=False)\n",
    "    df_2.to_excel(writer, sheet_name= var_2, index=False)\n",
    "    df_3.to_excel(writer, sheet_name= var_3, index=False)\n",
    "    df_4.to_excel(writer, sheet_name= var_4, index=False)\n",
    "    df_5.to_excel(writer, sheet_name= var_5, index=False)\n",
    "    df_6.to_excel(writer, sheet_name= var_6, index=False)\n",
    "    df_7.to_excel(writer, sheet_name= var_7, index=False)\n",
    "    df_8.to_excel(writer, sheet_name= var_8, index=False)\n",
    "    df_9.to_excel(writer, sheet_name= var_9, index=False)\n",
    "    df_10.to_excel(writer, sheet_name= var_10, index=False)\n",
    "    df_11.to_excel(writer, sheet_name= var_11, index=False)\n"
   ]
  },
  {
   "cell_type": "code",
   "execution_count": 118,
   "metadata": {},
   "outputs": [
    {
     "data": {
      "application/vnd.plotly.v1+json": {
       "config": {
        "plotlyServerURL": "https://plot.ly"
       },
       "data": [
        {
         "alignmentgroup": "True",
         "hovertemplate": "Year=%{x}<br>Total=%{y}<extra></extra>",
         "legendgroup": "",
         "marker": {
          "color": "#111173",
          "pattern": {
           "shape": ""
          }
         },
         "name": "",
         "offsetgroup": "",
         "orientation": "v",
         "showlegend": false,
         "textposition": "auto",
         "texttemplate": "%{y}",
         "type": "bar",
         "x": [
          "2021",
          "2020",
          "2019",
          "2018",
          "2017",
          "2016",
          "2015",
          "2014",
          "2013",
          "2012",
          "2011"
         ],
         "xaxis": "x",
         "y": [
          4728,
          4349,
          4907,
          4779,
          4674,
          4693,
          4379,
          4386,
          4101,
          4175,
          4188
         ],
         "yaxis": "y"
        }
       ],
       "layout": {
        "barmode": "relative",
        "font": {
         "color": "black",
         "family": "Arial"
        },
        "legend": {
         "tracegroupgap": 0
        },
        "template": {
         "data": {
          "bar": [
           {
            "error_x": {
             "color": "#2a3f5f"
            },
            "error_y": {
             "color": "#2a3f5f"
            },
            "marker": {
             "line": {
              "color": "#E5ECF6",
              "width": 0.5
             },
             "pattern": {
              "fillmode": "overlay",
              "size": 10,
              "solidity": 0.2
             }
            },
            "type": "bar"
           }
          ],
          "barpolar": [
           {
            "marker": {
             "line": {
              "color": "#E5ECF6",
              "width": 0.5
             },
             "pattern": {
              "fillmode": "overlay",
              "size": 10,
              "solidity": 0.2
             }
            },
            "type": "barpolar"
           }
          ],
          "carpet": [
           {
            "aaxis": {
             "endlinecolor": "#2a3f5f",
             "gridcolor": "white",
             "linecolor": "white",
             "minorgridcolor": "white",
             "startlinecolor": "#2a3f5f"
            },
            "baxis": {
             "endlinecolor": "#2a3f5f",
             "gridcolor": "white",
             "linecolor": "white",
             "minorgridcolor": "white",
             "startlinecolor": "#2a3f5f"
            },
            "type": "carpet"
           }
          ],
          "choropleth": [
           {
            "colorbar": {
             "outlinewidth": 0,
             "ticks": ""
            },
            "type": "choropleth"
           }
          ],
          "contour": [
           {
            "colorbar": {
             "outlinewidth": 0,
             "ticks": ""
            },
            "colorscale": [
             [
              0,
              "#0d0887"
             ],
             [
              0.1111111111111111,
              "#46039f"
             ],
             [
              0.2222222222222222,
              "#7201a8"
             ],
             [
              0.3333333333333333,
              "#9c179e"
             ],
             [
              0.4444444444444444,
              "#bd3786"
             ],
             [
              0.5555555555555556,
              "#d8576b"
             ],
             [
              0.6666666666666666,
              "#ed7953"
             ],
             [
              0.7777777777777778,
              "#fb9f3a"
             ],
             [
              0.8888888888888888,
              "#fdca26"
             ],
             [
              1,
              "#f0f921"
             ]
            ],
            "type": "contour"
           }
          ],
          "contourcarpet": [
           {
            "colorbar": {
             "outlinewidth": 0,
             "ticks": ""
            },
            "type": "contourcarpet"
           }
          ],
          "heatmap": [
           {
            "colorbar": {
             "outlinewidth": 0,
             "ticks": ""
            },
            "colorscale": [
             [
              0,
              "#0d0887"
             ],
             [
              0.1111111111111111,
              "#46039f"
             ],
             [
              0.2222222222222222,
              "#7201a8"
             ],
             [
              0.3333333333333333,
              "#9c179e"
             ],
             [
              0.4444444444444444,
              "#bd3786"
             ],
             [
              0.5555555555555556,
              "#d8576b"
             ],
             [
              0.6666666666666666,
              "#ed7953"
             ],
             [
              0.7777777777777778,
              "#fb9f3a"
             ],
             [
              0.8888888888888888,
              "#fdca26"
             ],
             [
              1,
              "#f0f921"
             ]
            ],
            "type": "heatmap"
           }
          ],
          "heatmapgl": [
           {
            "colorbar": {
             "outlinewidth": 0,
             "ticks": ""
            },
            "colorscale": [
             [
              0,
              "#0d0887"
             ],
             [
              0.1111111111111111,
              "#46039f"
             ],
             [
              0.2222222222222222,
              "#7201a8"
             ],
             [
              0.3333333333333333,
              "#9c179e"
             ],
             [
              0.4444444444444444,
              "#bd3786"
             ],
             [
              0.5555555555555556,
              "#d8576b"
             ],
             [
              0.6666666666666666,
              "#ed7953"
             ],
             [
              0.7777777777777778,
              "#fb9f3a"
             ],
             [
              0.8888888888888888,
              "#fdca26"
             ],
             [
              1,
              "#f0f921"
             ]
            ],
            "type": "heatmapgl"
           }
          ],
          "histogram": [
           {
            "marker": {
             "pattern": {
              "fillmode": "overlay",
              "size": 10,
              "solidity": 0.2
             }
            },
            "type": "histogram"
           }
          ],
          "histogram2d": [
           {
            "colorbar": {
             "outlinewidth": 0,
             "ticks": ""
            },
            "colorscale": [
             [
              0,
              "#0d0887"
             ],
             [
              0.1111111111111111,
              "#46039f"
             ],
             [
              0.2222222222222222,
              "#7201a8"
             ],
             [
              0.3333333333333333,
              "#9c179e"
             ],
             [
              0.4444444444444444,
              "#bd3786"
             ],
             [
              0.5555555555555556,
              "#d8576b"
             ],
             [
              0.6666666666666666,
              "#ed7953"
             ],
             [
              0.7777777777777778,
              "#fb9f3a"
             ],
             [
              0.8888888888888888,
              "#fdca26"
             ],
             [
              1,
              "#f0f921"
             ]
            ],
            "type": "histogram2d"
           }
          ],
          "histogram2dcontour": [
           {
            "colorbar": {
             "outlinewidth": 0,
             "ticks": ""
            },
            "colorscale": [
             [
              0,
              "#0d0887"
             ],
             [
              0.1111111111111111,
              "#46039f"
             ],
             [
              0.2222222222222222,
              "#7201a8"
             ],
             [
              0.3333333333333333,
              "#9c179e"
             ],
             [
              0.4444444444444444,
              "#bd3786"
             ],
             [
              0.5555555555555556,
              "#d8576b"
             ],
             [
              0.6666666666666666,
              "#ed7953"
             ],
             [
              0.7777777777777778,
              "#fb9f3a"
             ],
             [
              0.8888888888888888,
              "#fdca26"
             ],
             [
              1,
              "#f0f921"
             ]
            ],
            "type": "histogram2dcontour"
           }
          ],
          "mesh3d": [
           {
            "colorbar": {
             "outlinewidth": 0,
             "ticks": ""
            },
            "type": "mesh3d"
           }
          ],
          "parcoords": [
           {
            "line": {
             "colorbar": {
              "outlinewidth": 0,
              "ticks": ""
             }
            },
            "type": "parcoords"
           }
          ],
          "pie": [
           {
            "automargin": true,
            "type": "pie"
           }
          ],
          "scatter": [
           {
            "fillpattern": {
             "fillmode": "overlay",
             "size": 10,
             "solidity": 0.2
            },
            "type": "scatter"
           }
          ],
          "scatter3d": [
           {
            "line": {
             "colorbar": {
              "outlinewidth": 0,
              "ticks": ""
             }
            },
            "marker": {
             "colorbar": {
              "outlinewidth": 0,
              "ticks": ""
             }
            },
            "type": "scatter3d"
           }
          ],
          "scattercarpet": [
           {
            "marker": {
             "colorbar": {
              "outlinewidth": 0,
              "ticks": ""
             }
            },
            "type": "scattercarpet"
           }
          ],
          "scattergeo": [
           {
            "marker": {
             "colorbar": {
              "outlinewidth": 0,
              "ticks": ""
             }
            },
            "type": "scattergeo"
           }
          ],
          "scattergl": [
           {
            "marker": {
             "colorbar": {
              "outlinewidth": 0,
              "ticks": ""
             }
            },
            "type": "scattergl"
           }
          ],
          "scattermapbox": [
           {
            "marker": {
             "colorbar": {
              "outlinewidth": 0,
              "ticks": ""
             }
            },
            "type": "scattermapbox"
           }
          ],
          "scatterpolar": [
           {
            "marker": {
             "colorbar": {
              "outlinewidth": 0,
              "ticks": ""
             }
            },
            "type": "scatterpolar"
           }
          ],
          "scatterpolargl": [
           {
            "marker": {
             "colorbar": {
              "outlinewidth": 0,
              "ticks": ""
             }
            },
            "type": "scatterpolargl"
           }
          ],
          "scatterternary": [
           {
            "marker": {
             "colorbar": {
              "outlinewidth": 0,
              "ticks": ""
             }
            },
            "type": "scatterternary"
           }
          ],
          "surface": [
           {
            "colorbar": {
             "outlinewidth": 0,
             "ticks": ""
            },
            "colorscale": [
             [
              0,
              "#0d0887"
             ],
             [
              0.1111111111111111,
              "#46039f"
             ],
             [
              0.2222222222222222,
              "#7201a8"
             ],
             [
              0.3333333333333333,
              "#9c179e"
             ],
             [
              0.4444444444444444,
              "#bd3786"
             ],
             [
              0.5555555555555556,
              "#d8576b"
             ],
             [
              0.6666666666666666,
              "#ed7953"
             ],
             [
              0.7777777777777778,
              "#fb9f3a"
             ],
             [
              0.8888888888888888,
              "#fdca26"
             ],
             [
              1,
              "#f0f921"
             ]
            ],
            "type": "surface"
           }
          ],
          "table": [
           {
            "cells": {
             "fill": {
              "color": "#EBF0F8"
             },
             "line": {
              "color": "white"
             }
            },
            "header": {
             "fill": {
              "color": "#C8D4E3"
             },
             "line": {
              "color": "white"
             }
            },
            "type": "table"
           }
          ]
         },
         "layout": {
          "annotationdefaults": {
           "arrowcolor": "#2a3f5f",
           "arrowhead": 0,
           "arrowwidth": 1
          },
          "autotypenumbers": "strict",
          "coloraxis": {
           "colorbar": {
            "outlinewidth": 0,
            "ticks": ""
           }
          },
          "colorscale": {
           "diverging": [
            [
             0,
             "#8e0152"
            ],
            [
             0.1,
             "#c51b7d"
            ],
            [
             0.2,
             "#de77ae"
            ],
            [
             0.3,
             "#f1b6da"
            ],
            [
             0.4,
             "#fde0ef"
            ],
            [
             0.5,
             "#f7f7f7"
            ],
            [
             0.6,
             "#e6f5d0"
            ],
            [
             0.7,
             "#b8e186"
            ],
            [
             0.8,
             "#7fbc41"
            ],
            [
             0.9,
             "#4d9221"
            ],
            [
             1,
             "#276419"
            ]
           ],
           "sequential": [
            [
             0,
             "#0d0887"
            ],
            [
             0.1111111111111111,
             "#46039f"
            ],
            [
             0.2222222222222222,
             "#7201a8"
            ],
            [
             0.3333333333333333,
             "#9c179e"
            ],
            [
             0.4444444444444444,
             "#bd3786"
            ],
            [
             0.5555555555555556,
             "#d8576b"
            ],
            [
             0.6666666666666666,
             "#ed7953"
            ],
            [
             0.7777777777777778,
             "#fb9f3a"
            ],
            [
             0.8888888888888888,
             "#fdca26"
            ],
            [
             1,
             "#f0f921"
            ]
           ],
           "sequentialminus": [
            [
             0,
             "#0d0887"
            ],
            [
             0.1111111111111111,
             "#46039f"
            ],
            [
             0.2222222222222222,
             "#7201a8"
            ],
            [
             0.3333333333333333,
             "#9c179e"
            ],
            [
             0.4444444444444444,
             "#bd3786"
            ],
            [
             0.5555555555555556,
             "#d8576b"
            ],
            [
             0.6666666666666666,
             "#ed7953"
            ],
            [
             0.7777777777777778,
             "#fb9f3a"
            ],
            [
             0.8888888888888888,
             "#fdca26"
            ],
            [
             1,
             "#f0f921"
            ]
           ]
          },
          "colorway": [
           "#636efa",
           "#EF553B",
           "#00cc96",
           "#ab63fa",
           "#FFA15A",
           "#19d3f3",
           "#FF6692",
           "#B6E880",
           "#FF97FF",
           "#FECB52"
          ],
          "font": {
           "color": "#2a3f5f"
          },
          "geo": {
           "bgcolor": "white",
           "lakecolor": "white",
           "landcolor": "#E5ECF6",
           "showlakes": true,
           "showland": true,
           "subunitcolor": "white"
          },
          "hoverlabel": {
           "align": "left"
          },
          "hovermode": "closest",
          "mapbox": {
           "style": "light"
          },
          "paper_bgcolor": "white",
          "plot_bgcolor": "#E5ECF6",
          "polar": {
           "angularaxis": {
            "gridcolor": "white",
            "linecolor": "white",
            "ticks": ""
           },
           "bgcolor": "#E5ECF6",
           "radialaxis": {
            "gridcolor": "white",
            "linecolor": "white",
            "ticks": ""
           }
          },
          "scene": {
           "xaxis": {
            "backgroundcolor": "#E5ECF6",
            "gridcolor": "white",
            "gridwidth": 2,
            "linecolor": "white",
            "showbackground": true,
            "ticks": "",
            "zerolinecolor": "white"
           },
           "yaxis": {
            "backgroundcolor": "#E5ECF6",
            "gridcolor": "white",
            "gridwidth": 2,
            "linecolor": "white",
            "showbackground": true,
            "ticks": "",
            "zerolinecolor": "white"
           },
           "zaxis": {
            "backgroundcolor": "#E5ECF6",
            "gridcolor": "white",
            "gridwidth": 2,
            "linecolor": "white",
            "showbackground": true,
            "ticks": "",
            "zerolinecolor": "white"
           }
          },
          "shapedefaults": {
           "line": {
            "color": "#2a3f5f"
           }
          },
          "ternary": {
           "aaxis": {
            "gridcolor": "white",
            "linecolor": "white",
            "ticks": ""
           },
           "baxis": {
            "gridcolor": "white",
            "linecolor": "white",
            "ticks": ""
           },
           "bgcolor": "#E5ECF6",
           "caxis": {
            "gridcolor": "white",
            "linecolor": "white",
            "ticks": ""
           }
          },
          "title": {
           "x": 0.05
          },
          "xaxis": {
           "automargin": true,
           "gridcolor": "white",
           "linecolor": "white",
           "ticks": "",
           "title": {
            "standoff": 15
           },
           "zerolinecolor": "white",
           "zerolinewidth": 2
          },
          "yaxis": {
           "automargin": true,
           "gridcolor": "white",
           "linecolor": "white",
           "ticks": "",
           "title": {
            "standoff": 15
           },
           "zerolinecolor": "white",
           "zerolinewidth": 2
          }
         }
        },
        "title": {
         "font": {
          "color": "black",
          "family": "Arial",
          "size": 24
         },
         "text": "US Workplace Total Fatalities<br>2011 - 2021",
         "x": 0.5,
         "xanchor": "center"
        },
        "xaxis": {
         "anchor": "y",
         "domain": [
          0,
          1
         ],
         "title": {
          "text": "Year"
         }
        },
        "yaxis": {
         "anchor": "x",
         "autorange": false,
         "domain": [
          0,
          1
         ],
         "fixedrange": false,
         "range": [
          "4000",
          "5000"
         ],
         "title": {
          "text": "Total"
         }
        }
       }
      }
     },
     "metadata": {},
     "output_type": "display_data"
    }
   ],
   "source": [
    "fig = px.bar(df_0, x=df_0['Year'], y=df_0[var_0], \n",
    "                text_auto=True, \n",
    "                title= 'US Workplace ' + var_0 + ' Fatalities<br>' + str(syear) + ' - ' + str(eyear))\n",
    "fig.update_yaxes(autorange=False,fixedrange=False,range=['4000','5000'])                \n",
    "fig.update_traces(marker_color='#111173')\n",
    "fig.update_layout(\n",
    "    font_family=\"Arial\",\n",
    "    font_color=\"black\",\n",
    "    title_x=0.5,\n",
    "    title_xanchor=\"center\",\n",
    "    title_font_family=\"Arial\",\n",
    "    title_font_color=\"black\",\n",
    "    title_font_size=24\n",
    "    )               \n",
    "fig.show()"
   ]
  },
  {
   "cell_type": "code",
   "execution_count": 119,
   "metadata": {},
   "outputs": [
    {
     "data": {
      "application/vnd.plotly.v1+json": {
       "config": {
        "plotlyServerURL": "https://plot.ly"
       },
       "data": [
        {
         "alignmentgroup": "True",
         "hovertemplate": "Year=%{x}<br>Private Industrys=%{y}<extra></extra>",
         "legendgroup": "",
         "marker": {
          "color": "#111173",
          "pattern": {
           "shape": ""
          }
         },
         "name": "",
         "offsetgroup": "",
         "orientation": "v",
         "showlegend": false,
         "textposition": "auto",
         "texttemplate": "%{y}",
         "type": "bar",
         "x": [
          "2021",
          "2020",
          "2019",
          "2018",
          "2017",
          "2016",
          "2015",
          "2014",
          "2013",
          "2012",
          "2011"
         ],
         "xaxis": "x",
         "y": [
          4728,
          4349,
          4907,
          4779,
          4674,
          4693,
          4379,
          4386,
          4101,
          4175,
          4188
         ],
         "yaxis": "y"
        }
       ],
       "layout": {
        "barmode": "relative",
        "font": {
         "color": "black",
         "family": "Arial"
        },
        "legend": {
         "tracegroupgap": 0
        },
        "template": {
         "data": {
          "bar": [
           {
            "error_x": {
             "color": "#2a3f5f"
            },
            "error_y": {
             "color": "#2a3f5f"
            },
            "marker": {
             "line": {
              "color": "#E5ECF6",
              "width": 0.5
             },
             "pattern": {
              "fillmode": "overlay",
              "size": 10,
              "solidity": 0.2
             }
            },
            "type": "bar"
           }
          ],
          "barpolar": [
           {
            "marker": {
             "line": {
              "color": "#E5ECF6",
              "width": 0.5
             },
             "pattern": {
              "fillmode": "overlay",
              "size": 10,
              "solidity": 0.2
             }
            },
            "type": "barpolar"
           }
          ],
          "carpet": [
           {
            "aaxis": {
             "endlinecolor": "#2a3f5f",
             "gridcolor": "white",
             "linecolor": "white",
             "minorgridcolor": "white",
             "startlinecolor": "#2a3f5f"
            },
            "baxis": {
             "endlinecolor": "#2a3f5f",
             "gridcolor": "white",
             "linecolor": "white",
             "minorgridcolor": "white",
             "startlinecolor": "#2a3f5f"
            },
            "type": "carpet"
           }
          ],
          "choropleth": [
           {
            "colorbar": {
             "outlinewidth": 0,
             "ticks": ""
            },
            "type": "choropleth"
           }
          ],
          "contour": [
           {
            "colorbar": {
             "outlinewidth": 0,
             "ticks": ""
            },
            "colorscale": [
             [
              0,
              "#0d0887"
             ],
             [
              0.1111111111111111,
              "#46039f"
             ],
             [
              0.2222222222222222,
              "#7201a8"
             ],
             [
              0.3333333333333333,
              "#9c179e"
             ],
             [
              0.4444444444444444,
              "#bd3786"
             ],
             [
              0.5555555555555556,
              "#d8576b"
             ],
             [
              0.6666666666666666,
              "#ed7953"
             ],
             [
              0.7777777777777778,
              "#fb9f3a"
             ],
             [
              0.8888888888888888,
              "#fdca26"
             ],
             [
              1,
              "#f0f921"
             ]
            ],
            "type": "contour"
           }
          ],
          "contourcarpet": [
           {
            "colorbar": {
             "outlinewidth": 0,
             "ticks": ""
            },
            "type": "contourcarpet"
           }
          ],
          "heatmap": [
           {
            "colorbar": {
             "outlinewidth": 0,
             "ticks": ""
            },
            "colorscale": [
             [
              0,
              "#0d0887"
             ],
             [
              0.1111111111111111,
              "#46039f"
             ],
             [
              0.2222222222222222,
              "#7201a8"
             ],
             [
              0.3333333333333333,
              "#9c179e"
             ],
             [
              0.4444444444444444,
              "#bd3786"
             ],
             [
              0.5555555555555556,
              "#d8576b"
             ],
             [
              0.6666666666666666,
              "#ed7953"
             ],
             [
              0.7777777777777778,
              "#fb9f3a"
             ],
             [
              0.8888888888888888,
              "#fdca26"
             ],
             [
              1,
              "#f0f921"
             ]
            ],
            "type": "heatmap"
           }
          ],
          "heatmapgl": [
           {
            "colorbar": {
             "outlinewidth": 0,
             "ticks": ""
            },
            "colorscale": [
             [
              0,
              "#0d0887"
             ],
             [
              0.1111111111111111,
              "#46039f"
             ],
             [
              0.2222222222222222,
              "#7201a8"
             ],
             [
              0.3333333333333333,
              "#9c179e"
             ],
             [
              0.4444444444444444,
              "#bd3786"
             ],
             [
              0.5555555555555556,
              "#d8576b"
             ],
             [
              0.6666666666666666,
              "#ed7953"
             ],
             [
              0.7777777777777778,
              "#fb9f3a"
             ],
             [
              0.8888888888888888,
              "#fdca26"
             ],
             [
              1,
              "#f0f921"
             ]
            ],
            "type": "heatmapgl"
           }
          ],
          "histogram": [
           {
            "marker": {
             "pattern": {
              "fillmode": "overlay",
              "size": 10,
              "solidity": 0.2
             }
            },
            "type": "histogram"
           }
          ],
          "histogram2d": [
           {
            "colorbar": {
             "outlinewidth": 0,
             "ticks": ""
            },
            "colorscale": [
             [
              0,
              "#0d0887"
             ],
             [
              0.1111111111111111,
              "#46039f"
             ],
             [
              0.2222222222222222,
              "#7201a8"
             ],
             [
              0.3333333333333333,
              "#9c179e"
             ],
             [
              0.4444444444444444,
              "#bd3786"
             ],
             [
              0.5555555555555556,
              "#d8576b"
             ],
             [
              0.6666666666666666,
              "#ed7953"
             ],
             [
              0.7777777777777778,
              "#fb9f3a"
             ],
             [
              0.8888888888888888,
              "#fdca26"
             ],
             [
              1,
              "#f0f921"
             ]
            ],
            "type": "histogram2d"
           }
          ],
          "histogram2dcontour": [
           {
            "colorbar": {
             "outlinewidth": 0,
             "ticks": ""
            },
            "colorscale": [
             [
              0,
              "#0d0887"
             ],
             [
              0.1111111111111111,
              "#46039f"
             ],
             [
              0.2222222222222222,
              "#7201a8"
             ],
             [
              0.3333333333333333,
              "#9c179e"
             ],
             [
              0.4444444444444444,
              "#bd3786"
             ],
             [
              0.5555555555555556,
              "#d8576b"
             ],
             [
              0.6666666666666666,
              "#ed7953"
             ],
             [
              0.7777777777777778,
              "#fb9f3a"
             ],
             [
              0.8888888888888888,
              "#fdca26"
             ],
             [
              1,
              "#f0f921"
             ]
            ],
            "type": "histogram2dcontour"
           }
          ],
          "mesh3d": [
           {
            "colorbar": {
             "outlinewidth": 0,
             "ticks": ""
            },
            "type": "mesh3d"
           }
          ],
          "parcoords": [
           {
            "line": {
             "colorbar": {
              "outlinewidth": 0,
              "ticks": ""
             }
            },
            "type": "parcoords"
           }
          ],
          "pie": [
           {
            "automargin": true,
            "type": "pie"
           }
          ],
          "scatter": [
           {
            "fillpattern": {
             "fillmode": "overlay",
             "size": 10,
             "solidity": 0.2
            },
            "type": "scatter"
           }
          ],
          "scatter3d": [
           {
            "line": {
             "colorbar": {
              "outlinewidth": 0,
              "ticks": ""
             }
            },
            "marker": {
             "colorbar": {
              "outlinewidth": 0,
              "ticks": ""
             }
            },
            "type": "scatter3d"
           }
          ],
          "scattercarpet": [
           {
            "marker": {
             "colorbar": {
              "outlinewidth": 0,
              "ticks": ""
             }
            },
            "type": "scattercarpet"
           }
          ],
          "scattergeo": [
           {
            "marker": {
             "colorbar": {
              "outlinewidth": 0,
              "ticks": ""
             }
            },
            "type": "scattergeo"
           }
          ],
          "scattergl": [
           {
            "marker": {
             "colorbar": {
              "outlinewidth": 0,
              "ticks": ""
             }
            },
            "type": "scattergl"
           }
          ],
          "scattermapbox": [
           {
            "marker": {
             "colorbar": {
              "outlinewidth": 0,
              "ticks": ""
             }
            },
            "type": "scattermapbox"
           }
          ],
          "scatterpolar": [
           {
            "marker": {
             "colorbar": {
              "outlinewidth": 0,
              "ticks": ""
             }
            },
            "type": "scatterpolar"
           }
          ],
          "scatterpolargl": [
           {
            "marker": {
             "colorbar": {
              "outlinewidth": 0,
              "ticks": ""
             }
            },
            "type": "scatterpolargl"
           }
          ],
          "scatterternary": [
           {
            "marker": {
             "colorbar": {
              "outlinewidth": 0,
              "ticks": ""
             }
            },
            "type": "scatterternary"
           }
          ],
          "surface": [
           {
            "colorbar": {
             "outlinewidth": 0,
             "ticks": ""
            },
            "colorscale": [
             [
              0,
              "#0d0887"
             ],
             [
              0.1111111111111111,
              "#46039f"
             ],
             [
              0.2222222222222222,
              "#7201a8"
             ],
             [
              0.3333333333333333,
              "#9c179e"
             ],
             [
              0.4444444444444444,
              "#bd3786"
             ],
             [
              0.5555555555555556,
              "#d8576b"
             ],
             [
              0.6666666666666666,
              "#ed7953"
             ],
             [
              0.7777777777777778,
              "#fb9f3a"
             ],
             [
              0.8888888888888888,
              "#fdca26"
             ],
             [
              1,
              "#f0f921"
             ]
            ],
            "type": "surface"
           }
          ],
          "table": [
           {
            "cells": {
             "fill": {
              "color": "#EBF0F8"
             },
             "line": {
              "color": "white"
             }
            },
            "header": {
             "fill": {
              "color": "#C8D4E3"
             },
             "line": {
              "color": "white"
             }
            },
            "type": "table"
           }
          ]
         },
         "layout": {
          "annotationdefaults": {
           "arrowcolor": "#2a3f5f",
           "arrowhead": 0,
           "arrowwidth": 1
          },
          "autotypenumbers": "strict",
          "coloraxis": {
           "colorbar": {
            "outlinewidth": 0,
            "ticks": ""
           }
          },
          "colorscale": {
           "diverging": [
            [
             0,
             "#8e0152"
            ],
            [
             0.1,
             "#c51b7d"
            ],
            [
             0.2,
             "#de77ae"
            ],
            [
             0.3,
             "#f1b6da"
            ],
            [
             0.4,
             "#fde0ef"
            ],
            [
             0.5,
             "#f7f7f7"
            ],
            [
             0.6,
             "#e6f5d0"
            ],
            [
             0.7,
             "#b8e186"
            ],
            [
             0.8,
             "#7fbc41"
            ],
            [
             0.9,
             "#4d9221"
            ],
            [
             1,
             "#276419"
            ]
           ],
           "sequential": [
            [
             0,
             "#0d0887"
            ],
            [
             0.1111111111111111,
             "#46039f"
            ],
            [
             0.2222222222222222,
             "#7201a8"
            ],
            [
             0.3333333333333333,
             "#9c179e"
            ],
            [
             0.4444444444444444,
             "#bd3786"
            ],
            [
             0.5555555555555556,
             "#d8576b"
            ],
            [
             0.6666666666666666,
             "#ed7953"
            ],
            [
             0.7777777777777778,
             "#fb9f3a"
            ],
            [
             0.8888888888888888,
             "#fdca26"
            ],
            [
             1,
             "#f0f921"
            ]
           ],
           "sequentialminus": [
            [
             0,
             "#0d0887"
            ],
            [
             0.1111111111111111,
             "#46039f"
            ],
            [
             0.2222222222222222,
             "#7201a8"
            ],
            [
             0.3333333333333333,
             "#9c179e"
            ],
            [
             0.4444444444444444,
             "#bd3786"
            ],
            [
             0.5555555555555556,
             "#d8576b"
            ],
            [
             0.6666666666666666,
             "#ed7953"
            ],
            [
             0.7777777777777778,
             "#fb9f3a"
            ],
            [
             0.8888888888888888,
             "#fdca26"
            ],
            [
             1,
             "#f0f921"
            ]
           ]
          },
          "colorway": [
           "#636efa",
           "#EF553B",
           "#00cc96",
           "#ab63fa",
           "#FFA15A",
           "#19d3f3",
           "#FF6692",
           "#B6E880",
           "#FF97FF",
           "#FECB52"
          ],
          "font": {
           "color": "#2a3f5f"
          },
          "geo": {
           "bgcolor": "white",
           "lakecolor": "white",
           "landcolor": "#E5ECF6",
           "showlakes": true,
           "showland": true,
           "subunitcolor": "white"
          },
          "hoverlabel": {
           "align": "left"
          },
          "hovermode": "closest",
          "mapbox": {
           "style": "light"
          },
          "paper_bgcolor": "white",
          "plot_bgcolor": "#E5ECF6",
          "polar": {
           "angularaxis": {
            "gridcolor": "white",
            "linecolor": "white",
            "ticks": ""
           },
           "bgcolor": "#E5ECF6",
           "radialaxis": {
            "gridcolor": "white",
            "linecolor": "white",
            "ticks": ""
           }
          },
          "scene": {
           "xaxis": {
            "backgroundcolor": "#E5ECF6",
            "gridcolor": "white",
            "gridwidth": 2,
            "linecolor": "white",
            "showbackground": true,
            "ticks": "",
            "zerolinecolor": "white"
           },
           "yaxis": {
            "backgroundcolor": "#E5ECF6",
            "gridcolor": "white",
            "gridwidth": 2,
            "linecolor": "white",
            "showbackground": true,
            "ticks": "",
            "zerolinecolor": "white"
           },
           "zaxis": {
            "backgroundcolor": "#E5ECF6",
            "gridcolor": "white",
            "gridwidth": 2,
            "linecolor": "white",
            "showbackground": true,
            "ticks": "",
            "zerolinecolor": "white"
           }
          },
          "shapedefaults": {
           "line": {
            "color": "#2a3f5f"
           }
          },
          "ternary": {
           "aaxis": {
            "gridcolor": "white",
            "linecolor": "white",
            "ticks": ""
           },
           "baxis": {
            "gridcolor": "white",
            "linecolor": "white",
            "ticks": ""
           },
           "bgcolor": "#E5ECF6",
           "caxis": {
            "gridcolor": "white",
            "linecolor": "white",
            "ticks": ""
           }
          },
          "title": {
           "x": 0.05
          },
          "xaxis": {
           "automargin": true,
           "gridcolor": "white",
           "linecolor": "white",
           "ticks": "",
           "title": {
            "standoff": 15
           },
           "zerolinecolor": "white",
           "zerolinewidth": 2
          },
          "yaxis": {
           "automargin": true,
           "gridcolor": "white",
           "linecolor": "white",
           "ticks": "",
           "title": {
            "standoff": 15
           },
           "zerolinecolor": "white",
           "zerolinewidth": 2
          }
         }
        },
        "title": {
         "font": {
          "color": "black",
          "family": "Arial",
          "size": 24
         },
         "text": "US Workplace Private Industrys Fatalities<br>2011 - 2021",
         "x": 0.5,
         "xanchor": "center"
        },
        "xaxis": {
         "anchor": "y",
         "domain": [
          0,
          1
         ],
         "title": {
          "text": "Year"
         }
        },
        "yaxis": {
         "anchor": "x",
         "autorange": false,
         "domain": [
          0,
          1
         ],
         "fixedrange": false,
         "range": [
          "4000",
          "5000"
         ],
         "title": {
          "text": "Private Industrys"
         }
        }
       }
      }
     },
     "metadata": {},
     "output_type": "display_data"
    }
   ],
   "source": [
    "fig = px.bar(df_1, x=df_1['Year'], y=df_1[var_1], \n",
    "                text_auto=True, \n",
    "                title= 'US Workplace ' + var_1 + ' Fatalities<br>' + str(syear) + ' - ' + str(eyear))\n",
    "fig.update_yaxes(autorange=False,fixedrange=False,range=['4000','5000'])                \n",
    "fig.update_traces(marker_color='#111173')\n",
    "fig.update_layout(\n",
    "    font_family=\"Arial\",\n",
    "    font_color=\"black\",\n",
    "    title_x=0.5,\n",
    "    title_xanchor=\"center\",\n",
    "    title_font_family=\"Arial\",\n",
    "    title_font_color=\"black\",\n",
    "    title_font_size=24\n",
    "    )               \n",
    "fig.show()"
   ]
  },
  {
   "cell_type": "code",
   "execution_count": 130,
   "metadata": {},
   "outputs": [
    {
     "data": {
      "application/vnd.plotly.v1+json": {
       "config": {
        "plotlyServerURL": "https://plot.ly"
       },
       "data": [
        {
         "alignmentgroup": "True",
         "hovertemplate": "Year=%{x}<br>General Warehousing and Storage=%{y}<extra></extra>",
         "legendgroup": "",
         "marker": {
          "color": "#111173",
          "pattern": {
           "shape": ""
          }
         },
         "name": "",
         "offsetgroup": "",
         "orientation": "v",
         "showlegend": false,
         "textposition": "auto",
         "texttemplate": "%{y}",
         "type": "bar",
         "x": [
          "2021",
          "2020",
          "2019",
          "2018",
          "2017",
          "2016",
          "2015",
          "2014",
          "2013",
          "2012",
          "2011"
         ],
         "xaxis": "x",
         "y": [
          36,
          11,
          17,
          13,
          15,
          12,
          6,
          13,
          13,
          4,
          7
         ],
         "yaxis": "y"
        }
       ],
       "layout": {
        "barmode": "relative",
        "font": {
         "color": "black",
         "family": "Arial"
        },
        "legend": {
         "tracegroupgap": 0
        },
        "template": {
         "data": {
          "bar": [
           {
            "error_x": {
             "color": "#2a3f5f"
            },
            "error_y": {
             "color": "#2a3f5f"
            },
            "marker": {
             "line": {
              "color": "#E5ECF6",
              "width": 0.5
             },
             "pattern": {
              "fillmode": "overlay",
              "size": 10,
              "solidity": 0.2
             }
            },
            "type": "bar"
           }
          ],
          "barpolar": [
           {
            "marker": {
             "line": {
              "color": "#E5ECF6",
              "width": 0.5
             },
             "pattern": {
              "fillmode": "overlay",
              "size": 10,
              "solidity": 0.2
             }
            },
            "type": "barpolar"
           }
          ],
          "carpet": [
           {
            "aaxis": {
             "endlinecolor": "#2a3f5f",
             "gridcolor": "white",
             "linecolor": "white",
             "minorgridcolor": "white",
             "startlinecolor": "#2a3f5f"
            },
            "baxis": {
             "endlinecolor": "#2a3f5f",
             "gridcolor": "white",
             "linecolor": "white",
             "minorgridcolor": "white",
             "startlinecolor": "#2a3f5f"
            },
            "type": "carpet"
           }
          ],
          "choropleth": [
           {
            "colorbar": {
             "outlinewidth": 0,
             "ticks": ""
            },
            "type": "choropleth"
           }
          ],
          "contour": [
           {
            "colorbar": {
             "outlinewidth": 0,
             "ticks": ""
            },
            "colorscale": [
             [
              0,
              "#0d0887"
             ],
             [
              0.1111111111111111,
              "#46039f"
             ],
             [
              0.2222222222222222,
              "#7201a8"
             ],
             [
              0.3333333333333333,
              "#9c179e"
             ],
             [
              0.4444444444444444,
              "#bd3786"
             ],
             [
              0.5555555555555556,
              "#d8576b"
             ],
             [
              0.6666666666666666,
              "#ed7953"
             ],
             [
              0.7777777777777778,
              "#fb9f3a"
             ],
             [
              0.8888888888888888,
              "#fdca26"
             ],
             [
              1,
              "#f0f921"
             ]
            ],
            "type": "contour"
           }
          ],
          "contourcarpet": [
           {
            "colorbar": {
             "outlinewidth": 0,
             "ticks": ""
            },
            "type": "contourcarpet"
           }
          ],
          "heatmap": [
           {
            "colorbar": {
             "outlinewidth": 0,
             "ticks": ""
            },
            "colorscale": [
             [
              0,
              "#0d0887"
             ],
             [
              0.1111111111111111,
              "#46039f"
             ],
             [
              0.2222222222222222,
              "#7201a8"
             ],
             [
              0.3333333333333333,
              "#9c179e"
             ],
             [
              0.4444444444444444,
              "#bd3786"
             ],
             [
              0.5555555555555556,
              "#d8576b"
             ],
             [
              0.6666666666666666,
              "#ed7953"
             ],
             [
              0.7777777777777778,
              "#fb9f3a"
             ],
             [
              0.8888888888888888,
              "#fdca26"
             ],
             [
              1,
              "#f0f921"
             ]
            ],
            "type": "heatmap"
           }
          ],
          "heatmapgl": [
           {
            "colorbar": {
             "outlinewidth": 0,
             "ticks": ""
            },
            "colorscale": [
             [
              0,
              "#0d0887"
             ],
             [
              0.1111111111111111,
              "#46039f"
             ],
             [
              0.2222222222222222,
              "#7201a8"
             ],
             [
              0.3333333333333333,
              "#9c179e"
             ],
             [
              0.4444444444444444,
              "#bd3786"
             ],
             [
              0.5555555555555556,
              "#d8576b"
             ],
             [
              0.6666666666666666,
              "#ed7953"
             ],
             [
              0.7777777777777778,
              "#fb9f3a"
             ],
             [
              0.8888888888888888,
              "#fdca26"
             ],
             [
              1,
              "#f0f921"
             ]
            ],
            "type": "heatmapgl"
           }
          ],
          "histogram": [
           {
            "marker": {
             "pattern": {
              "fillmode": "overlay",
              "size": 10,
              "solidity": 0.2
             }
            },
            "type": "histogram"
           }
          ],
          "histogram2d": [
           {
            "colorbar": {
             "outlinewidth": 0,
             "ticks": ""
            },
            "colorscale": [
             [
              0,
              "#0d0887"
             ],
             [
              0.1111111111111111,
              "#46039f"
             ],
             [
              0.2222222222222222,
              "#7201a8"
             ],
             [
              0.3333333333333333,
              "#9c179e"
             ],
             [
              0.4444444444444444,
              "#bd3786"
             ],
             [
              0.5555555555555556,
              "#d8576b"
             ],
             [
              0.6666666666666666,
              "#ed7953"
             ],
             [
              0.7777777777777778,
              "#fb9f3a"
             ],
             [
              0.8888888888888888,
              "#fdca26"
             ],
             [
              1,
              "#f0f921"
             ]
            ],
            "type": "histogram2d"
           }
          ],
          "histogram2dcontour": [
           {
            "colorbar": {
             "outlinewidth": 0,
             "ticks": ""
            },
            "colorscale": [
             [
              0,
              "#0d0887"
             ],
             [
              0.1111111111111111,
              "#46039f"
             ],
             [
              0.2222222222222222,
              "#7201a8"
             ],
             [
              0.3333333333333333,
              "#9c179e"
             ],
             [
              0.4444444444444444,
              "#bd3786"
             ],
             [
              0.5555555555555556,
              "#d8576b"
             ],
             [
              0.6666666666666666,
              "#ed7953"
             ],
             [
              0.7777777777777778,
              "#fb9f3a"
             ],
             [
              0.8888888888888888,
              "#fdca26"
             ],
             [
              1,
              "#f0f921"
             ]
            ],
            "type": "histogram2dcontour"
           }
          ],
          "mesh3d": [
           {
            "colorbar": {
             "outlinewidth": 0,
             "ticks": ""
            },
            "type": "mesh3d"
           }
          ],
          "parcoords": [
           {
            "line": {
             "colorbar": {
              "outlinewidth": 0,
              "ticks": ""
             }
            },
            "type": "parcoords"
           }
          ],
          "pie": [
           {
            "automargin": true,
            "type": "pie"
           }
          ],
          "scatter": [
           {
            "fillpattern": {
             "fillmode": "overlay",
             "size": 10,
             "solidity": 0.2
            },
            "type": "scatter"
           }
          ],
          "scatter3d": [
           {
            "line": {
             "colorbar": {
              "outlinewidth": 0,
              "ticks": ""
             }
            },
            "marker": {
             "colorbar": {
              "outlinewidth": 0,
              "ticks": ""
             }
            },
            "type": "scatter3d"
           }
          ],
          "scattercarpet": [
           {
            "marker": {
             "colorbar": {
              "outlinewidth": 0,
              "ticks": ""
             }
            },
            "type": "scattercarpet"
           }
          ],
          "scattergeo": [
           {
            "marker": {
             "colorbar": {
              "outlinewidth": 0,
              "ticks": ""
             }
            },
            "type": "scattergeo"
           }
          ],
          "scattergl": [
           {
            "marker": {
             "colorbar": {
              "outlinewidth": 0,
              "ticks": ""
             }
            },
            "type": "scattergl"
           }
          ],
          "scattermapbox": [
           {
            "marker": {
             "colorbar": {
              "outlinewidth": 0,
              "ticks": ""
             }
            },
            "type": "scattermapbox"
           }
          ],
          "scatterpolar": [
           {
            "marker": {
             "colorbar": {
              "outlinewidth": 0,
              "ticks": ""
             }
            },
            "type": "scatterpolar"
           }
          ],
          "scatterpolargl": [
           {
            "marker": {
             "colorbar": {
              "outlinewidth": 0,
              "ticks": ""
             }
            },
            "type": "scatterpolargl"
           }
          ],
          "scatterternary": [
           {
            "marker": {
             "colorbar": {
              "outlinewidth": 0,
              "ticks": ""
             }
            },
            "type": "scatterternary"
           }
          ],
          "surface": [
           {
            "colorbar": {
             "outlinewidth": 0,
             "ticks": ""
            },
            "colorscale": [
             [
              0,
              "#0d0887"
             ],
             [
              0.1111111111111111,
              "#46039f"
             ],
             [
              0.2222222222222222,
              "#7201a8"
             ],
             [
              0.3333333333333333,
              "#9c179e"
             ],
             [
              0.4444444444444444,
              "#bd3786"
             ],
             [
              0.5555555555555556,
              "#d8576b"
             ],
             [
              0.6666666666666666,
              "#ed7953"
             ],
             [
              0.7777777777777778,
              "#fb9f3a"
             ],
             [
              0.8888888888888888,
              "#fdca26"
             ],
             [
              1,
              "#f0f921"
             ]
            ],
            "type": "surface"
           }
          ],
          "table": [
           {
            "cells": {
             "fill": {
              "color": "#EBF0F8"
             },
             "line": {
              "color": "white"
             }
            },
            "header": {
             "fill": {
              "color": "#C8D4E3"
             },
             "line": {
              "color": "white"
             }
            },
            "type": "table"
           }
          ]
         },
         "layout": {
          "annotationdefaults": {
           "arrowcolor": "#2a3f5f",
           "arrowhead": 0,
           "arrowwidth": 1
          },
          "autotypenumbers": "strict",
          "coloraxis": {
           "colorbar": {
            "outlinewidth": 0,
            "ticks": ""
           }
          },
          "colorscale": {
           "diverging": [
            [
             0,
             "#8e0152"
            ],
            [
             0.1,
             "#c51b7d"
            ],
            [
             0.2,
             "#de77ae"
            ],
            [
             0.3,
             "#f1b6da"
            ],
            [
             0.4,
             "#fde0ef"
            ],
            [
             0.5,
             "#f7f7f7"
            ],
            [
             0.6,
             "#e6f5d0"
            ],
            [
             0.7,
             "#b8e186"
            ],
            [
             0.8,
             "#7fbc41"
            ],
            [
             0.9,
             "#4d9221"
            ],
            [
             1,
             "#276419"
            ]
           ],
           "sequential": [
            [
             0,
             "#0d0887"
            ],
            [
             0.1111111111111111,
             "#46039f"
            ],
            [
             0.2222222222222222,
             "#7201a8"
            ],
            [
             0.3333333333333333,
             "#9c179e"
            ],
            [
             0.4444444444444444,
             "#bd3786"
            ],
            [
             0.5555555555555556,
             "#d8576b"
            ],
            [
             0.6666666666666666,
             "#ed7953"
            ],
            [
             0.7777777777777778,
             "#fb9f3a"
            ],
            [
             0.8888888888888888,
             "#fdca26"
            ],
            [
             1,
             "#f0f921"
            ]
           ],
           "sequentialminus": [
            [
             0,
             "#0d0887"
            ],
            [
             0.1111111111111111,
             "#46039f"
            ],
            [
             0.2222222222222222,
             "#7201a8"
            ],
            [
             0.3333333333333333,
             "#9c179e"
            ],
            [
             0.4444444444444444,
             "#bd3786"
            ],
            [
             0.5555555555555556,
             "#d8576b"
            ],
            [
             0.6666666666666666,
             "#ed7953"
            ],
            [
             0.7777777777777778,
             "#fb9f3a"
            ],
            [
             0.8888888888888888,
             "#fdca26"
            ],
            [
             1,
             "#f0f921"
            ]
           ]
          },
          "colorway": [
           "#636efa",
           "#EF553B",
           "#00cc96",
           "#ab63fa",
           "#FFA15A",
           "#19d3f3",
           "#FF6692",
           "#B6E880",
           "#FF97FF",
           "#FECB52"
          ],
          "font": {
           "color": "#2a3f5f"
          },
          "geo": {
           "bgcolor": "white",
           "lakecolor": "white",
           "landcolor": "#E5ECF6",
           "showlakes": true,
           "showland": true,
           "subunitcolor": "white"
          },
          "hoverlabel": {
           "align": "left"
          },
          "hovermode": "closest",
          "mapbox": {
           "style": "light"
          },
          "paper_bgcolor": "white",
          "plot_bgcolor": "#E5ECF6",
          "polar": {
           "angularaxis": {
            "gridcolor": "white",
            "linecolor": "white",
            "ticks": ""
           },
           "bgcolor": "#E5ECF6",
           "radialaxis": {
            "gridcolor": "white",
            "linecolor": "white",
            "ticks": ""
           }
          },
          "scene": {
           "xaxis": {
            "backgroundcolor": "#E5ECF6",
            "gridcolor": "white",
            "gridwidth": 2,
            "linecolor": "white",
            "showbackground": true,
            "ticks": "",
            "zerolinecolor": "white"
           },
           "yaxis": {
            "backgroundcolor": "#E5ECF6",
            "gridcolor": "white",
            "gridwidth": 2,
            "linecolor": "white",
            "showbackground": true,
            "ticks": "",
            "zerolinecolor": "white"
           },
           "zaxis": {
            "backgroundcolor": "#E5ECF6",
            "gridcolor": "white",
            "gridwidth": 2,
            "linecolor": "white",
            "showbackground": true,
            "ticks": "",
            "zerolinecolor": "white"
           }
          },
          "shapedefaults": {
           "line": {
            "color": "#2a3f5f"
           }
          },
          "ternary": {
           "aaxis": {
            "gridcolor": "white",
            "linecolor": "white",
            "ticks": ""
           },
           "baxis": {
            "gridcolor": "white",
            "linecolor": "white",
            "ticks": ""
           },
           "bgcolor": "#E5ECF6",
           "caxis": {
            "gridcolor": "white",
            "linecolor": "white",
            "ticks": ""
           }
          },
          "title": {
           "x": 0.05
          },
          "xaxis": {
           "automargin": true,
           "gridcolor": "white",
           "linecolor": "white",
           "ticks": "",
           "title": {
            "standoff": 15
           },
           "zerolinecolor": "white",
           "zerolinewidth": 2
          },
          "yaxis": {
           "automargin": true,
           "gridcolor": "white",
           "linecolor": "white",
           "ticks": "",
           "title": {
            "standoff": 15
           },
           "zerolinecolor": "white",
           "zerolinewidth": 2
          }
         }
        },
        "title": {
         "font": {
          "color": "black",
          "family": "Arial",
          "size": 24
         },
         "text": "US Workplace General Warehousing and Storage Fatalities<br>2011 - 2021",
         "x": 0.5,
         "xanchor": "center"
        },
        "xaxis": {
         "anchor": "y",
         "domain": [
          0,
          1
         ],
         "title": {
          "text": "Year"
         }
        },
        "yaxis": {
         "anchor": "x",
         "autorange": false,
         "domain": [
          0,
          1
         ],
         "fixedrange": false,
         "range": [
          "4000",
          "5000"
         ],
         "title": {
          "text": "General Warehousing and Storage"
         }
        }
       }
      }
     },
     "metadata": {},
     "output_type": "display_data"
    }
   ],
   "source": [
    "fig = px.bar(df_2, x=df_2['Year'], y=df_2[var_2], \n",
    "                text_auto=True, \n",
    "                title= 'US Workplace ' + var_2 + ' Fatalities<br>' + str(syear) + ' - ' + str(eyear))\n",
    "fig.update_yaxes(autorange=False,fixedrange=False,range=['4000','5000'])                \n",
    "fig.update_traces(marker_color='#111173')\n",
    "fig.update_layout(\n",
    "    font_family=\"Arial\",\n",
    "    font_color=\"black\",\n",
    "    title_x=0.5,\n",
    "    title_xanchor=\"center\",\n",
    "    title_font_family=\"Arial\",\n",
    "    title_font_color=\"black\",\n",
    "    title_font_size=24\n",
    "    )               \n",
    "fig.show()"
   ]
  },
  {
   "cell_type": "code",
   "execution_count": 128,
   "metadata": {},
   "outputs": [
    {
     "data": {
      "application/vnd.plotly.v1+json": {
       "config": {
        "plotlyServerURL": "https://plot.ly"
       },
       "data": [
        {
         "alignmentgroup": "True",
         "hovertemplate": "Year=%{x}<br>General Warehousing and Storage - Under 16 Years=%{y}<extra></extra>",
         "legendgroup": "",
         "marker": {
          "color": "#111173",
          "pattern": {
           "shape": ""
          }
         },
         "name": "",
         "offsetgroup": "",
         "orientation": "v",
         "showlegend": false,
         "textposition": "auto",
         "texttemplate": "%{y}",
         "type": "bar",
         "x": [
          2011,
          2012,
          2013,
          2014,
          2015,
          2016,
          2017,
          2018,
          2019,
          2020,
          2021
         ],
         "xaxis": "x",
         "y": [
          0,
          0,
          0,
          0,
          0,
          0,
          0,
          0,
          0,
          0,
          0
         ],
         "yaxis": "y"
        }
       ],
       "layout": {
        "barmode": "relative",
        "font": {
         "color": "black",
         "family": "Arial"
        },
        "legend": {
         "tracegroupgap": 0
        },
        "template": {
         "data": {
          "bar": [
           {
            "error_x": {
             "color": "#2a3f5f"
            },
            "error_y": {
             "color": "#2a3f5f"
            },
            "marker": {
             "line": {
              "color": "#E5ECF6",
              "width": 0.5
             },
             "pattern": {
              "fillmode": "overlay",
              "size": 10,
              "solidity": 0.2
             }
            },
            "type": "bar"
           }
          ],
          "barpolar": [
           {
            "marker": {
             "line": {
              "color": "#E5ECF6",
              "width": 0.5
             },
             "pattern": {
              "fillmode": "overlay",
              "size": 10,
              "solidity": 0.2
             }
            },
            "type": "barpolar"
           }
          ],
          "carpet": [
           {
            "aaxis": {
             "endlinecolor": "#2a3f5f",
             "gridcolor": "white",
             "linecolor": "white",
             "minorgridcolor": "white",
             "startlinecolor": "#2a3f5f"
            },
            "baxis": {
             "endlinecolor": "#2a3f5f",
             "gridcolor": "white",
             "linecolor": "white",
             "minorgridcolor": "white",
             "startlinecolor": "#2a3f5f"
            },
            "type": "carpet"
           }
          ],
          "choropleth": [
           {
            "colorbar": {
             "outlinewidth": 0,
             "ticks": ""
            },
            "type": "choropleth"
           }
          ],
          "contour": [
           {
            "colorbar": {
             "outlinewidth": 0,
             "ticks": ""
            },
            "colorscale": [
             [
              0,
              "#0d0887"
             ],
             [
              0.1111111111111111,
              "#46039f"
             ],
             [
              0.2222222222222222,
              "#7201a8"
             ],
             [
              0.3333333333333333,
              "#9c179e"
             ],
             [
              0.4444444444444444,
              "#bd3786"
             ],
             [
              0.5555555555555556,
              "#d8576b"
             ],
             [
              0.6666666666666666,
              "#ed7953"
             ],
             [
              0.7777777777777778,
              "#fb9f3a"
             ],
             [
              0.8888888888888888,
              "#fdca26"
             ],
             [
              1,
              "#f0f921"
             ]
            ],
            "type": "contour"
           }
          ],
          "contourcarpet": [
           {
            "colorbar": {
             "outlinewidth": 0,
             "ticks": ""
            },
            "type": "contourcarpet"
           }
          ],
          "heatmap": [
           {
            "colorbar": {
             "outlinewidth": 0,
             "ticks": ""
            },
            "colorscale": [
             [
              0,
              "#0d0887"
             ],
             [
              0.1111111111111111,
              "#46039f"
             ],
             [
              0.2222222222222222,
              "#7201a8"
             ],
             [
              0.3333333333333333,
              "#9c179e"
             ],
             [
              0.4444444444444444,
              "#bd3786"
             ],
             [
              0.5555555555555556,
              "#d8576b"
             ],
             [
              0.6666666666666666,
              "#ed7953"
             ],
             [
              0.7777777777777778,
              "#fb9f3a"
             ],
             [
              0.8888888888888888,
              "#fdca26"
             ],
             [
              1,
              "#f0f921"
             ]
            ],
            "type": "heatmap"
           }
          ],
          "heatmapgl": [
           {
            "colorbar": {
             "outlinewidth": 0,
             "ticks": ""
            },
            "colorscale": [
             [
              0,
              "#0d0887"
             ],
             [
              0.1111111111111111,
              "#46039f"
             ],
             [
              0.2222222222222222,
              "#7201a8"
             ],
             [
              0.3333333333333333,
              "#9c179e"
             ],
             [
              0.4444444444444444,
              "#bd3786"
             ],
             [
              0.5555555555555556,
              "#d8576b"
             ],
             [
              0.6666666666666666,
              "#ed7953"
             ],
             [
              0.7777777777777778,
              "#fb9f3a"
             ],
             [
              0.8888888888888888,
              "#fdca26"
             ],
             [
              1,
              "#f0f921"
             ]
            ],
            "type": "heatmapgl"
           }
          ],
          "histogram": [
           {
            "marker": {
             "pattern": {
              "fillmode": "overlay",
              "size": 10,
              "solidity": 0.2
             }
            },
            "type": "histogram"
           }
          ],
          "histogram2d": [
           {
            "colorbar": {
             "outlinewidth": 0,
             "ticks": ""
            },
            "colorscale": [
             [
              0,
              "#0d0887"
             ],
             [
              0.1111111111111111,
              "#46039f"
             ],
             [
              0.2222222222222222,
              "#7201a8"
             ],
             [
              0.3333333333333333,
              "#9c179e"
             ],
             [
              0.4444444444444444,
              "#bd3786"
             ],
             [
              0.5555555555555556,
              "#d8576b"
             ],
             [
              0.6666666666666666,
              "#ed7953"
             ],
             [
              0.7777777777777778,
              "#fb9f3a"
             ],
             [
              0.8888888888888888,
              "#fdca26"
             ],
             [
              1,
              "#f0f921"
             ]
            ],
            "type": "histogram2d"
           }
          ],
          "histogram2dcontour": [
           {
            "colorbar": {
             "outlinewidth": 0,
             "ticks": ""
            },
            "colorscale": [
             [
              0,
              "#0d0887"
             ],
             [
              0.1111111111111111,
              "#46039f"
             ],
             [
              0.2222222222222222,
              "#7201a8"
             ],
             [
              0.3333333333333333,
              "#9c179e"
             ],
             [
              0.4444444444444444,
              "#bd3786"
             ],
             [
              0.5555555555555556,
              "#d8576b"
             ],
             [
              0.6666666666666666,
              "#ed7953"
             ],
             [
              0.7777777777777778,
              "#fb9f3a"
             ],
             [
              0.8888888888888888,
              "#fdca26"
             ],
             [
              1,
              "#f0f921"
             ]
            ],
            "type": "histogram2dcontour"
           }
          ],
          "mesh3d": [
           {
            "colorbar": {
             "outlinewidth": 0,
             "ticks": ""
            },
            "type": "mesh3d"
           }
          ],
          "parcoords": [
           {
            "line": {
             "colorbar": {
              "outlinewidth": 0,
              "ticks": ""
             }
            },
            "type": "parcoords"
           }
          ],
          "pie": [
           {
            "automargin": true,
            "type": "pie"
           }
          ],
          "scatter": [
           {
            "fillpattern": {
             "fillmode": "overlay",
             "size": 10,
             "solidity": 0.2
            },
            "type": "scatter"
           }
          ],
          "scatter3d": [
           {
            "line": {
             "colorbar": {
              "outlinewidth": 0,
              "ticks": ""
             }
            },
            "marker": {
             "colorbar": {
              "outlinewidth": 0,
              "ticks": ""
             }
            },
            "type": "scatter3d"
           }
          ],
          "scattercarpet": [
           {
            "marker": {
             "colorbar": {
              "outlinewidth": 0,
              "ticks": ""
             }
            },
            "type": "scattercarpet"
           }
          ],
          "scattergeo": [
           {
            "marker": {
             "colorbar": {
              "outlinewidth": 0,
              "ticks": ""
             }
            },
            "type": "scattergeo"
           }
          ],
          "scattergl": [
           {
            "marker": {
             "colorbar": {
              "outlinewidth": 0,
              "ticks": ""
             }
            },
            "type": "scattergl"
           }
          ],
          "scattermapbox": [
           {
            "marker": {
             "colorbar": {
              "outlinewidth": 0,
              "ticks": ""
             }
            },
            "type": "scattermapbox"
           }
          ],
          "scatterpolar": [
           {
            "marker": {
             "colorbar": {
              "outlinewidth": 0,
              "ticks": ""
             }
            },
            "type": "scatterpolar"
           }
          ],
          "scatterpolargl": [
           {
            "marker": {
             "colorbar": {
              "outlinewidth": 0,
              "ticks": ""
             }
            },
            "type": "scatterpolargl"
           }
          ],
          "scatterternary": [
           {
            "marker": {
             "colorbar": {
              "outlinewidth": 0,
              "ticks": ""
             }
            },
            "type": "scatterternary"
           }
          ],
          "surface": [
           {
            "colorbar": {
             "outlinewidth": 0,
             "ticks": ""
            },
            "colorscale": [
             [
              0,
              "#0d0887"
             ],
             [
              0.1111111111111111,
              "#46039f"
             ],
             [
              0.2222222222222222,
              "#7201a8"
             ],
             [
              0.3333333333333333,
              "#9c179e"
             ],
             [
              0.4444444444444444,
              "#bd3786"
             ],
             [
              0.5555555555555556,
              "#d8576b"
             ],
             [
              0.6666666666666666,
              "#ed7953"
             ],
             [
              0.7777777777777778,
              "#fb9f3a"
             ],
             [
              0.8888888888888888,
              "#fdca26"
             ],
             [
              1,
              "#f0f921"
             ]
            ],
            "type": "surface"
           }
          ],
          "table": [
           {
            "cells": {
             "fill": {
              "color": "#EBF0F8"
             },
             "line": {
              "color": "white"
             }
            },
            "header": {
             "fill": {
              "color": "#C8D4E3"
             },
             "line": {
              "color": "white"
             }
            },
            "type": "table"
           }
          ]
         },
         "layout": {
          "annotationdefaults": {
           "arrowcolor": "#2a3f5f",
           "arrowhead": 0,
           "arrowwidth": 1
          },
          "autotypenumbers": "strict",
          "coloraxis": {
           "colorbar": {
            "outlinewidth": 0,
            "ticks": ""
           }
          },
          "colorscale": {
           "diverging": [
            [
             0,
             "#8e0152"
            ],
            [
             0.1,
             "#c51b7d"
            ],
            [
             0.2,
             "#de77ae"
            ],
            [
             0.3,
             "#f1b6da"
            ],
            [
             0.4,
             "#fde0ef"
            ],
            [
             0.5,
             "#f7f7f7"
            ],
            [
             0.6,
             "#e6f5d0"
            ],
            [
             0.7,
             "#b8e186"
            ],
            [
             0.8,
             "#7fbc41"
            ],
            [
             0.9,
             "#4d9221"
            ],
            [
             1,
             "#276419"
            ]
           ],
           "sequential": [
            [
             0,
             "#0d0887"
            ],
            [
             0.1111111111111111,
             "#46039f"
            ],
            [
             0.2222222222222222,
             "#7201a8"
            ],
            [
             0.3333333333333333,
             "#9c179e"
            ],
            [
             0.4444444444444444,
             "#bd3786"
            ],
            [
             0.5555555555555556,
             "#d8576b"
            ],
            [
             0.6666666666666666,
             "#ed7953"
            ],
            [
             0.7777777777777778,
             "#fb9f3a"
            ],
            [
             0.8888888888888888,
             "#fdca26"
            ],
            [
             1,
             "#f0f921"
            ]
           ],
           "sequentialminus": [
            [
             0,
             "#0d0887"
            ],
            [
             0.1111111111111111,
             "#46039f"
            ],
            [
             0.2222222222222222,
             "#7201a8"
            ],
            [
             0.3333333333333333,
             "#9c179e"
            ],
            [
             0.4444444444444444,
             "#bd3786"
            ],
            [
             0.5555555555555556,
             "#d8576b"
            ],
            [
             0.6666666666666666,
             "#ed7953"
            ],
            [
             0.7777777777777778,
             "#fb9f3a"
            ],
            [
             0.8888888888888888,
             "#fdca26"
            ],
            [
             1,
             "#f0f921"
            ]
           ]
          },
          "colorway": [
           "#636efa",
           "#EF553B",
           "#00cc96",
           "#ab63fa",
           "#FFA15A",
           "#19d3f3",
           "#FF6692",
           "#B6E880",
           "#FF97FF",
           "#FECB52"
          ],
          "font": {
           "color": "#2a3f5f"
          },
          "geo": {
           "bgcolor": "white",
           "lakecolor": "white",
           "landcolor": "#E5ECF6",
           "showlakes": true,
           "showland": true,
           "subunitcolor": "white"
          },
          "hoverlabel": {
           "align": "left"
          },
          "hovermode": "closest",
          "mapbox": {
           "style": "light"
          },
          "paper_bgcolor": "white",
          "plot_bgcolor": "#E5ECF6",
          "polar": {
           "angularaxis": {
            "gridcolor": "white",
            "linecolor": "white",
            "ticks": ""
           },
           "bgcolor": "#E5ECF6",
           "radialaxis": {
            "gridcolor": "white",
            "linecolor": "white",
            "ticks": ""
           }
          },
          "scene": {
           "xaxis": {
            "backgroundcolor": "#E5ECF6",
            "gridcolor": "white",
            "gridwidth": 2,
            "linecolor": "white",
            "showbackground": true,
            "ticks": "",
            "zerolinecolor": "white"
           },
           "yaxis": {
            "backgroundcolor": "#E5ECF6",
            "gridcolor": "white",
            "gridwidth": 2,
            "linecolor": "white",
            "showbackground": true,
            "ticks": "",
            "zerolinecolor": "white"
           },
           "zaxis": {
            "backgroundcolor": "#E5ECF6",
            "gridcolor": "white",
            "gridwidth": 2,
            "linecolor": "white",
            "showbackground": true,
            "ticks": "",
            "zerolinecolor": "white"
           }
          },
          "shapedefaults": {
           "line": {
            "color": "#2a3f5f"
           }
          },
          "ternary": {
           "aaxis": {
            "gridcolor": "white",
            "linecolor": "white",
            "ticks": ""
           },
           "baxis": {
            "gridcolor": "white",
            "linecolor": "white",
            "ticks": ""
           },
           "bgcolor": "#E5ECF6",
           "caxis": {
            "gridcolor": "white",
            "linecolor": "white",
            "ticks": ""
           }
          },
          "title": {
           "x": 0.05
          },
          "xaxis": {
           "automargin": true,
           "gridcolor": "white",
           "linecolor": "white",
           "ticks": "",
           "title": {
            "standoff": 15
           },
           "zerolinecolor": "white",
           "zerolinewidth": 2
          },
          "yaxis": {
           "automargin": true,
           "gridcolor": "white",
           "linecolor": "white",
           "ticks": "",
           "title": {
            "standoff": 15
           },
           "zerolinecolor": "white",
           "zerolinewidth": 2
          }
         }
        },
        "title": {
         "font": {
          "color": "black",
          "family": "Arial",
          "size": 24
         },
         "text": "US Workplace Under 16 Years Fatalities<br>2011 - 2021",
         "x": 0.5,
         "xanchor": "center"
        },
        "xaxis": {
         "anchor": "y",
         "domain": [
          0,
          1
         ],
         "title": {
          "text": "Year"
         }
        },
        "yaxis": {
         "anchor": "x",
         "autorange": false,
         "domain": [
          0,
          1
         ],
         "fixedrange": false,
         "range": [
          "4000",
          "5000"
         ],
         "title": {
          "text": "General Warehousing and Storage - Under 16 Years"
         }
        }
       }
      }
     },
     "metadata": {},
     "output_type": "display_data"
    }
   ],
   "source": [
    "fig = px.bar(df_3, x=df_3['Year'], y=df_3[var_2 + ' - '+ var_3], \n",
    "                text_auto=True, \n",
    "                title= 'US Workplace ' + var_3 + ' Fatalities<br>' + str(syear) + ' - ' + str(eyear))\n",
    "fig.update_yaxes(autorange=False,fixedrange=False,range=['4000','5000'])                \n",
    "fig.update_traces(marker_color='#111173')\n",
    "fig.update_layout(\n",
    "    font_family=\"Arial\",\n",
    "    font_color=\"black\",\n",
    "    title_x=0.5,\n",
    "    title_xanchor=\"center\",\n",
    "    title_font_family=\"Arial\",\n",
    "    title_font_color=\"black\",\n",
    "    title_font_size=24\n",
    "    )               \n",
    "fig.show()"
   ]
  },
  {
   "cell_type": "code",
   "execution_count": 122,
   "metadata": {},
   "outputs": [
    {
     "data": {
      "application/vnd.plotly.v1+json": {
       "config": {
        "plotlyServerURL": "https://plot.ly"
       },
       "data": [
        {
         "alignmentgroup": "True",
         "hovertemplate": "Year=%{x}<br>General Warehousing and Storage - 18 to 19 Years=%{y}<extra></extra>",
         "legendgroup": "",
         "marker": {
          "color": "#111173",
          "pattern": {
           "shape": ""
          }
         },
         "name": "",
         "offsetgroup": "",
         "orientation": "v",
         "showlegend": false,
         "textposition": "auto",
         "texttemplate": "%{y}",
         "type": "bar",
         "x": [
          "2011",
          "2012",
          "2013",
          "2014",
          "2015",
          "2016",
          "2017",
          "2018",
          "2019",
          "2020",
          "2021"
         ],
         "xaxis": "x",
         "y": [
          0,
          0,
          0,
          0,
          1,
          0,
          0,
          0,
          0,
          0,
          0
         ],
         "yaxis": "y"
        }
       ],
       "layout": {
        "barmode": "relative",
        "font": {
         "color": "black",
         "family": "Arial"
        },
        "legend": {
         "tracegroupgap": 0
        },
        "template": {
         "data": {
          "bar": [
           {
            "error_x": {
             "color": "#2a3f5f"
            },
            "error_y": {
             "color": "#2a3f5f"
            },
            "marker": {
             "line": {
              "color": "#E5ECF6",
              "width": 0.5
             },
             "pattern": {
              "fillmode": "overlay",
              "size": 10,
              "solidity": 0.2
             }
            },
            "type": "bar"
           }
          ],
          "barpolar": [
           {
            "marker": {
             "line": {
              "color": "#E5ECF6",
              "width": 0.5
             },
             "pattern": {
              "fillmode": "overlay",
              "size": 10,
              "solidity": 0.2
             }
            },
            "type": "barpolar"
           }
          ],
          "carpet": [
           {
            "aaxis": {
             "endlinecolor": "#2a3f5f",
             "gridcolor": "white",
             "linecolor": "white",
             "minorgridcolor": "white",
             "startlinecolor": "#2a3f5f"
            },
            "baxis": {
             "endlinecolor": "#2a3f5f",
             "gridcolor": "white",
             "linecolor": "white",
             "minorgridcolor": "white",
             "startlinecolor": "#2a3f5f"
            },
            "type": "carpet"
           }
          ],
          "choropleth": [
           {
            "colorbar": {
             "outlinewidth": 0,
             "ticks": ""
            },
            "type": "choropleth"
           }
          ],
          "contour": [
           {
            "colorbar": {
             "outlinewidth": 0,
             "ticks": ""
            },
            "colorscale": [
             [
              0,
              "#0d0887"
             ],
             [
              0.1111111111111111,
              "#46039f"
             ],
             [
              0.2222222222222222,
              "#7201a8"
             ],
             [
              0.3333333333333333,
              "#9c179e"
             ],
             [
              0.4444444444444444,
              "#bd3786"
             ],
             [
              0.5555555555555556,
              "#d8576b"
             ],
             [
              0.6666666666666666,
              "#ed7953"
             ],
             [
              0.7777777777777778,
              "#fb9f3a"
             ],
             [
              0.8888888888888888,
              "#fdca26"
             ],
             [
              1,
              "#f0f921"
             ]
            ],
            "type": "contour"
           }
          ],
          "contourcarpet": [
           {
            "colorbar": {
             "outlinewidth": 0,
             "ticks": ""
            },
            "type": "contourcarpet"
           }
          ],
          "heatmap": [
           {
            "colorbar": {
             "outlinewidth": 0,
             "ticks": ""
            },
            "colorscale": [
             [
              0,
              "#0d0887"
             ],
             [
              0.1111111111111111,
              "#46039f"
             ],
             [
              0.2222222222222222,
              "#7201a8"
             ],
             [
              0.3333333333333333,
              "#9c179e"
             ],
             [
              0.4444444444444444,
              "#bd3786"
             ],
             [
              0.5555555555555556,
              "#d8576b"
             ],
             [
              0.6666666666666666,
              "#ed7953"
             ],
             [
              0.7777777777777778,
              "#fb9f3a"
             ],
             [
              0.8888888888888888,
              "#fdca26"
             ],
             [
              1,
              "#f0f921"
             ]
            ],
            "type": "heatmap"
           }
          ],
          "heatmapgl": [
           {
            "colorbar": {
             "outlinewidth": 0,
             "ticks": ""
            },
            "colorscale": [
             [
              0,
              "#0d0887"
             ],
             [
              0.1111111111111111,
              "#46039f"
             ],
             [
              0.2222222222222222,
              "#7201a8"
             ],
             [
              0.3333333333333333,
              "#9c179e"
             ],
             [
              0.4444444444444444,
              "#bd3786"
             ],
             [
              0.5555555555555556,
              "#d8576b"
             ],
             [
              0.6666666666666666,
              "#ed7953"
             ],
             [
              0.7777777777777778,
              "#fb9f3a"
             ],
             [
              0.8888888888888888,
              "#fdca26"
             ],
             [
              1,
              "#f0f921"
             ]
            ],
            "type": "heatmapgl"
           }
          ],
          "histogram": [
           {
            "marker": {
             "pattern": {
              "fillmode": "overlay",
              "size": 10,
              "solidity": 0.2
             }
            },
            "type": "histogram"
           }
          ],
          "histogram2d": [
           {
            "colorbar": {
             "outlinewidth": 0,
             "ticks": ""
            },
            "colorscale": [
             [
              0,
              "#0d0887"
             ],
             [
              0.1111111111111111,
              "#46039f"
             ],
             [
              0.2222222222222222,
              "#7201a8"
             ],
             [
              0.3333333333333333,
              "#9c179e"
             ],
             [
              0.4444444444444444,
              "#bd3786"
             ],
             [
              0.5555555555555556,
              "#d8576b"
             ],
             [
              0.6666666666666666,
              "#ed7953"
             ],
             [
              0.7777777777777778,
              "#fb9f3a"
             ],
             [
              0.8888888888888888,
              "#fdca26"
             ],
             [
              1,
              "#f0f921"
             ]
            ],
            "type": "histogram2d"
           }
          ],
          "histogram2dcontour": [
           {
            "colorbar": {
             "outlinewidth": 0,
             "ticks": ""
            },
            "colorscale": [
             [
              0,
              "#0d0887"
             ],
             [
              0.1111111111111111,
              "#46039f"
             ],
             [
              0.2222222222222222,
              "#7201a8"
             ],
             [
              0.3333333333333333,
              "#9c179e"
             ],
             [
              0.4444444444444444,
              "#bd3786"
             ],
             [
              0.5555555555555556,
              "#d8576b"
             ],
             [
              0.6666666666666666,
              "#ed7953"
             ],
             [
              0.7777777777777778,
              "#fb9f3a"
             ],
             [
              0.8888888888888888,
              "#fdca26"
             ],
             [
              1,
              "#f0f921"
             ]
            ],
            "type": "histogram2dcontour"
           }
          ],
          "mesh3d": [
           {
            "colorbar": {
             "outlinewidth": 0,
             "ticks": ""
            },
            "type": "mesh3d"
           }
          ],
          "parcoords": [
           {
            "line": {
             "colorbar": {
              "outlinewidth": 0,
              "ticks": ""
             }
            },
            "type": "parcoords"
           }
          ],
          "pie": [
           {
            "automargin": true,
            "type": "pie"
           }
          ],
          "scatter": [
           {
            "fillpattern": {
             "fillmode": "overlay",
             "size": 10,
             "solidity": 0.2
            },
            "type": "scatter"
           }
          ],
          "scatter3d": [
           {
            "line": {
             "colorbar": {
              "outlinewidth": 0,
              "ticks": ""
             }
            },
            "marker": {
             "colorbar": {
              "outlinewidth": 0,
              "ticks": ""
             }
            },
            "type": "scatter3d"
           }
          ],
          "scattercarpet": [
           {
            "marker": {
             "colorbar": {
              "outlinewidth": 0,
              "ticks": ""
             }
            },
            "type": "scattercarpet"
           }
          ],
          "scattergeo": [
           {
            "marker": {
             "colorbar": {
              "outlinewidth": 0,
              "ticks": ""
             }
            },
            "type": "scattergeo"
           }
          ],
          "scattergl": [
           {
            "marker": {
             "colorbar": {
              "outlinewidth": 0,
              "ticks": ""
             }
            },
            "type": "scattergl"
           }
          ],
          "scattermapbox": [
           {
            "marker": {
             "colorbar": {
              "outlinewidth": 0,
              "ticks": ""
             }
            },
            "type": "scattermapbox"
           }
          ],
          "scatterpolar": [
           {
            "marker": {
             "colorbar": {
              "outlinewidth": 0,
              "ticks": ""
             }
            },
            "type": "scatterpolar"
           }
          ],
          "scatterpolargl": [
           {
            "marker": {
             "colorbar": {
              "outlinewidth": 0,
              "ticks": ""
             }
            },
            "type": "scatterpolargl"
           }
          ],
          "scatterternary": [
           {
            "marker": {
             "colorbar": {
              "outlinewidth": 0,
              "ticks": ""
             }
            },
            "type": "scatterternary"
           }
          ],
          "surface": [
           {
            "colorbar": {
             "outlinewidth": 0,
             "ticks": ""
            },
            "colorscale": [
             [
              0,
              "#0d0887"
             ],
             [
              0.1111111111111111,
              "#46039f"
             ],
             [
              0.2222222222222222,
              "#7201a8"
             ],
             [
              0.3333333333333333,
              "#9c179e"
             ],
             [
              0.4444444444444444,
              "#bd3786"
             ],
             [
              0.5555555555555556,
              "#d8576b"
             ],
             [
              0.6666666666666666,
              "#ed7953"
             ],
             [
              0.7777777777777778,
              "#fb9f3a"
             ],
             [
              0.8888888888888888,
              "#fdca26"
             ],
             [
              1,
              "#f0f921"
             ]
            ],
            "type": "surface"
           }
          ],
          "table": [
           {
            "cells": {
             "fill": {
              "color": "#EBF0F8"
             },
             "line": {
              "color": "white"
             }
            },
            "header": {
             "fill": {
              "color": "#C8D4E3"
             },
             "line": {
              "color": "white"
             }
            },
            "type": "table"
           }
          ]
         },
         "layout": {
          "annotationdefaults": {
           "arrowcolor": "#2a3f5f",
           "arrowhead": 0,
           "arrowwidth": 1
          },
          "autotypenumbers": "strict",
          "coloraxis": {
           "colorbar": {
            "outlinewidth": 0,
            "ticks": ""
           }
          },
          "colorscale": {
           "diverging": [
            [
             0,
             "#8e0152"
            ],
            [
             0.1,
             "#c51b7d"
            ],
            [
             0.2,
             "#de77ae"
            ],
            [
             0.3,
             "#f1b6da"
            ],
            [
             0.4,
             "#fde0ef"
            ],
            [
             0.5,
             "#f7f7f7"
            ],
            [
             0.6,
             "#e6f5d0"
            ],
            [
             0.7,
             "#b8e186"
            ],
            [
             0.8,
             "#7fbc41"
            ],
            [
             0.9,
             "#4d9221"
            ],
            [
             1,
             "#276419"
            ]
           ],
           "sequential": [
            [
             0,
             "#0d0887"
            ],
            [
             0.1111111111111111,
             "#46039f"
            ],
            [
             0.2222222222222222,
             "#7201a8"
            ],
            [
             0.3333333333333333,
             "#9c179e"
            ],
            [
             0.4444444444444444,
             "#bd3786"
            ],
            [
             0.5555555555555556,
             "#d8576b"
            ],
            [
             0.6666666666666666,
             "#ed7953"
            ],
            [
             0.7777777777777778,
             "#fb9f3a"
            ],
            [
             0.8888888888888888,
             "#fdca26"
            ],
            [
             1,
             "#f0f921"
            ]
           ],
           "sequentialminus": [
            [
             0,
             "#0d0887"
            ],
            [
             0.1111111111111111,
             "#46039f"
            ],
            [
             0.2222222222222222,
             "#7201a8"
            ],
            [
             0.3333333333333333,
             "#9c179e"
            ],
            [
             0.4444444444444444,
             "#bd3786"
            ],
            [
             0.5555555555555556,
             "#d8576b"
            ],
            [
             0.6666666666666666,
             "#ed7953"
            ],
            [
             0.7777777777777778,
             "#fb9f3a"
            ],
            [
             0.8888888888888888,
             "#fdca26"
            ],
            [
             1,
             "#f0f921"
            ]
           ]
          },
          "colorway": [
           "#636efa",
           "#EF553B",
           "#00cc96",
           "#ab63fa",
           "#FFA15A",
           "#19d3f3",
           "#FF6692",
           "#B6E880",
           "#FF97FF",
           "#FECB52"
          ],
          "font": {
           "color": "#2a3f5f"
          },
          "geo": {
           "bgcolor": "white",
           "lakecolor": "white",
           "landcolor": "#E5ECF6",
           "showlakes": true,
           "showland": true,
           "subunitcolor": "white"
          },
          "hoverlabel": {
           "align": "left"
          },
          "hovermode": "closest",
          "mapbox": {
           "style": "light"
          },
          "paper_bgcolor": "white",
          "plot_bgcolor": "#E5ECF6",
          "polar": {
           "angularaxis": {
            "gridcolor": "white",
            "linecolor": "white",
            "ticks": ""
           },
           "bgcolor": "#E5ECF6",
           "radialaxis": {
            "gridcolor": "white",
            "linecolor": "white",
            "ticks": ""
           }
          },
          "scene": {
           "xaxis": {
            "backgroundcolor": "#E5ECF6",
            "gridcolor": "white",
            "gridwidth": 2,
            "linecolor": "white",
            "showbackground": true,
            "ticks": "",
            "zerolinecolor": "white"
           },
           "yaxis": {
            "backgroundcolor": "#E5ECF6",
            "gridcolor": "white",
            "gridwidth": 2,
            "linecolor": "white",
            "showbackground": true,
            "ticks": "",
            "zerolinecolor": "white"
           },
           "zaxis": {
            "backgroundcolor": "#E5ECF6",
            "gridcolor": "white",
            "gridwidth": 2,
            "linecolor": "white",
            "showbackground": true,
            "ticks": "",
            "zerolinecolor": "white"
           }
          },
          "shapedefaults": {
           "line": {
            "color": "#2a3f5f"
           }
          },
          "ternary": {
           "aaxis": {
            "gridcolor": "white",
            "linecolor": "white",
            "ticks": ""
           },
           "baxis": {
            "gridcolor": "white",
            "linecolor": "white",
            "ticks": ""
           },
           "bgcolor": "#E5ECF6",
           "caxis": {
            "gridcolor": "white",
            "linecolor": "white",
            "ticks": ""
           }
          },
          "title": {
           "x": 0.05
          },
          "xaxis": {
           "automargin": true,
           "gridcolor": "white",
           "linecolor": "white",
           "ticks": "",
           "title": {
            "standoff": 15
           },
           "zerolinecolor": "white",
           "zerolinewidth": 2
          },
          "yaxis": {
           "automargin": true,
           "gridcolor": "white",
           "linecolor": "white",
           "ticks": "",
           "title": {
            "standoff": 15
           },
           "zerolinecolor": "white",
           "zerolinewidth": 2
          }
         }
        },
        "title": {
         "font": {
          "color": "black",
          "family": "Arial",
          "size": 24
         },
         "text": "US Workplace 18 to 19 Years Fatalities<br>2011 - 2021",
         "x": 0.5,
         "xanchor": "center"
        },
        "xaxis": {
         "anchor": "y",
         "domain": [
          0,
          1
         ],
         "title": {
          "text": "Year"
         }
        },
        "yaxis": {
         "anchor": "x",
         "autorange": false,
         "domain": [
          0,
          1
         ],
         "fixedrange": false,
         "range": [
          "0",
          "5000"
         ],
         "title": {
          "text": "General Warehousing and Storage - 18 to 19 Years"
         }
        }
       }
      }
     },
     "metadata": {},
     "output_type": "display_data"
    }
   ],
   "source": [
    "fig = px.bar(df_5, x=df_5['Year'], y=df_5[var_2 + ' - '+ var_5], \n",
    "                text_auto=True, \n",
    "                title= 'US Workplace ' + var_5 + ' Fatalities<br>' + str(syear) + ' - ' + str(eyear))\n",
    "fig.update_yaxes(autorange=False,fixedrange=False,range=['0','5000'])                \n",
    "fig.update_traces(marker_color='#111173')\n",
    "fig.update_layout(\n",
    "    font_family=\"Arial\",\n",
    "    font_color=\"black\",\n",
    "    title_x=0.5,\n",
    "    title_xanchor=\"center\",\n",
    "    title_font_family=\"Arial\",\n",
    "    title_font_color=\"black\",\n",
    "    title_font_size=24\n",
    "    )               \n",
    "fig.show()"
   ]
  }
 ],
 "metadata": {
  "kernelspec": {
   "display_name": "venv",
   "language": "python",
   "name": "python3"
  },
  "language_info": {
   "codemirror_mode": {
    "name": "ipython",
    "version": 3
   },
   "file_extension": ".py",
   "mimetype": "text/x-python",
   "name": "python",
   "nbconvert_exporter": "python",
   "pygments_lexer": "ipython3",
   "version": "3.10.10"
  },
  "orig_nbformat": 4,
  "vscode": {
   "interpreter": {
    "hash": "1b407932afa721f5fee101918bf361d199cf35fe9af70f1e8088fb21ae71f354"
   }
  }
 },
 "nbformat": 4,
 "nbformat_minor": 2
}
